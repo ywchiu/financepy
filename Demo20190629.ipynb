{
 "cells": [
  {
   "cell_type": "markdown",
   "metadata": {},
   "source": [
    "## Python Basic"
   ]
  },
  {
   "cell_type": "code",
   "execution_count": 1,
   "metadata": {},
   "outputs": [
    {
     "data": {
      "text/plain": [
       "5"
      ]
     },
     "execution_count": 1,
     "metadata": {},
     "output_type": "execute_result"
    }
   ],
   "source": [
    "a = 3\n",
    "b = 2\n",
    "a + b"
   ]
  },
  {
   "cell_type": "markdown",
   "metadata": {},
   "source": [
    "## 證交所網路爬蟲"
   ]
  },
  {
   "cell_type": "code",
   "execution_count": 2,
   "metadata": {},
   "outputs": [
    {
     "data": {
      "text/plain": [
       "<Response [200]>"
      ]
     },
     "execution_count": 2,
     "metadata": {},
     "output_type": "execute_result"
    }
   ],
   "source": [
    "import requests\n",
    "url = 'https://www.twse.com.tw/exchangeReport/MI_INDEX?response=json&date=20190628&type=ALLBUT0999&_=1561775069945'\n",
    "res = requests.get(url)\n",
    "res"
   ]
  },
  {
   "cell_type": "code",
   "execution_count": 5,
   "metadata": {},
   "outputs": [],
   "source": [
    "# .json => 將 JSON 資料轉換為 Python 字典\n",
    "jd = res.json()"
   ]
  },
  {
   "cell_type": "code",
   "execution_count": 7,
   "metadata": {},
   "outputs": [
    {
     "data": {
      "text/plain": [
       "dict_keys(['data4', 'fields1', 'subtitle4', 'notes4', 'data5', 'date', 'alignsStyle1', 'groups5', 'fields4', 'stat', 'alignsStyle2', 'data3', 'data1', 'fields3', 'subtitle5', 'fields2', 'alignsStyle4', 'subtitle1', 'fields5', 'alignsStyle5', 'data2', 'params', 'alignsStyle3', 'notes5'])"
      ]
     },
     "execution_count": 7,
     "metadata": {},
     "output_type": "execute_result"
    }
   ],
   "source": [
    "# 列出資料所有的索引\n",
    "jd.keys()"
   ]
  },
  {
   "cell_type": "code",
   "execution_count": 11,
   "metadata": {},
   "outputs": [
    {
     "data": {
      "text/plain": [
       "['證券代號',\n",
       " '證券名稱',\n",
       " '成交股數',\n",
       " '成交筆數',\n",
       " '成交金額',\n",
       " '開盤價',\n",
       " '最高價',\n",
       " '最低價',\n",
       " '收盤價',\n",
       " '漲跌(+/-)',\n",
       " '漲跌價差',\n",
       " '最後揭示買價',\n",
       " '最後揭示買量',\n",
       " '最後揭示賣價',\n",
       " '最後揭示賣量',\n",
       " '本益比']"
      ]
     },
     "execution_count": 11,
     "metadata": {},
     "output_type": "execute_result"
    }
   ],
   "source": [
    "# 資料欄位\n",
    "jd['fields5']"
   ]
  },
  {
   "cell_type": "code",
   "execution_count": 14,
   "metadata": {},
   "outputs": [
    {
     "data": {
      "text/html": [
       "<div>\n",
       "<style scoped>\n",
       "    .dataframe tbody tr th:only-of-type {\n",
       "        vertical-align: middle;\n",
       "    }\n",
       "\n",
       "    .dataframe tbody tr th {\n",
       "        vertical-align: top;\n",
       "    }\n",
       "\n",
       "    .dataframe thead th {\n",
       "        text-align: right;\n",
       "    }\n",
       "</style>\n",
       "<table border=\"1\" class=\"dataframe\">\n",
       "  <thead>\n",
       "    <tr style=\"text-align: right;\">\n",
       "      <th></th>\n",
       "      <th>證券代號</th>\n",
       "      <th>證券名稱</th>\n",
       "      <th>成交股數</th>\n",
       "      <th>成交筆數</th>\n",
       "      <th>成交金額</th>\n",
       "      <th>開盤價</th>\n",
       "      <th>最高價</th>\n",
       "      <th>最低價</th>\n",
       "      <th>收盤價</th>\n",
       "      <th>漲跌(+/-)</th>\n",
       "      <th>漲跌價差</th>\n",
       "      <th>最後揭示買價</th>\n",
       "      <th>最後揭示買量</th>\n",
       "      <th>最後揭示賣價</th>\n",
       "      <th>最後揭示賣量</th>\n",
       "      <th>本益比</th>\n",
       "    </tr>\n",
       "  </thead>\n",
       "  <tbody>\n",
       "    <tr>\n",
       "      <th>0</th>\n",
       "      <td>0050</td>\n",
       "      <td>元大台灣50</td>\n",
       "      <td>3,940,686</td>\n",
       "      <td>1,867</td>\n",
       "      <td>319,369,533</td>\n",
       "      <td>81.45</td>\n",
       "      <td>81.55</td>\n",
       "      <td>80.85</td>\n",
       "      <td>80.90</td>\n",
       "      <td>&lt;p style= color:green&gt;-&lt;/p&gt;</td>\n",
       "      <td>0.60</td>\n",
       "      <td>80.90</td>\n",
       "      <td>246</td>\n",
       "      <td>80.95</td>\n",
       "      <td>2</td>\n",
       "      <td>0.00</td>\n",
       "    </tr>\n",
       "    <tr>\n",
       "      <th>1</th>\n",
       "      <td>0051</td>\n",
       "      <td>元大中型100</td>\n",
       "      <td>6,098</td>\n",
       "      <td>7</td>\n",
       "      <td>195,904</td>\n",
       "      <td>32.20</td>\n",
       "      <td>32.20</td>\n",
       "      <td>32.10</td>\n",
       "      <td>32.10</td>\n",
       "      <td>&lt;p style= color:green&gt;-&lt;/p&gt;</td>\n",
       "      <td>0.08</td>\n",
       "      <td>32.10</td>\n",
       "      <td>1</td>\n",
       "      <td>32.20</td>\n",
       "      <td>4</td>\n",
       "      <td>0.00</td>\n",
       "    </tr>\n",
       "    <tr>\n",
       "      <th>2</th>\n",
       "      <td>0052</td>\n",
       "      <td>富邦科技</td>\n",
       "      <td>107,219</td>\n",
       "      <td>11</td>\n",
       "      <td>5,694,107</td>\n",
       "      <td>53.45</td>\n",
       "      <td>53.45</td>\n",
       "      <td>52.95</td>\n",
       "      <td>53.10</td>\n",
       "      <td>&lt;p style= color:green&gt;-&lt;/p&gt;</td>\n",
       "      <td>0.35</td>\n",
       "      <td>52.95</td>\n",
       "      <td>1</td>\n",
       "      <td>53.30</td>\n",
       "      <td>10</td>\n",
       "      <td>0.00</td>\n",
       "    </tr>\n",
       "    <tr>\n",
       "      <th>3</th>\n",
       "      <td>0053</td>\n",
       "      <td>元大電子</td>\n",
       "      <td>59,000</td>\n",
       "      <td>7</td>\n",
       "      <td>2,010,260</td>\n",
       "      <td>34.17</td>\n",
       "      <td>34.17</td>\n",
       "      <td>34.01</td>\n",
       "      <td>34.01</td>\n",
       "      <td>&lt;p style= color:green&gt;-&lt;/p&gt;</td>\n",
       "      <td>0.16</td>\n",
       "      <td>34.00</td>\n",
       "      <td>30</td>\n",
       "      <td>34.10</td>\n",
       "      <td>1</td>\n",
       "      <td>0.00</td>\n",
       "    </tr>\n",
       "    <tr>\n",
       "      <th>4</th>\n",
       "      <td>0054</td>\n",
       "      <td>元大台商50</td>\n",
       "      <td>5,000</td>\n",
       "      <td>3</td>\n",
       "      <td>111,080</td>\n",
       "      <td>22.20</td>\n",
       "      <td>22.31</td>\n",
       "      <td>22.19</td>\n",
       "      <td>22.31</td>\n",
       "      <td>&lt;p style= color:red&gt;+&lt;/p&gt;</td>\n",
       "      <td>0.11</td>\n",
       "      <td>22.20</td>\n",
       "      <td>75</td>\n",
       "      <td>22.31</td>\n",
       "      <td>8</td>\n",
       "      <td>0.00</td>\n",
       "    </tr>\n",
       "  </tbody>\n",
       "</table>\n",
       "</div>"
      ],
      "text/plain": [
       "   證券代號     證券名稱       成交股數   成交筆數         成交金額    開盤價    最高價    最低價    收盤價  \\\n",
       "0  0050   元大台灣50  3,940,686  1,867  319,369,533  81.45  81.55  80.85  80.90   \n",
       "1  0051  元大中型100      6,098      7      195,904  32.20  32.20  32.10  32.10   \n",
       "2  0052     富邦科技    107,219     11    5,694,107  53.45  53.45  52.95  53.10   \n",
       "3  0053     元大電子     59,000      7    2,010,260  34.17  34.17  34.01  34.01   \n",
       "4  0054   元大台商50      5,000      3      111,080  22.20  22.31  22.19  22.31   \n",
       "\n",
       "                       漲跌(+/-)  漲跌價差 最後揭示買價 最後揭示買量 最後揭示賣價 最後揭示賣量   本益比  \n",
       "0  <p style= color:green>-</p>  0.60  80.90    246  80.95      2  0.00  \n",
       "1  <p style= color:green>-</p>  0.08  32.10      1  32.20      4  0.00  \n",
       "2  <p style= color:green>-</p>  0.35  52.95      1  53.30     10  0.00  \n",
       "3  <p style= color:green>-</p>  0.16  34.00     30  34.10      1  0.00  \n",
       "4    <p style= color:red>+</p>  0.11  22.20     75  22.31      8  0.00  "
      ]
     },
     "execution_count": 14,
     "metadata": {},
     "output_type": "execute_result"
    }
   ],
   "source": [
    "import pandas\n",
    "df = pandas.DataFrame(jd['data5'])\n",
    "df.columns = jd['fields5']\n",
    "df.head()"
   ]
  },
  {
   "cell_type": "code",
   "execution_count": 15,
   "metadata": {},
   "outputs": [
    {
     "data": {
      "text/plain": [
       "1096"
      ]
     },
     "execution_count": 15,
     "metadata": {},
     "output_type": "execute_result"
    }
   ],
   "source": [
    "len(df)"
   ]
  },
  {
   "cell_type": "markdown",
   "metadata": {},
   "source": [
    "## HTTP Status Code\n",
    "- https://zh.wikipedia.org/wiki/HTTP%E7%8A%B6%E6%80%81%E7%A0%81"
   ]
  },
  {
   "cell_type": "markdown",
   "metadata": {},
   "source": [
    "## 日期\n",
    "- https://docs.python.org/3/library/datetime.html#strftime-and-strptime-behavior"
   ]
  },
  {
   "cell_type": "code",
   "execution_count": 16,
   "metadata": {},
   "outputs": [
    {
     "data": {
      "text/plain": [
       "datetime.datetime(2019, 6, 29, 11, 0, 57, 463442)"
      ]
     },
     "execution_count": 16,
     "metadata": {},
     "output_type": "execute_result"
    }
   ],
   "source": [
    "from datetime import datetime\n",
    "datetime.now()"
   ]
  },
  {
   "cell_type": "code",
   "execution_count": 17,
   "metadata": {},
   "outputs": [
    {
     "data": {
      "text/plain": [
       "'20190629'"
      ]
     },
     "execution_count": 17,
     "metadata": {},
     "output_type": "execute_result"
    }
   ],
   "source": [
    "datetime.now().strftime('%Y%m%d')"
   ]
  },
  {
   "cell_type": "code",
   "execution_count": 18,
   "metadata": {},
   "outputs": [
    {
     "name": "stdout",
     "output_type": "stream",
     "text": [
      "20190629\n",
      "20190628\n",
      "20190627\n",
      "20190626\n",
      "20190625\n",
      "20190624\n",
      "20190623\n",
      "20190622\n",
      "20190621\n",
      "20190620\n"
     ]
    }
   ],
   "source": [
    "from datetime import timedelta\n",
    "current_time = datetime.now()\n",
    "for i in range(10):\n",
    "    dt = current_time - timedelta(days = i)\n",
    "    print(dt.strftime('%Y%m%d'))"
   ]
  },
  {
   "cell_type": "code",
   "execution_count": 21,
   "metadata": {},
   "outputs": [],
   "source": []
  },
  {
   "cell_type": "code",
   "execution_count": 24,
   "metadata": {},
   "outputs": [
    {
     "name": "stdout",
     "output_type": "stream",
     "text": [
      "https://www.twse.com.tw/exchangeReport/MI_INDEX?response=json&date=20190629&type=ALLBUT0999\n"
     ]
    },
    {
     "ename": "KeyError",
     "evalue": "'data5'",
     "output_type": "error",
     "traceback": [
      "\u001b[0;31m---------------------------------------------------------------------------\u001b[0m",
      "\u001b[0;31mKeyError\u001b[0m                                  Traceback (most recent call last)",
      "\u001b[0;32m<ipython-input-24-8e01382233a2>\u001b[0m in \u001b[0;36m<module>\u001b[0;34m()\u001b[0m\n\u001b[1;32m      9\u001b[0m     \u001b[0mres\u001b[0m \u001b[0;34m=\u001b[0m \u001b[0mrequests\u001b[0m\u001b[0;34m.\u001b[0m\u001b[0mget\u001b[0m\u001b[0;34m(\u001b[0m\u001b[0murl\u001b[0m\u001b[0;34m)\u001b[0m\u001b[0;34m\u001b[0m\u001b[0m\n\u001b[1;32m     10\u001b[0m     \u001b[0mjd\u001b[0m  \u001b[0;34m=\u001b[0m \u001b[0mres\u001b[0m\u001b[0;34m.\u001b[0m\u001b[0mjson\u001b[0m\u001b[0;34m(\u001b[0m\u001b[0;34m)\u001b[0m\u001b[0;34m\u001b[0m\u001b[0m\n\u001b[0;32m---> 11\u001b[0;31m     \u001b[0mdf\u001b[0m \u001b[0;34m=\u001b[0m \u001b[0mpandas\u001b[0m\u001b[0;34m.\u001b[0m\u001b[0mDataFrame\u001b[0m\u001b[0;34m(\u001b[0m\u001b[0mjd\u001b[0m\u001b[0;34m[\u001b[0m\u001b[0;34m'data5'\u001b[0m\u001b[0;34m]\u001b[0m\u001b[0;34m)\u001b[0m\u001b[0;34m\u001b[0m\u001b[0m\n\u001b[0m\u001b[1;32m     12\u001b[0m     \u001b[0mdf\u001b[0m\u001b[0;34m.\u001b[0m\u001b[0mcolumns\u001b[0m \u001b[0;34m=\u001b[0m \u001b[0mjd\u001b[0m\u001b[0;34m[\u001b[0m\u001b[0;34m'fields5'\u001b[0m\u001b[0;34m]\u001b[0m\u001b[0;34m\u001b[0m\u001b[0m\n\u001b[1;32m     13\u001b[0m     \u001b[0mdataary\u001b[0m\u001b[0;34m.\u001b[0m\u001b[0mappend\u001b[0m\u001b[0;34m(\u001b[0m\u001b[0mdf\u001b[0m\u001b[0;34m)\u001b[0m\u001b[0;34m\u001b[0m\u001b[0m\n",
      "\u001b[0;31mKeyError\u001b[0m: 'data5'"
     ]
    }
   ],
   "source": [
    "from datetime import timedelta\n",
    "current_time = datetime.now()\n",
    "dataary = []\n",
    "for i in range(2):\n",
    "    dt = current_time - timedelta(days = i)\n",
    "    date = dt.strftime('%Y%m%d')\n",
    "    url = f'https://www.twse.com.tw/exchangeReport/MI_INDEX?response=json&date={date}&type=ALLBUT0999'\n",
    "    print(url)\n",
    "    res = requests.get(url)\n",
    "    jd  = res.json() \n",
    "    df = pandas.DataFrame(jd['data5'])\n",
    "    df.columns = jd['fields5']\n",
    "    dataary.append(df)  "
   ]
  },
  {
   "cell_type": "code",
   "execution_count": 25,
   "metadata": {},
   "outputs": [
    {
     "name": "stdout",
     "output_type": "stream",
     "text": [
      "https://www.twse.com.tw/exchangeReport/MI_INDEX?response=json&date=20190629&type=ALLBUT0999\n",
      "https://www.twse.com.tw/exchangeReport/MI_INDEX?response=json&date=20190628&type=ALLBUT0999\n"
     ]
    }
   ],
   "source": [
    "from datetime import timedelta\n",
    "current_time = datetime.now()\n",
    "dataary = []\n",
    "for i in range(2):\n",
    "    dt = current_time - timedelta(days = i)\n",
    "    date = dt.strftime('%Y%m%d')\n",
    "    url = f'https://www.twse.com.tw/exchangeReport/MI_INDEX?response=json&date={date}&type=ALLBUT0999'\n",
    "    print(url)\n",
    "    res = requests.get(url)\n",
    "    jd  = res.json() \n",
    "    if jd.get('data5'):\n",
    "        df = pandas.DataFrame(jd['data5'])\n",
    "        df.columns = jd['fields5']\n",
    "        dataary.append(df)  "
   ]
  },
  {
   "cell_type": "code",
   "execution_count": 29,
   "metadata": {},
   "outputs": [],
   "source": [
    "from datetime import datetime\n",
    "\n",
    "def getStockData(date):\n",
    "    url = f'https://www.twse.com.tw/exchangeReport/MI_INDEX?response=json&date={date}&type=ALLBUT0999'\n",
    "    res = requests.get(url)\n",
    "    jd = res.json()\n",
    "    if jd.get('data5'):\n",
    "        df = pandas.DataFrame(jd['data5'])\n",
    "        df.columns = jd['fields5']\n",
    "        df['交易日'] = datetime.strptime(date,'%Y%m%d')\n",
    "        return df\n"
   ]
  },
  {
   "cell_type": "code",
   "execution_count": 30,
   "metadata": {},
   "outputs": [
    {
     "data": {
      "text/plain": [
       "datetime.datetime(2019, 6, 29, 0, 0)"
      ]
     },
     "execution_count": 30,
     "metadata": {},
     "output_type": "execute_result"
    }
   ],
   "source": [
    "s = '20190629'\n",
    "datetime.strptime(s,'%Y%m%d')"
   ]
  },
  {
   "cell_type": "code",
   "execution_count": 31,
   "metadata": {},
   "outputs": [],
   "source": [
    "getStockData('20190629')"
   ]
  },
  {
   "cell_type": "code",
   "execution_count": 33,
   "metadata": {},
   "outputs": [],
   "source": [
    "#getStockData('20190628')"
   ]
  },
  {
   "cell_type": "code",
   "execution_count": 39,
   "metadata": {},
   "outputs": [
    {
     "name": "stdout",
     "output_type": "stream",
     "text": [
      "0\n",
      "1\n",
      "2\n",
      "3\n",
      "4\n",
      "5\n",
      "6\n",
      "7\n",
      "8\n",
      "9\n",
      "10\n",
      "11\n",
      "12\n",
      "13\n",
      "14\n",
      "15\n",
      "16\n",
      "17\n",
      "18\n",
      "19\n",
      "20\n",
      "21\n"
     ]
    },
    {
     "ename": "KeyboardInterrupt",
     "evalue": "",
     "output_type": "error",
     "traceback": [
      "\u001b[0;31m---------------------------------------------------------------------------\u001b[0m",
      "\u001b[0;31mKeyboardInterrupt\u001b[0m                         Traceback (most recent call last)",
      "\u001b[0;32m<ipython-input-39-26bc411ba023>\u001b[0m in \u001b[0;36m<module>\u001b[0;34m()\u001b[0m\n\u001b[1;32m      9\u001b[0m     \u001b[0mdataary\u001b[0m\u001b[0;34m.\u001b[0m\u001b[0mappend\u001b[0m\u001b[0;34m(\u001b[0m\u001b[0mdf\u001b[0m\u001b[0;34m)\u001b[0m\u001b[0;34m\u001b[0m\u001b[0m\n\u001b[1;32m     10\u001b[0m     \u001b[0mprint\u001b[0m\u001b[0;34m(\u001b[0m\u001b[0mi\u001b[0m\u001b[0;34m)\u001b[0m\u001b[0;34m\u001b[0m\u001b[0m\n\u001b[0;32m---> 11\u001b[0;31m     \u001b[0mtime\u001b[0m\u001b[0;34m.\u001b[0m\u001b[0msleep\u001b[0m\u001b[0;34m(\u001b[0m\u001b[0;36m3\u001b[0m\u001b[0;34m)\u001b[0m\u001b[0;34m\u001b[0m\u001b[0m\n\u001b[0m\u001b[1;32m     12\u001b[0m \u001b[0;34m\u001b[0m\u001b[0m\n",
      "\u001b[0;31mKeyboardInterrupt\u001b[0m: "
     ]
    }
   ],
   "source": [
    "from datetime import datetime, timedelta\n",
    "import time\n",
    "\n",
    "current_date = datetime.now()\n",
    "dataary = []\n",
    "for i in range(30):\n",
    "    dt = (current_date - timedelta(days = i)).strftime('%Y%m%d')\n",
    "    df = getStockData(dt)\n",
    "    dataary.append(df)\n",
    "    print(i)\n",
    "    time.sleep(3)\n",
    "\n"
   ]
  },
  {
   "cell_type": "markdown",
   "metadata": {},
   "source": [
    "## Proxies\n",
    "- https://www.squidproxies.com/\n",
    "- sharedproxies.com\n",
    "- http://stormproxies.com\n",
    "- https://luminati-china.biz"
   ]
  },
  {
   "cell_type": "code",
   "execution_count": 42,
   "metadata": {},
   "outputs": [
    {
     "data": {
      "text/plain": [
       "22"
      ]
     },
     "execution_count": 42,
     "metadata": {},
     "output_type": "execute_result"
    }
   ],
   "source": [
    "len(dataary)"
   ]
  },
  {
   "cell_type": "code",
   "execution_count": 43,
   "metadata": {},
   "outputs": [
    {
     "data": {
      "text/plain": [
       "16472"
      ]
     },
     "execution_count": 43,
     "metadata": {},
     "output_type": "execute_result"
    }
   ],
   "source": [
    "df = pandas.concat(dataary)\n",
    "len(df)"
   ]
  },
  {
   "cell_type": "code",
   "execution_count": 44,
   "metadata": {},
   "outputs": [
    {
     "data": {
      "text/html": [
       "<div>\n",
       "<style scoped>\n",
       "    .dataframe tbody tr th:only-of-type {\n",
       "        vertical-align: middle;\n",
       "    }\n",
       "\n",
       "    .dataframe tbody tr th {\n",
       "        vertical-align: top;\n",
       "    }\n",
       "\n",
       "    .dataframe thead th {\n",
       "        text-align: right;\n",
       "    }\n",
       "</style>\n",
       "<table border=\"1\" class=\"dataframe\">\n",
       "  <thead>\n",
       "    <tr style=\"text-align: right;\">\n",
       "      <th></th>\n",
       "      <th>證券代號</th>\n",
       "      <th>證券名稱</th>\n",
       "      <th>成交股數</th>\n",
       "      <th>成交筆數</th>\n",
       "      <th>成交金額</th>\n",
       "      <th>開盤價</th>\n",
       "      <th>最高價</th>\n",
       "      <th>最低價</th>\n",
       "      <th>收盤價</th>\n",
       "      <th>漲跌(+/-)</th>\n",
       "      <th>漲跌價差</th>\n",
       "      <th>最後揭示買價</th>\n",
       "      <th>最後揭示買量</th>\n",
       "      <th>最後揭示賣價</th>\n",
       "      <th>最後揭示賣量</th>\n",
       "      <th>本益比</th>\n",
       "      <th>交易日</th>\n",
       "    </tr>\n",
       "  </thead>\n",
       "  <tbody>\n",
       "    <tr>\n",
       "      <th>0</th>\n",
       "      <td>0050</td>\n",
       "      <td>元大台灣50</td>\n",
       "      <td>3,940,686</td>\n",
       "      <td>1,867</td>\n",
       "      <td>319,369,533</td>\n",
       "      <td>81.45</td>\n",
       "      <td>81.55</td>\n",
       "      <td>80.85</td>\n",
       "      <td>80.90</td>\n",
       "      <td>&lt;p style= color:green&gt;-&lt;/p&gt;</td>\n",
       "      <td>0.60</td>\n",
       "      <td>80.90</td>\n",
       "      <td>246</td>\n",
       "      <td>80.95</td>\n",
       "      <td>2</td>\n",
       "      <td>0.00</td>\n",
       "      <td>2019-06-28</td>\n",
       "    </tr>\n",
       "    <tr>\n",
       "      <th>1</th>\n",
       "      <td>0051</td>\n",
       "      <td>元大中型100</td>\n",
       "      <td>6,098</td>\n",
       "      <td>7</td>\n",
       "      <td>195,904</td>\n",
       "      <td>32.20</td>\n",
       "      <td>32.20</td>\n",
       "      <td>32.10</td>\n",
       "      <td>32.10</td>\n",
       "      <td>&lt;p style= color:green&gt;-&lt;/p&gt;</td>\n",
       "      <td>0.08</td>\n",
       "      <td>32.10</td>\n",
       "      <td>1</td>\n",
       "      <td>32.20</td>\n",
       "      <td>4</td>\n",
       "      <td>0.00</td>\n",
       "      <td>2019-06-28</td>\n",
       "    </tr>\n",
       "    <tr>\n",
       "      <th>2</th>\n",
       "      <td>0052</td>\n",
       "      <td>富邦科技</td>\n",
       "      <td>107,219</td>\n",
       "      <td>11</td>\n",
       "      <td>5,694,107</td>\n",
       "      <td>53.45</td>\n",
       "      <td>53.45</td>\n",
       "      <td>52.95</td>\n",
       "      <td>53.10</td>\n",
       "      <td>&lt;p style= color:green&gt;-&lt;/p&gt;</td>\n",
       "      <td>0.35</td>\n",
       "      <td>52.95</td>\n",
       "      <td>1</td>\n",
       "      <td>53.30</td>\n",
       "      <td>10</td>\n",
       "      <td>0.00</td>\n",
       "      <td>2019-06-28</td>\n",
       "    </tr>\n",
       "    <tr>\n",
       "      <th>3</th>\n",
       "      <td>0053</td>\n",
       "      <td>元大電子</td>\n",
       "      <td>59,000</td>\n",
       "      <td>7</td>\n",
       "      <td>2,010,260</td>\n",
       "      <td>34.17</td>\n",
       "      <td>34.17</td>\n",
       "      <td>34.01</td>\n",
       "      <td>34.01</td>\n",
       "      <td>&lt;p style= color:green&gt;-&lt;/p&gt;</td>\n",
       "      <td>0.16</td>\n",
       "      <td>34.00</td>\n",
       "      <td>30</td>\n",
       "      <td>34.10</td>\n",
       "      <td>1</td>\n",
       "      <td>0.00</td>\n",
       "      <td>2019-06-28</td>\n",
       "    </tr>\n",
       "    <tr>\n",
       "      <th>4</th>\n",
       "      <td>0054</td>\n",
       "      <td>元大台商50</td>\n",
       "      <td>5,000</td>\n",
       "      <td>3</td>\n",
       "      <td>111,080</td>\n",
       "      <td>22.20</td>\n",
       "      <td>22.31</td>\n",
       "      <td>22.19</td>\n",
       "      <td>22.31</td>\n",
       "      <td>&lt;p style= color:red&gt;+&lt;/p&gt;</td>\n",
       "      <td>0.11</td>\n",
       "      <td>22.20</td>\n",
       "      <td>75</td>\n",
       "      <td>22.31</td>\n",
       "      <td>8</td>\n",
       "      <td>0.00</td>\n",
       "      <td>2019-06-28</td>\n",
       "    </tr>\n",
       "  </tbody>\n",
       "</table>\n",
       "</div>"
      ],
      "text/plain": [
       "   證券代號     證券名稱       成交股數   成交筆數         成交金額    開盤價    最高價    最低價    收盤價  \\\n",
       "0  0050   元大台灣50  3,940,686  1,867  319,369,533  81.45  81.55  80.85  80.90   \n",
       "1  0051  元大中型100      6,098      7      195,904  32.20  32.20  32.10  32.10   \n",
       "2  0052     富邦科技    107,219     11    5,694,107  53.45  53.45  52.95  53.10   \n",
       "3  0053     元大電子     59,000      7    2,010,260  34.17  34.17  34.01  34.01   \n",
       "4  0054   元大台商50      5,000      3      111,080  22.20  22.31  22.19  22.31   \n",
       "\n",
       "                       漲跌(+/-)  漲跌價差 最後揭示買價 最後揭示買量 最後揭示賣價 最後揭示賣量   本益比  \\\n",
       "0  <p style= color:green>-</p>  0.60  80.90    246  80.95      2  0.00   \n",
       "1  <p style= color:green>-</p>  0.08  32.10      1  32.20      4  0.00   \n",
       "2  <p style= color:green>-</p>  0.35  52.95      1  53.30     10  0.00   \n",
       "3  <p style= color:green>-</p>  0.16  34.00     30  34.10      1  0.00   \n",
       "4    <p style= color:red>+</p>  0.11  22.20     75  22.31      8  0.00   \n",
       "\n",
       "         交易日  \n",
       "0 2019-06-28  \n",
       "1 2019-06-28  \n",
       "2 2019-06-28  \n",
       "3 2019-06-28  \n",
       "4 2019-06-28  "
      ]
     },
     "execution_count": 44,
     "metadata": {},
     "output_type": "execute_result"
    }
   ],
   "source": [
    "df.head()"
   ]
  },
  {
   "cell_type": "code",
   "execution_count": 45,
   "metadata": {},
   "outputs": [
    {
     "data": {
      "text/html": [
       "<div>\n",
       "<style scoped>\n",
       "    .dataframe tbody tr th:only-of-type {\n",
       "        vertical-align: middle;\n",
       "    }\n",
       "\n",
       "    .dataframe tbody tr th {\n",
       "        vertical-align: top;\n",
       "    }\n",
       "\n",
       "    .dataframe thead th {\n",
       "        text-align: right;\n",
       "    }\n",
       "</style>\n",
       "<table border=\"1\" class=\"dataframe\">\n",
       "  <thead>\n",
       "    <tr style=\"text-align: right;\">\n",
       "      <th></th>\n",
       "      <th>證券代號</th>\n",
       "      <th>證券名稱</th>\n",
       "      <th>成交股數</th>\n",
       "      <th>成交筆數</th>\n",
       "      <th>成交金額</th>\n",
       "      <th>開盤價</th>\n",
       "      <th>最高價</th>\n",
       "      <th>最低價</th>\n",
       "      <th>收盤價</th>\n",
       "      <th>漲跌(+/-)</th>\n",
       "      <th>漲跌價差</th>\n",
       "      <th>最後揭示買價</th>\n",
       "      <th>最後揭示買量</th>\n",
       "      <th>最後揭示賣價</th>\n",
       "      <th>最後揭示賣量</th>\n",
       "      <th>本益比</th>\n",
       "      <th>交易日</th>\n",
       "    </tr>\n",
       "  </thead>\n",
       "  <tbody>\n",
       "    <tr>\n",
       "      <th>1094</th>\n",
       "      <td>9944</td>\n",
       "      <td>新麗</td>\n",
       "      <td>332,120</td>\n",
       "      <td>132</td>\n",
       "      <td>6,095,084</td>\n",
       "      <td>18.35</td>\n",
       "      <td>18.65</td>\n",
       "      <td>18.15</td>\n",
       "      <td>18.15</td>\n",
       "      <td>&lt;p style= color:green&gt;-&lt;/p&gt;</td>\n",
       "      <td>0.20</td>\n",
       "      <td>18.15</td>\n",
       "      <td>8</td>\n",
       "      <td>18.20</td>\n",
       "      <td>2</td>\n",
       "      <td>151.25</td>\n",
       "      <td>2019-06-10</td>\n",
       "    </tr>\n",
       "    <tr>\n",
       "      <th>1095</th>\n",
       "      <td>9945</td>\n",
       "      <td>潤泰新</td>\n",
       "      <td>1,331,931</td>\n",
       "      <td>818</td>\n",
       "      <td>55,071,551</td>\n",
       "      <td>41.05</td>\n",
       "      <td>41.55</td>\n",
       "      <td>41.05</td>\n",
       "      <td>41.30</td>\n",
       "      <td>&lt;p style= color:red&gt;+&lt;/p&gt;</td>\n",
       "      <td>0.60</td>\n",
       "      <td>41.30</td>\n",
       "      <td>11</td>\n",
       "      <td>41.35</td>\n",
       "      <td>3</td>\n",
       "      <td>4.37</td>\n",
       "      <td>2019-06-10</td>\n",
       "    </tr>\n",
       "    <tr>\n",
       "      <th>1096</th>\n",
       "      <td>9946</td>\n",
       "      <td>三發地產</td>\n",
       "      <td>1,681,125</td>\n",
       "      <td>640</td>\n",
       "      <td>35,065,697</td>\n",
       "      <td>20.90</td>\n",
       "      <td>21.00</td>\n",
       "      <td>20.80</td>\n",
       "      <td>20.85</td>\n",
       "      <td>&lt;p style= color:red&gt;+&lt;/p&gt;</td>\n",
       "      <td>0.25</td>\n",
       "      <td>20.80</td>\n",
       "      <td>35</td>\n",
       "      <td>20.85</td>\n",
       "      <td>217</td>\n",
       "      <td>7.14</td>\n",
       "      <td>2019-06-10</td>\n",
       "    </tr>\n",
       "    <tr>\n",
       "      <th>1097</th>\n",
       "      <td>9955</td>\n",
       "      <td>佳龍</td>\n",
       "      <td>3,578,460</td>\n",
       "      <td>1,652</td>\n",
       "      <td>60,731,118</td>\n",
       "      <td>16.50</td>\n",
       "      <td>17.50</td>\n",
       "      <td>16.25</td>\n",
       "      <td>16.25</td>\n",
       "      <td>&lt;p style= color:green&gt;-&lt;/p&gt;</td>\n",
       "      <td>0.45</td>\n",
       "      <td>16.25</td>\n",
       "      <td>17</td>\n",
       "      <td>16.60</td>\n",
       "      <td>3</td>\n",
       "      <td>0.00</td>\n",
       "      <td>2019-06-10</td>\n",
       "    </tr>\n",
       "    <tr>\n",
       "      <th>1098</th>\n",
       "      <td>9958</td>\n",
       "      <td>世紀鋼</td>\n",
       "      <td>4,252,430</td>\n",
       "      <td>2,684</td>\n",
       "      <td>297,196,438</td>\n",
       "      <td>70.10</td>\n",
       "      <td>70.70</td>\n",
       "      <td>69.10</td>\n",
       "      <td>70.10</td>\n",
       "      <td>&lt;p style= color:red&gt;+&lt;/p&gt;</td>\n",
       "      <td>1.40</td>\n",
       "      <td>70.00</td>\n",
       "      <td>14</td>\n",
       "      <td>70.10</td>\n",
       "      <td>15</td>\n",
       "      <td>412.35</td>\n",
       "      <td>2019-06-10</td>\n",
       "    </tr>\n",
       "  </tbody>\n",
       "</table>\n",
       "</div>"
      ],
      "text/plain": [
       "      證券代號  證券名稱       成交股數   成交筆數         成交金額    開盤價    最高價    最低價    收盤價  \\\n",
       "1094  9944    新麗    332,120    132    6,095,084  18.35  18.65  18.15  18.15   \n",
       "1095  9945   潤泰新  1,331,931    818   55,071,551  41.05  41.55  41.05  41.30   \n",
       "1096  9946  三發地產  1,681,125    640   35,065,697  20.90  21.00  20.80  20.85   \n",
       "1097  9955    佳龍  3,578,460  1,652   60,731,118  16.50  17.50  16.25  16.25   \n",
       "1098  9958   世紀鋼  4,252,430  2,684  297,196,438  70.10  70.70  69.10  70.10   \n",
       "\n",
       "                          漲跌(+/-)  漲跌價差 最後揭示買價 最後揭示買量 最後揭示賣價 最後揭示賣量     本益比  \\\n",
       "1094  <p style= color:green>-</p>  0.20  18.15      8  18.20      2  151.25   \n",
       "1095    <p style= color:red>+</p>  0.60  41.30     11  41.35      3    4.37   \n",
       "1096    <p style= color:red>+</p>  0.25  20.80     35  20.85    217    7.14   \n",
       "1097  <p style= color:green>-</p>  0.45  16.25     17  16.60      3    0.00   \n",
       "1098    <p style= color:red>+</p>  1.40  70.00     14  70.10     15  412.35   \n",
       "\n",
       "            交易日  \n",
       "1094 2019-06-10  \n",
       "1095 2019-06-10  \n",
       "1096 2019-06-10  \n",
       "1097 2019-06-10  \n",
       "1098 2019-06-10  "
      ]
     },
     "execution_count": 45,
     "metadata": {},
     "output_type": "execute_result"
    }
   ],
   "source": [
    "df.tail()"
   ]
  },
  {
   "cell_type": "code",
   "execution_count": 46,
   "metadata": {},
   "outputs": [],
   "source": [
    "df.reset_index(inplace=True)"
   ]
  },
  {
   "cell_type": "code",
   "execution_count": 47,
   "metadata": {},
   "outputs": [
    {
     "data": {
      "text/html": [
       "<div>\n",
       "<style scoped>\n",
       "    .dataframe tbody tr th:only-of-type {\n",
       "        vertical-align: middle;\n",
       "    }\n",
       "\n",
       "    .dataframe tbody tr th {\n",
       "        vertical-align: top;\n",
       "    }\n",
       "\n",
       "    .dataframe thead th {\n",
       "        text-align: right;\n",
       "    }\n",
       "</style>\n",
       "<table border=\"1\" class=\"dataframe\">\n",
       "  <thead>\n",
       "    <tr style=\"text-align: right;\">\n",
       "      <th></th>\n",
       "      <th>index</th>\n",
       "      <th>證券代號</th>\n",
       "      <th>證券名稱</th>\n",
       "      <th>成交股數</th>\n",
       "      <th>成交筆數</th>\n",
       "      <th>成交金額</th>\n",
       "      <th>開盤價</th>\n",
       "      <th>最高價</th>\n",
       "      <th>最低價</th>\n",
       "      <th>收盤價</th>\n",
       "      <th>漲跌(+/-)</th>\n",
       "      <th>漲跌價差</th>\n",
       "      <th>最後揭示買價</th>\n",
       "      <th>最後揭示買量</th>\n",
       "      <th>最後揭示賣價</th>\n",
       "      <th>最後揭示賣量</th>\n",
       "      <th>本益比</th>\n",
       "      <th>交易日</th>\n",
       "    </tr>\n",
       "  </thead>\n",
       "  <tbody>\n",
       "    <tr>\n",
       "      <th>16467</th>\n",
       "      <td>1094</td>\n",
       "      <td>9944</td>\n",
       "      <td>新麗</td>\n",
       "      <td>332,120</td>\n",
       "      <td>132</td>\n",
       "      <td>6,095,084</td>\n",
       "      <td>18.35</td>\n",
       "      <td>18.65</td>\n",
       "      <td>18.15</td>\n",
       "      <td>18.15</td>\n",
       "      <td>&lt;p style= color:green&gt;-&lt;/p&gt;</td>\n",
       "      <td>0.20</td>\n",
       "      <td>18.15</td>\n",
       "      <td>8</td>\n",
       "      <td>18.20</td>\n",
       "      <td>2</td>\n",
       "      <td>151.25</td>\n",
       "      <td>2019-06-10</td>\n",
       "    </tr>\n",
       "    <tr>\n",
       "      <th>16468</th>\n",
       "      <td>1095</td>\n",
       "      <td>9945</td>\n",
       "      <td>潤泰新</td>\n",
       "      <td>1,331,931</td>\n",
       "      <td>818</td>\n",
       "      <td>55,071,551</td>\n",
       "      <td>41.05</td>\n",
       "      <td>41.55</td>\n",
       "      <td>41.05</td>\n",
       "      <td>41.30</td>\n",
       "      <td>&lt;p style= color:red&gt;+&lt;/p&gt;</td>\n",
       "      <td>0.60</td>\n",
       "      <td>41.30</td>\n",
       "      <td>11</td>\n",
       "      <td>41.35</td>\n",
       "      <td>3</td>\n",
       "      <td>4.37</td>\n",
       "      <td>2019-06-10</td>\n",
       "    </tr>\n",
       "    <tr>\n",
       "      <th>16469</th>\n",
       "      <td>1096</td>\n",
       "      <td>9946</td>\n",
       "      <td>三發地產</td>\n",
       "      <td>1,681,125</td>\n",
       "      <td>640</td>\n",
       "      <td>35,065,697</td>\n",
       "      <td>20.90</td>\n",
       "      <td>21.00</td>\n",
       "      <td>20.80</td>\n",
       "      <td>20.85</td>\n",
       "      <td>&lt;p style= color:red&gt;+&lt;/p&gt;</td>\n",
       "      <td>0.25</td>\n",
       "      <td>20.80</td>\n",
       "      <td>35</td>\n",
       "      <td>20.85</td>\n",
       "      <td>217</td>\n",
       "      <td>7.14</td>\n",
       "      <td>2019-06-10</td>\n",
       "    </tr>\n",
       "    <tr>\n",
       "      <th>16470</th>\n",
       "      <td>1097</td>\n",
       "      <td>9955</td>\n",
       "      <td>佳龍</td>\n",
       "      <td>3,578,460</td>\n",
       "      <td>1,652</td>\n",
       "      <td>60,731,118</td>\n",
       "      <td>16.50</td>\n",
       "      <td>17.50</td>\n",
       "      <td>16.25</td>\n",
       "      <td>16.25</td>\n",
       "      <td>&lt;p style= color:green&gt;-&lt;/p&gt;</td>\n",
       "      <td>0.45</td>\n",
       "      <td>16.25</td>\n",
       "      <td>17</td>\n",
       "      <td>16.60</td>\n",
       "      <td>3</td>\n",
       "      <td>0.00</td>\n",
       "      <td>2019-06-10</td>\n",
       "    </tr>\n",
       "    <tr>\n",
       "      <th>16471</th>\n",
       "      <td>1098</td>\n",
       "      <td>9958</td>\n",
       "      <td>世紀鋼</td>\n",
       "      <td>4,252,430</td>\n",
       "      <td>2,684</td>\n",
       "      <td>297,196,438</td>\n",
       "      <td>70.10</td>\n",
       "      <td>70.70</td>\n",
       "      <td>69.10</td>\n",
       "      <td>70.10</td>\n",
       "      <td>&lt;p style= color:red&gt;+&lt;/p&gt;</td>\n",
       "      <td>1.40</td>\n",
       "      <td>70.00</td>\n",
       "      <td>14</td>\n",
       "      <td>70.10</td>\n",
       "      <td>15</td>\n",
       "      <td>412.35</td>\n",
       "      <td>2019-06-10</td>\n",
       "    </tr>\n",
       "  </tbody>\n",
       "</table>\n",
       "</div>"
      ],
      "text/plain": [
       "       index  證券代號  證券名稱       成交股數   成交筆數         成交金額    開盤價    最高價    最低價  \\\n",
       "16467   1094  9944    新麗    332,120    132    6,095,084  18.35  18.65  18.15   \n",
       "16468   1095  9945   潤泰新  1,331,931    818   55,071,551  41.05  41.55  41.05   \n",
       "16469   1096  9946  三發地產  1,681,125    640   35,065,697  20.90  21.00  20.80   \n",
       "16470   1097  9955    佳龍  3,578,460  1,652   60,731,118  16.50  17.50  16.25   \n",
       "16471   1098  9958   世紀鋼  4,252,430  2,684  297,196,438  70.10  70.70  69.10   \n",
       "\n",
       "         收盤價                      漲跌(+/-)  漲跌價差 最後揭示買價 最後揭示買量 最後揭示賣價 最後揭示賣量  \\\n",
       "16467  18.15  <p style= color:green>-</p>  0.20  18.15      8  18.20      2   \n",
       "16468  41.30    <p style= color:red>+</p>  0.60  41.30     11  41.35      3   \n",
       "16469  20.85    <p style= color:red>+</p>  0.25  20.80     35  20.85    217   \n",
       "16470  16.25  <p style= color:green>-</p>  0.45  16.25     17  16.60      3   \n",
       "16471  70.10    <p style= color:red>+</p>  1.40  70.00     14  70.10     15   \n",
       "\n",
       "          本益比        交易日  \n",
       "16467  151.25 2019-06-10  \n",
       "16468    4.37 2019-06-10  \n",
       "16469    7.14 2019-06-10  \n",
       "16470    0.00 2019-06-10  \n",
       "16471  412.35 2019-06-10  "
      ]
     },
     "execution_count": 47,
     "metadata": {},
     "output_type": "execute_result"
    }
   ],
   "source": [
    "df.tail()"
   ]
  },
  {
   "cell_type": "code",
   "execution_count": 49,
   "metadata": {},
   "outputs": [
    {
     "data": {
      "text/html": [
       "<div>\n",
       "<style scoped>\n",
       "    .dataframe tbody tr th:only-of-type {\n",
       "        vertical-align: middle;\n",
       "    }\n",
       "\n",
       "    .dataframe tbody tr th {\n",
       "        vertical-align: top;\n",
       "    }\n",
       "\n",
       "    .dataframe thead th {\n",
       "        text-align: right;\n",
       "    }\n",
       "</style>\n",
       "<table border=\"1\" class=\"dataframe\">\n",
       "  <thead>\n",
       "    <tr style=\"text-align: right;\">\n",
       "      <th></th>\n",
       "      <th>index</th>\n",
       "      <th>證券代號</th>\n",
       "      <th>證券名稱</th>\n",
       "      <th>成交股數</th>\n",
       "      <th>成交筆數</th>\n",
       "      <th>成交金額</th>\n",
       "      <th>開盤價</th>\n",
       "      <th>最高價</th>\n",
       "      <th>最低價</th>\n",
       "      <th>收盤價</th>\n",
       "      <th>漲跌(+/-)</th>\n",
       "      <th>漲跌價差</th>\n",
       "      <th>最後揭示買價</th>\n",
       "      <th>最後揭示買量</th>\n",
       "      <th>最後揭示賣價</th>\n",
       "      <th>最後揭示賣量</th>\n",
       "      <th>本益比</th>\n",
       "      <th>交易日</th>\n",
       "    </tr>\n",
       "  </thead>\n",
       "  <tbody>\n",
       "    <tr>\n",
       "      <th>409</th>\n",
       "      <td>409</td>\n",
       "      <td>2330</td>\n",
       "      <td>台積電</td>\n",
       "      <td>28,085,212</td>\n",
       "      <td>8,987</td>\n",
       "      <td>6,715,488,371</td>\n",
       "      <td>241.50</td>\n",
       "      <td>241.50</td>\n",
       "      <td>238.00</td>\n",
       "      <td>239.00</td>\n",
       "      <td>&lt;p style= color:green&gt;-&lt;/p&gt;</td>\n",
       "      <td>1.50</td>\n",
       "      <td>238.50</td>\n",
       "      <td>380</td>\n",
       "      <td>239.00</td>\n",
       "      <td>641</td>\n",
       "      <td>19.20</td>\n",
       "      <td>2019-06-28</td>\n",
       "    </tr>\n",
       "    <tr>\n",
       "      <th>1505</th>\n",
       "      <td>409</td>\n",
       "      <td>2330</td>\n",
       "      <td>台積電</td>\n",
       "      <td>42,007,834</td>\n",
       "      <td>14,983</td>\n",
       "      <td>10,063,332,494</td>\n",
       "      <td>236.00</td>\n",
       "      <td>241.50</td>\n",
       "      <td>236.00</td>\n",
       "      <td>240.50</td>\n",
       "      <td>&lt;p style= color:red&gt;+&lt;/p&gt;</td>\n",
       "      <td>6.00</td>\n",
       "      <td>240.00</td>\n",
       "      <td>612</td>\n",
       "      <td>240.50</td>\n",
       "      <td>469</td>\n",
       "      <td>19.32</td>\n",
       "      <td>2019-06-27</td>\n",
       "    </tr>\n",
       "    <tr>\n",
       "      <th>2601</th>\n",
       "      <td>409</td>\n",
       "      <td>2330</td>\n",
       "      <td>台積電</td>\n",
       "      <td>28,770,041</td>\n",
       "      <td>13,535</td>\n",
       "      <td>6,757,991,717</td>\n",
       "      <td>235.00</td>\n",
       "      <td>236.50</td>\n",
       "      <td>234.00</td>\n",
       "      <td>234.50</td>\n",
       "      <td>&lt;p style= color:green&gt;-&lt;/p&gt;</td>\n",
       "      <td>4.00</td>\n",
       "      <td>234.50</td>\n",
       "      <td>1,537</td>\n",
       "      <td>235.00</td>\n",
       "      <td>180</td>\n",
       "      <td>18.84</td>\n",
       "      <td>2019-06-26</td>\n",
       "    </tr>\n",
       "    <tr>\n",
       "      <th>3697</th>\n",
       "      <td>409</td>\n",
       "      <td>2330</td>\n",
       "      <td>台積電</td>\n",
       "      <td>29,735,283</td>\n",
       "      <td>11,130</td>\n",
       "      <td>7,118,002,390</td>\n",
       "      <td>241.00</td>\n",
       "      <td>241.50</td>\n",
       "      <td>237.00</td>\n",
       "      <td>238.50</td>\n",
       "      <td>&lt;p style= color:green&gt;-&lt;/p&gt;</td>\n",
       "      <td>2.50</td>\n",
       "      <td>238.50</td>\n",
       "      <td>211</td>\n",
       "      <td>239.00</td>\n",
       "      <td>1,361</td>\n",
       "      <td>19.16</td>\n",
       "      <td>2019-06-25</td>\n",
       "    </tr>\n",
       "    <tr>\n",
       "      <th>4795</th>\n",
       "      <td>410</td>\n",
       "      <td>2330</td>\n",
       "      <td>台積電</td>\n",
       "      <td>43,460,507</td>\n",
       "      <td>17,780</td>\n",
       "      <td>10,476,936,660</td>\n",
       "      <td>241.00</td>\n",
       "      <td>242.00</td>\n",
       "      <td>240.00</td>\n",
       "      <td>241.00</td>\n",
       "      <td>X</td>\n",
       "      <td>0.00</td>\n",
       "      <td>240.50</td>\n",
       "      <td>1,334</td>\n",
       "      <td>241.00</td>\n",
       "      <td>2,190</td>\n",
       "      <td>19.36</td>\n",
       "      <td>2019-06-24</td>\n",
       "    </tr>\n",
       "  </tbody>\n",
       "</table>\n",
       "</div>"
      ],
      "text/plain": [
       "      index  證券代號 證券名稱        成交股數    成交筆數            成交金額     開盤價     最高價  \\\n",
       "409     409  2330  台積電  28,085,212   8,987   6,715,488,371  241.50  241.50   \n",
       "1505    409  2330  台積電  42,007,834  14,983  10,063,332,494  236.00  241.50   \n",
       "2601    409  2330  台積電  28,770,041  13,535   6,757,991,717  235.00  236.50   \n",
       "3697    409  2330  台積電  29,735,283  11,130   7,118,002,390  241.00  241.50   \n",
       "4795    410  2330  台積電  43,460,507  17,780  10,476,936,660  241.00  242.00   \n",
       "\n",
       "         最低價     收盤價                      漲跌(+/-)  漲跌價差  最後揭示買價 最後揭示買量  \\\n",
       "409   238.00  239.00  <p style= color:green>-</p>  1.50  238.50    380   \n",
       "1505  236.00  240.50    <p style= color:red>+</p>  6.00  240.00    612   \n",
       "2601  234.00  234.50  <p style= color:green>-</p>  4.00  234.50  1,537   \n",
       "3697  237.00  238.50  <p style= color:green>-</p>  2.50  238.50    211   \n",
       "4795  240.00  241.00                            X  0.00  240.50  1,334   \n",
       "\n",
       "      最後揭示賣價 最後揭示賣量    本益比        交易日  \n",
       "409   239.00    641  19.20 2019-06-28  \n",
       "1505  240.50    469  19.32 2019-06-27  \n",
       "2601  235.00    180  18.84 2019-06-26  \n",
       "3697  239.00  1,361  19.16 2019-06-25  \n",
       "4795  241.00  2,190  19.36 2019-06-24  "
      ]
     },
     "execution_count": 49,
     "metadata": {},
     "output_type": "execute_result"
    }
   ],
   "source": [
    "df[df['證券代號']=='2330'].head()"
   ]
  },
  {
   "cell_type": "markdown",
   "metadata": {},
   "source": [
    "## Jupyter Notebook Magic\n",
    "- https://ethanww.github.io/2017/05/08/jupyter%E9%AD%94%E6%B3%95%E5%91%BD%E4%BB%A4/"
   ]
  },
  {
   "cell_type": "code",
   "execution_count": 58,
   "metadata": {},
   "outputs": [],
   "source": [
    "import numpy as np\n",
    "df.dropna(inplace=True)\n",
    "df['收盤價'] = df['收盤價'].map(lambda e: np.nan if e == '--' else float(e.replace(',','')) )"
   ]
  },
  {
   "cell_type": "code",
   "execution_count": 59,
   "metadata": {},
   "outputs": [
    {
     "name": "stdout",
     "output_type": "stream",
     "text": [
      "Populating the interactive namespace from numpy and matplotlib\n"
     ]
    },
    {
     "data": {
      "text/plain": [
       "<matplotlib.axes._subplots.AxesSubplot at 0x116afd940>"
      ]
     },
     "execution_count": 59,
     "metadata": {},
     "output_type": "execute_result"
    },
    {
     "data": {
      "image/png": "[encoded data removed]",
      "text/plain": [
       "<Figure size 432x288 with 1 Axes>"
      ]
     },
     "metadata": {},
     "output_type": "display_data"
    }
   ],
   "source": [
    "%pylab inline\n",
    "df[df['證券代號']=='2330'].plot(x = '交易日', y = '收盤價', kind = 'line')"
   ]
  },
  {
   "attachments": {},
   "cell_type": "markdown",
   "metadata": {},
   "source": [
    "## Pandas DataReader\n",
    "- ! pip install pandas_datareader"
   ]
  },
  {
   "cell_type": "code",
   "execution_count": 60,
   "metadata": {},
   "outputs": [
    {
     "name": "stdout",
     "output_type": "stream",
     "text": [
      "Requirement already satisfied: pandas_datareader in /Users/davidchiu/.pyenv/versions/3.6.2/lib/python3.6/site-packages\n",
      "Requirement already satisfied: pandas>=0.19.2 in /Users/davidchiu/.pyenv/versions/3.6.2/lib/python3.6/site-packages (from pandas_datareader)\n",
      "Requirement already satisfied: lxml in /Users/davidchiu/.pyenv/versions/3.6.2/lib/python3.6/site-packages (from pandas_datareader)\n",
      "Requirement already satisfied: requests>=2.3.0 in /Users/davidchiu/.pyenv/versions/3.6.2/lib/python3.6/site-packages (from pandas_datareader)\n",
      "Requirement already satisfied: wrapt in /Users/davidchiu/.pyenv/versions/3.6.2/lib/python3.6/site-packages (from pandas_datareader)\n",
      "Requirement already satisfied: numpy>=1.12.0 in /Users/davidchiu/.pyenv/versions/3.6.2/lib/python3.6/site-packages (from pandas>=0.19.2->pandas_datareader)\n",
      "Requirement already satisfied: pytz>=2011k in /Users/davidchiu/.pyenv/versions/3.6.2/lib/python3.6/site-packages (from pandas>=0.19.2->pandas_datareader)\n",
      "Requirement already satisfied: python-dateutil>=2.5.0 in /Users/davidchiu/.pyenv/versions/3.6.2/lib/python3.6/site-packages (from pandas>=0.19.2->pandas_datareader)\n",
      "Requirement already satisfied: chardet<3.1.0,>=3.0.2 in /Users/davidchiu/.pyenv/versions/3.6.2/lib/python3.6/site-packages (from requests>=2.3.0->pandas_datareader)\n",
      "Requirement already satisfied: urllib3!=1.25.0,!=1.25.1,<1.26,>=1.21.1 in /Users/davidchiu/.pyenv/versions/3.6.2/lib/python3.6/site-packages (from requests>=2.3.0->pandas_datareader)\n",
      "Requirement already satisfied: idna<2.9,>=2.5 in /Users/davidchiu/.pyenv/versions/3.6.2/lib/python3.6/site-packages (from requests>=2.3.0->pandas_datareader)\n",
      "Requirement already satisfied: certifi>=2017.4.17 in /Users/davidchiu/.pyenv/versions/3.6.2/lib/python3.6/site-packages (from requests>=2.3.0->pandas_datareader)\n",
      "Requirement already satisfied: six>=1.5 in /Users/davidchiu/.pyenv/versions/3.6.2/lib/python3.6/site-packages (from python-dateutil>=2.5.0->pandas>=0.19.2->pandas_datareader)\n",
      "\u001b[33mYou are using pip version 9.0.1, however version 19.1.1 is available.\n",
      "You should consider upgrading via the 'pip install --upgrade pip' command.\u001b[0m\n"
     ]
    }
   ],
   "source": [
    "! pip install pandas_datareader"
   ]
  },
  {
   "cell_type": "code",
   "execution_count": 62,
   "metadata": {},
   "outputs": [
    {
     "data": {
      "text/html": [
       "<div>\n",
       "<style scoped>\n",
       "    .dataframe tbody tr th:only-of-type {\n",
       "        vertical-align: middle;\n",
       "    }\n",
       "\n",
       "    .dataframe tbody tr th {\n",
       "        vertical-align: top;\n",
       "    }\n",
       "\n",
       "    .dataframe thead th {\n",
       "        text-align: right;\n",
       "    }\n",
       "</style>\n",
       "<table border=\"1\" class=\"dataframe\">\n",
       "  <thead>\n",
       "    <tr style=\"text-align: right;\">\n",
       "      <th></th>\n",
       "      <th>High</th>\n",
       "      <th>Low</th>\n",
       "      <th>Open</th>\n",
       "      <th>Close</th>\n",
       "      <th>Volume</th>\n",
       "      <th>Adj Close</th>\n",
       "    </tr>\n",
       "    <tr>\n",
       "      <th>Date</th>\n",
       "      <th></th>\n",
       "      <th></th>\n",
       "      <th></th>\n",
       "      <th></th>\n",
       "      <th></th>\n",
       "      <th></th>\n",
       "    </tr>\n",
       "  </thead>\n",
       "  <tbody>\n",
       "    <tr>\n",
       "      <th>2015-01-05</th>\n",
       "      <td>140.5</td>\n",
       "      <td>137.5</td>\n",
       "      <td>140.5</td>\n",
       "      <td>139.5</td>\n",
       "      <td>32046000.0</td>\n",
       "      <td>117.563866</td>\n",
       "    </tr>\n",
       "    <tr>\n",
       "      <th>2015-01-06</th>\n",
       "      <td>137.5</td>\n",
       "      <td>133.0</td>\n",
       "      <td>137.5</td>\n",
       "      <td>133.5</td>\n",
       "      <td>66778000.0</td>\n",
       "      <td>112.507347</td>\n",
       "    </tr>\n",
       "    <tr>\n",
       "      <th>2015-01-07</th>\n",
       "      <td>135.0</td>\n",
       "      <td>133.5</td>\n",
       "      <td>133.5</td>\n",
       "      <td>134.0</td>\n",
       "      <td>43703000.0</td>\n",
       "      <td>112.928734</td>\n",
       "    </tr>\n",
       "    <tr>\n",
       "      <th>2015-01-08</th>\n",
       "      <td>138.0</td>\n",
       "      <td>136.0</td>\n",
       "      <td>136.5</td>\n",
       "      <td>138.0</td>\n",
       "      <td>42491000.0</td>\n",
       "      <td>116.299728</td>\n",
       "    </tr>\n",
       "    <tr>\n",
       "      <th>2015-01-09</th>\n",
       "      <td>135.5</td>\n",
       "      <td>133.0</td>\n",
       "      <td>135.0</td>\n",
       "      <td>134.0</td>\n",
       "      <td>61558000.0</td>\n",
       "      <td>112.928734</td>\n",
       "    </tr>\n",
       "  </tbody>\n",
       "</table>\n",
       "</div>"
      ],
      "text/plain": [
       "             High    Low   Open  Close      Volume   Adj Close\n",
       "Date                                                          \n",
       "2015-01-05  140.5  137.5  140.5  139.5  32046000.0  117.563866\n",
       "2015-01-06  137.5  133.0  137.5  133.5  66778000.0  112.507347\n",
       "2015-01-07  135.0  133.5  133.5  134.0  43703000.0  112.928734\n",
       "2015-01-08  138.0  136.0  136.5  138.0  42491000.0  116.299728\n",
       "2015-01-09  135.5  133.0  135.0  134.0  61558000.0  112.928734"
      ]
     },
     "execution_count": 62,
     "metadata": {},
     "output_type": "execute_result"
    }
   ],
   "source": [
    "from pandas_datareader import DataReader\n",
    "df = DataReader('2330.TW', 'yahoo', start='2015-01-01', end='2018-01-01')\n",
    "df.head()\n"
   ]
  },
  {
   "cell_type": "code",
   "execution_count": 63,
   "metadata": {},
   "outputs": [
    {
     "data": {
      "text/html": [
       "<div>\n",
       "<style scoped>\n",
       "    .dataframe tbody tr th:only-of-type {\n",
       "        vertical-align: middle;\n",
       "    }\n",
       "\n",
       "    .dataframe tbody tr th {\n",
       "        vertical-align: top;\n",
       "    }\n",
       "\n",
       "    .dataframe thead th {\n",
       "        text-align: right;\n",
       "    }\n",
       "</style>\n",
       "<table border=\"1\" class=\"dataframe\">\n",
       "  <thead>\n",
       "    <tr style=\"text-align: right;\">\n",
       "      <th>Symbols</th>\n",
       "      <th>2330.TW</th>\n",
       "      <th>2454.TW</th>\n",
       "    </tr>\n",
       "    <tr>\n",
       "      <th>Date</th>\n",
       "      <th></th>\n",
       "      <th></th>\n",
       "    </tr>\n",
       "  </thead>\n",
       "  <tbody>\n",
       "    <tr>\n",
       "      <th>2015-01-05</th>\n",
       "      <td>139.5</td>\n",
       "      <td>462.0</td>\n",
       "    </tr>\n",
       "    <tr>\n",
       "      <th>2015-01-06</th>\n",
       "      <td>133.5</td>\n",
       "      <td>458.0</td>\n",
       "    </tr>\n",
       "    <tr>\n",
       "      <th>2015-01-07</th>\n",
       "      <td>134.0</td>\n",
       "      <td>486.5</td>\n",
       "    </tr>\n",
       "    <tr>\n",
       "      <th>2015-01-08</th>\n",
       "      <td>138.0</td>\n",
       "      <td>485.0</td>\n",
       "    </tr>\n",
       "    <tr>\n",
       "      <th>2015-01-09</th>\n",
       "      <td>134.0</td>\n",
       "      <td>488.0</td>\n",
       "    </tr>\n",
       "  </tbody>\n",
       "</table>\n",
       "</div>"
      ],
      "text/plain": [
       "Symbols     2330.TW  2454.TW\n",
       "Date                        \n",
       "2015-01-05    139.5    462.0\n",
       "2015-01-06    133.5    458.0\n",
       "2015-01-07    134.0    486.5\n",
       "2015-01-08    138.0    485.0\n",
       "2015-01-09    134.0    488.0"
      ]
     },
     "execution_count": 63,
     "metadata": {},
     "output_type": "execute_result"
    }
   ],
   "source": [
    "from pandas_datareader import DataReader\n",
    "df = DataReader(['2330.TW', '2454.TW'], 'yahoo', start='2015-01-01', end='2018-01-01')['Close']\n",
    "df.head()\n"
   ]
  },
  {
   "cell_type": "markdown",
   "metadata": {},
   "source": [
    "## Google Trends"
   ]
  },
  {
   "cell_type": "code",
   "execution_count": 80,
   "metadata": {},
   "outputs": [],
   "source": [
    "import requests\n",
    "res = requests.get('https://trends.google.com/trends/api/widgetdata/multiline?hl=zh-TW&tz=-480&req=%7B%22time%22:%222014-06-29+2019-06-29%22,%22resolution%22:%22WEEK%22,%22locale%22:%22zh-TW%22,%22comparisonItem%22:%5B%7B%22geo%22:%7B%22country%22:%22TW%22%7D,%22complexKeywordsRestriction%22:%7B%22keyword%22:%5B%7B%22type%22:%22BROAD%22,%22value%22:%22%E6%84%9F%E5%86%92%22%7D%5D%7D%7D%5D,%22requestOptions%22:%7B%22property%22:%22%22,%22backend%22:%22IZG%22,%22category%22:0%7D%7D&token=APP6_UEAAAAAXRgvff6VWPc7G-hHcd46jGQdsCm1Bri2&tz=-480')\n",
    "#res.text"
   ]
  },
  {
   "cell_type": "code",
   "execution_count": 64,
   "metadata": {},
   "outputs": [],
   "source": [
    "#https://trends.google.com/trends/explore?date=today%205-y&geo=TW&q=%E6%84%9F%E5%86%92"
   ]
  },
  {
   "cell_type": "code",
   "execution_count": 99,
   "metadata": {},
   "outputs": [],
   "source": [
    "import requests\n",
    "import json\n",
    "headers = {\n",
    "'cookie': '__utmc=10102256; __utmz=10102256.1561773664.5.5.utmcsr=google|utmccn=(organic)|utmcmd=organic|utmctr=(not%20provided); __utma=10102256.419893392.1561557944.1561773664.1561779480.6; __utmt=1; __utmb=10102256.3.10.1561779480; SID=jQf1SJJW5JlbtypjYIjKvG1AsAMlnGAn03uNhmZrKiAJWsQXbEJpMu9FA5BebmeLQQy2rg.; HSID=AX3bFPnhtMryqNJGV; SSID=A8mfNA1V7n1HA1pZH; APISID=aXpt2tGRbvW2E5BA/Aitv0dsUpTzmOkYQ0; SAPISID=CqPgm6Iaj1V3RYO6/AQyGviVWQZaxZLRGj; ANID=AHWqTUm0e047IDmOPKF8qAFQS6geukATff75di7p5rYWDuASU0wsErqHtjH2X8Iz; NID=186=fZ4KPVWBZAcSClgN61gTdjo8RkFLVBxMNX-TgGgl3QzomJCJk5nOIIiPyTKdFhAwjODDUSEZ8RYlLSv4t0k1vZUof5TdibLGKOJ3-Z02P7Mhm7IEBZ6BEEq8i6oTVBt3Z6C5qw1xs7RPjbF3vaXfbfX5mc75UR2HwdA8jMWvT0pufHCjCn1kUEJ03nqEy0vZ6ConeBnML6gtE1PJ9JDuLZCCeUJx444oQjlv5temvzgIE26qFHJoKC7rm3jKuwJsZUI0JKFl-1cOqbr3mt0H6f_bPzgMzaVUTdgaARXFkw3PEZfq6geyftCXOfqQi7Iud4Md_LsYq7NleqikrEARe_ha5y3BKFgiw84-NJgdP0PkKbswWyVQyNPYq3j5yIqbXn6NU-rstdjwIIxx5l3rgVi0CQFnlTUs1762FLH8o9SocWfuhztiiyvOwZV-EpWPFUYuZ18; 1P_JAR=2019-6-29-3; SIDCC=AN0-TYuusCDOLkG2uc-mDa4pjgbs9TBHAgvGKatpGyGyRmyz1kMfxBu19rd9rMCjpy87JM1YhwE2',\n",
    "'user-agent': 'Mozilla/5.0 (Macintosh; Intel Mac OS X 10_14_0) AppleWebKit/537.36 (KHTML, like Gecko) Chrome/75.0.3770.100 Safari/537.36'   \n",
    "}\n",
    "keyword = '燒肉'\n",
    "res = requests.get(f'https://trends.google.com/trends/api/explore?hl=zh-TW&tz=-480&req=%7B%22comparisonItem%22:%5B%7B%22keyword%22:%22{keyword}%22,%22geo%22:%22TW%22,%22time%22:%22today+5-y%22%7D%5D,%22category%22:0,%22property%22:%22%22%7D&tz=-480', headers = headers)\n",
    "jd = json.loads(res.text.lstrip(')]}\\'\\n'))"
   ]
  },
  {
   "cell_type": "code",
   "execution_count": 100,
   "metadata": {},
   "outputs": [
    {
     "data": {
      "text/plain": [
       "{'time': '2014-06-29 2019-06-29',\n",
       " 'resolution': 'WEEK',\n",
       " 'locale': 'zh-TW',\n",
       " 'comparisonItem': [{'geo': {'country': 'TW'},\n",
       "   'complexKeywordsRestriction': {'keyword': [{'type': 'BROAD',\n",
       "      'value': '燒肉'}]}}],\n",
       " 'requestOptions': {'property': '', 'backend': 'IZG', 'category': 0}}"
      ]
     },
     "execution_count": 100,
     "metadata": {},
     "output_type": "execute_result"
    }
   ],
   "source": [
    "jd['widgets'][0]['request']"
   ]
  },
  {
   "cell_type": "code",
   "execution_count": 101,
   "metadata": {},
   "outputs": [
    {
     "data": {
      "text/plain": [
       "'APP6_UEAAAAAXRg0lp4DdCMT_BwX4vzJuwG4c0_MQnz3'"
      ]
     },
     "execution_count": 101,
     "metadata": {},
     "output_type": "execute_result"
    }
   ],
   "source": [
    "jd['widgets'][0]['token']"
   ]
  },
  {
   "cell_type": "code",
   "execution_count": 102,
   "metadata": {},
   "outputs": [],
   "source": [
    "payload = {'hl': 'zh-TW',\n",
    "            'tz': -480,\n",
    "            'req'  : json.dumps(jd['widgets'][0]['request']),\n",
    "            'token' : jd['widgets'][0]['token'],\n",
    "            'tz': -480}\n",
    "\n",
    "url = 'https://trends.google.com/trends/api/widgetdata/multiline'\n",
    "res2 = requests.get(url, headers=headers, params = payload)\n"
   ]
  },
  {
   "cell_type": "code",
   "execution_count": 103,
   "metadata": {},
   "outputs": [],
   "source": [
    "#res.text"
   ]
  },
  {
   "cell_type": "code",
   "execution_count": 104,
   "metadata": {},
   "outputs": [],
   "source": [
    "jd2 = json.loads(res2.text.split('\\n')[1])"
   ]
  },
  {
   "cell_type": "code",
   "execution_count": 105,
   "metadata": {},
   "outputs": [],
   "source": [
    "#jd2"
   ]
  },
  {
   "cell_type": "code",
   "execution_count": 106,
   "metadata": {},
   "outputs": [],
   "source": [
    "import pandas\n",
    "dataary = []\n",
    "for ele in jd2['default']['timelineData']:\n",
    "    dataary.append([ele.get('time'), ele.get('value')[0]])\n"
   ]
  },
  {
   "cell_type": "code",
   "execution_count": 107,
   "metadata": {},
   "outputs": [],
   "source": [
    "df = pandas.DataFrame(dataary)\n",
    "df.columns = ['time', 'val']\n"
   ]
  },
  {
   "cell_type": "code",
   "execution_count": 108,
   "metadata": {},
   "outputs": [
    {
     "data": {
      "text/html": [
       "<div>\n",
       "<style scoped>\n",
       "    .dataframe tbody tr th:only-of-type {\n",
       "        vertical-align: middle;\n",
       "    }\n",
       "\n",
       "    .dataframe tbody tr th {\n",
       "        vertical-align: top;\n",
       "    }\n",
       "\n",
       "    .dataframe thead th {\n",
       "        text-align: right;\n",
       "    }\n",
       "</style>\n",
       "<table border=\"1\" class=\"dataframe\">\n",
       "  <thead>\n",
       "    <tr style=\"text-align: right;\">\n",
       "      <th></th>\n",
       "      <th>time</th>\n",
       "      <th>val</th>\n",
       "    </tr>\n",
       "  </thead>\n",
       "  <tbody>\n",
       "    <tr>\n",
       "      <th>0</th>\n",
       "      <td>1404000000</td>\n",
       "      <td>24</td>\n",
       "    </tr>\n",
       "    <tr>\n",
       "      <th>1</th>\n",
       "      <td>1404604800</td>\n",
       "      <td>25</td>\n",
       "    </tr>\n",
       "    <tr>\n",
       "      <th>2</th>\n",
       "      <td>1405209600</td>\n",
       "      <td>22</td>\n",
       "    </tr>\n",
       "    <tr>\n",
       "      <th>3</th>\n",
       "      <td>1405814400</td>\n",
       "      <td>25</td>\n",
       "    </tr>\n",
       "    <tr>\n",
       "      <th>4</th>\n",
       "      <td>1406419200</td>\n",
       "      <td>30</td>\n",
       "    </tr>\n",
       "  </tbody>\n",
       "</table>\n",
       "</div>"
      ],
      "text/plain": [
       "         time  val\n",
       "0  1404000000   24\n",
       "1  1404604800   25\n",
       "2  1405209600   22\n",
       "3  1405814400   25\n",
       "4  1406419200   30"
      ]
     },
     "execution_count": 108,
     "metadata": {},
     "output_type": "execute_result"
    }
   ],
   "source": [
    "df.head()"
   ]
  },
  {
   "cell_type": "code",
   "execution_count": 109,
   "metadata": {},
   "outputs": [],
   "source": [
    "df['time'] = pandas.to_datetime(df['time'], unit='s')\n"
   ]
  },
  {
   "cell_type": "code",
   "execution_count": 110,
   "metadata": {},
   "outputs": [
    {
     "data": {
      "text/html": [
       "<div>\n",
       "<style scoped>\n",
       "    .dataframe tbody tr th:only-of-type {\n",
       "        vertical-align: middle;\n",
       "    }\n",
       "\n",
       "    .dataframe tbody tr th {\n",
       "        vertical-align: top;\n",
       "    }\n",
       "\n",
       "    .dataframe thead th {\n",
       "        text-align: right;\n",
       "    }\n",
       "</style>\n",
       "<table border=\"1\" class=\"dataframe\">\n",
       "  <thead>\n",
       "    <tr style=\"text-align: right;\">\n",
       "      <th></th>\n",
       "      <th>val</th>\n",
       "    </tr>\n",
       "    <tr>\n",
       "      <th>time</th>\n",
       "      <th></th>\n",
       "    </tr>\n",
       "  </thead>\n",
       "  <tbody>\n",
       "    <tr>\n",
       "      <th>2014-06-29</th>\n",
       "      <td>24</td>\n",
       "    </tr>\n",
       "    <tr>\n",
       "      <th>2014-07-06</th>\n",
       "      <td>25</td>\n",
       "    </tr>\n",
       "    <tr>\n",
       "      <th>2014-07-13</th>\n",
       "      <td>22</td>\n",
       "    </tr>\n",
       "    <tr>\n",
       "      <th>2014-07-20</th>\n",
       "      <td>25</td>\n",
       "    </tr>\n",
       "    <tr>\n",
       "      <th>2014-07-27</th>\n",
       "      <td>30</td>\n",
       "    </tr>\n",
       "  </tbody>\n",
       "</table>\n",
       "</div>"
      ],
      "text/plain": [
       "            val\n",
       "time           \n",
       "2014-06-29   24\n",
       "2014-07-06   25\n",
       "2014-07-13   22\n",
       "2014-07-20   25\n",
       "2014-07-27   30"
      ]
     },
     "execution_count": 110,
     "metadata": {},
     "output_type": "execute_result"
    }
   ],
   "source": [
    "df.set_index('time', inplace=True)\n",
    "df.head()\n"
   ]
  },
  {
   "cell_type": "code",
   "execution_count": 111,
   "metadata": {},
   "outputs": [
    {
     "name": "stdout",
     "output_type": "stream",
     "text": [
      "Populating the interactive namespace from numpy and matplotlib\n"
     ]
    },
    {
     "data": {
      "text/plain": [
       "<matplotlib.axes._subplots.AxesSubplot at 0x119514940>"
      ]
     },
     "execution_count": 111,
     "metadata": {},
     "output_type": "execute_result"
    },
    {
     "data": {
      "image/png": "[encoded data removed]",
      "text/plain": [
       "<Figure size 1440x720 with 1 Axes>"
      ]
     },
     "metadata": {},
     "output_type": "display_data"
    }
   ],
   "source": [
    "%pylab inline\n",
    "df.plot(kind = 'line' , figsize = [20,10])\n"
   ]
  },
  {
   "cell_type": "markdown",
   "metadata": {},
   "source": [
    "## 使用 Pytrends\n",
    "- https://github.com/GeneralMills/pytrends\n",
    "- pip install pytrends"
   ]
  },
  {
   "cell_type": "code",
   "execution_count": 122,
   "metadata": {},
   "outputs": [
    {
     "data": {
      "text/html": [
       "<div>\n",
       "<style scoped>\n",
       "    .dataframe tbody tr th:only-of-type {\n",
       "        vertical-align: middle;\n",
       "    }\n",
       "\n",
       "    .dataframe tbody tr th {\n",
       "        vertical-align: top;\n",
       "    }\n",
       "\n",
       "    .dataframe thead th {\n",
       "        text-align: right;\n",
       "    }\n",
       "</style>\n",
       "<table border=\"1\" class=\"dataframe\">\n",
       "  <thead>\n",
       "    <tr style=\"text-align: right;\">\n",
       "      <th></th>\n",
       "      <th>感冒</th>\n",
       "      <th>isPartial</th>\n",
       "    </tr>\n",
       "    <tr>\n",
       "      <th>date</th>\n",
       "      <th></th>\n",
       "      <th></th>\n",
       "    </tr>\n",
       "  </thead>\n",
       "  <tbody>\n",
       "    <tr>\n",
       "      <th>2014-06-29</th>\n",
       "      <td>28</td>\n",
       "      <td>False</td>\n",
       "    </tr>\n",
       "    <tr>\n",
       "      <th>2014-07-06</th>\n",
       "      <td>30</td>\n",
       "      <td>False</td>\n",
       "    </tr>\n",
       "    <tr>\n",
       "      <th>2014-07-13</th>\n",
       "      <td>33</td>\n",
       "      <td>False</td>\n",
       "    </tr>\n",
       "    <tr>\n",
       "      <th>2014-07-20</th>\n",
       "      <td>26</td>\n",
       "      <td>False</td>\n",
       "    </tr>\n",
       "    <tr>\n",
       "      <th>2014-07-27</th>\n",
       "      <td>29</td>\n",
       "      <td>False</td>\n",
       "    </tr>\n",
       "  </tbody>\n",
       "</table>\n",
       "</div>"
      ],
      "text/plain": [
       "            感冒 isPartial\n",
       "date                    \n",
       "2014-06-29  28     False\n",
       "2014-07-06  30     False\n",
       "2014-07-13  33     False\n",
       "2014-07-20  26     False\n",
       "2014-07-27  29     False"
      ]
     },
     "execution_count": 122,
     "metadata": {},
     "output_type": "execute_result"
    }
   ],
   "source": [
    "from pytrends.request import TrendReq\n",
    "keyword = '感冒'\n",
    "kw_list = [keyword]\n",
    "pytrends = TrendReq(hl='zh-TW', tz=-480)\n",
    "pytrends.build_payload(kw_list, cat=0, timeframe='today 5-y', geo='TW', gprop='')\n",
    "\n",
    "data = pytrends.interest_over_time()\n",
    "data.head()\n"
   ]
  },
  {
   "cell_type": "code",
   "execution_count": 123,
   "metadata": {},
   "outputs": [
    {
     "data": {
      "text/plain": [
       "<matplotlib.axes._subplots.AxesSubplot at 0x11a308cf8>"
      ]
     },
     "execution_count": 123,
     "metadata": {},
     "output_type": "execute_result"
    },
    {
     "data": {
      "image/png": "[encoded data removed]",
      "text/plain": [
       "<Figure size 1440x720 with 1 Axes>"
      ]
     },
     "metadata": {},
     "output_type": "display_data"
    }
   ],
   "source": [
    "data[keyword].plot(kind = 'line', figsize = [20,10])"
   ]
  },
  {
   "cell_type": "code",
   "execution_count": 124,
   "metadata": {},
   "outputs": [],
   "source": [
    "data['ma30'] = data[keyword].rolling(window = 30).mean()"
   ]
  },
  {
   "cell_type": "code",
   "execution_count": 129,
   "metadata": {},
   "outputs": [
    {
     "name": "stdout",
     "output_type": "stream",
     "text": [
      "MingLiU-ExtB\n",
      "Mishafi\n",
      "Meiryo\n",
      "PMingLiU\n",
      "Gabriola\n",
      "Microsoft JhengHei\n",
      "MS PMincho\n",
      "SimHei\n",
      "Cambria Math\n",
      "AppleGothic\n",
      "Cambria\n",
      "PMingLiU-ExtB\n",
      "System Font\n",
      "Meiryo\n",
      "Arial Unicode MS\n",
      "Batang\n",
      "Meiryo\n",
      "Gulim\n",
      "Diwan Thuluth\n",
      "System Font\n",
      "MingLiU_HKSCS-ExtB\n",
      "SimSun\n",
      "Meiryo\n",
      "MS Gothic\n",
      "MingLiU_HKSCS\n",
      "MingLiU\n",
      "MS Mincho\n",
      "MS PGothic\n",
      "AppleMyungjo\n",
      "SimSun-ExtB\n"
     ]
    }
   ],
   "source": [
    "from matplotlib.font_manager import fontManager\n",
    "import os\n",
    " \n",
    "fonts = [font.name for font in fontManager.ttflist if \n",
    "         os.path.exists(font.fname) and os.stat(font.fname).st_size>1e6] \n",
    " \n",
    "for font in fonts:\n",
    "    print(font)\n"
   ]
  },
  {
   "cell_type": "code",
   "execution_count": 132,
   "metadata": {},
   "outputs": [
    {
     "data": {
      "text/plain": [
       "<matplotlib.axes._subplots.AxesSubplot at 0x11a87f828>"
      ]
     },
     "execution_count": 132,
     "metadata": {},
     "output_type": "execute_result"
    },
    {
     "data": {
      "image/png": "[encoded data removed]",
      "text/plain": [
       "<Figure size 432x288 with 1 Axes>"
      ]
     },
     "metadata": {},
     "output_type": "display_data"
    }
   ],
   "source": [
    "\n",
    "from pylab import * \n",
    "import matplotlib\n",
    "matplotlib.rcParams['font.family'] = 'PMingLiU'\n",
    "mpl.rcParams['font.sans-serif'] = ['PMingLiU']\n",
    "\n",
    "import matplotlib.pyplot as plt\n",
    "plt.rcParams['font.sans-serif']=['PMingLiU']\n",
    "\n",
    "data.plot(kind = 'line')"
   ]
  },
  {
   "cell_type": "markdown",
   "metadata": {},
   "source": [
    "## 使用 Pandas 分析 Google Trends 與股價的關係"
   ]
  },
  {
   "cell_type": "markdown",
   "metadata": {},
   "source": [
    "### 直接讀取 Github 上面的資料"
   ]
  },
  {
   "cell_type": "code",
   "execution_count": 159,
   "metadata": {},
   "outputs": [
    {
     "data": {
      "text/html": [
       "<div>\n",
       "<style scoped>\n",
       "    .dataframe tbody tr th:only-of-type {\n",
       "        vertical-align: middle;\n",
       "    }\n",
       "\n",
       "    .dataframe tbody tr th {\n",
       "        vertical-align: top;\n",
       "    }\n",
       "\n",
       "    .dataframe thead th {\n",
       "        text-align: right;\n",
       "    }\n",
       "</style>\n",
       "<table border=\"1\" class=\"dataframe\">\n",
       "  <thead>\n",
       "    <tr style=\"text-align: right;\">\n",
       "      <th></th>\n",
       "      <th>google</th>\n",
       "    </tr>\n",
       "    <tr>\n",
       "      <th>Date</th>\n",
       "      <th></th>\n",
       "    </tr>\n",
       "  </thead>\n",
       "  <tbody>\n",
       "    <tr>\n",
       "      <th>2014-06-29</th>\n",
       "      <td>28</td>\n",
       "    </tr>\n",
       "    <tr>\n",
       "      <th>2014-07-06</th>\n",
       "      <td>31</td>\n",
       "    </tr>\n",
       "    <tr>\n",
       "      <th>2014-07-13</th>\n",
       "      <td>34</td>\n",
       "    </tr>\n",
       "    <tr>\n",
       "      <th>2014-07-20</th>\n",
       "      <td>26</td>\n",
       "    </tr>\n",
       "    <tr>\n",
       "      <th>2014-07-27</th>\n",
       "      <td>27</td>\n",
       "    </tr>\n",
       "  </tbody>\n",
       "</table>\n",
       "</div>"
      ],
      "text/plain": [
       "            google\n",
       "Date              \n",
       "2014-06-29      28\n",
       "2014-07-06      31\n",
       "2014-07-13      34\n",
       "2014-07-20      26\n",
       "2014-07-27      27"
      ]
     },
     "execution_count": 159,
     "metadata": {},
     "output_type": "execute_result"
    }
   ],
   "source": [
    "import pandas as pd\n",
    "df = pd.read_csv('https://raw.githubusercontent.com/ywchiu/financepy/master/data/google_trends.csv', index_col= 'Date', parse_dates=True)\n",
    "df.head()"
   ]
  },
  {
   "cell_type": "markdown",
   "metadata": {},
   "source": [
    "### 使用 PyTrends 取得資料 (Method2)"
   ]
  },
  {
   "cell_type": "code",
   "execution_count": 133,
   "metadata": {},
   "outputs": [
    {
     "data": {
      "text/html": [
       "<div>\n",
       "<style scoped>\n",
       "    .dataframe tbody tr th:only-of-type {\n",
       "        vertical-align: middle;\n",
       "    }\n",
       "\n",
       "    .dataframe tbody tr th {\n",
       "        vertical-align: top;\n",
       "    }\n",
       "\n",
       "    .dataframe thead th {\n",
       "        text-align: right;\n",
       "    }\n",
       "</style>\n",
       "<table border=\"1\" class=\"dataframe\">\n",
       "  <thead>\n",
       "    <tr style=\"text-align: right;\">\n",
       "      <th></th>\n",
       "      <th>感冒</th>\n",
       "      <th>isPartial</th>\n",
       "    </tr>\n",
       "    <tr>\n",
       "      <th>date</th>\n",
       "      <th></th>\n",
       "      <th></th>\n",
       "    </tr>\n",
       "  </thead>\n",
       "  <tbody>\n",
       "    <tr>\n",
       "      <th>2014-06-29</th>\n",
       "      <td>29</td>\n",
       "      <td>False</td>\n",
       "    </tr>\n",
       "    <tr>\n",
       "      <th>2014-07-06</th>\n",
       "      <td>30</td>\n",
       "      <td>False</td>\n",
       "    </tr>\n",
       "    <tr>\n",
       "      <th>2014-07-13</th>\n",
       "      <td>34</td>\n",
       "      <td>False</td>\n",
       "    </tr>\n",
       "    <tr>\n",
       "      <th>2014-07-20</th>\n",
       "      <td>28</td>\n",
       "      <td>False</td>\n",
       "    </tr>\n",
       "    <tr>\n",
       "      <th>2014-07-27</th>\n",
       "      <td>31</td>\n",
       "      <td>False</td>\n",
       "    </tr>\n",
       "  </tbody>\n",
       "</table>\n",
       "</div>"
      ],
      "text/plain": [
       "            感冒 isPartial\n",
       "date                    \n",
       "2014-06-29  29     False\n",
       "2014-07-06  30     False\n",
       "2014-07-13  34     False\n",
       "2014-07-20  28     False\n",
       "2014-07-27  31     False"
      ]
     },
     "execution_count": 133,
     "metadata": {},
     "output_type": "execute_result"
    }
   ],
   "source": [
    "from pytrends.request import TrendReq\n",
    "\n",
    "keyword = '感冒'\n",
    "kw_list = [keyword]\n",
    "pytrends = TrendReq(hl='zh-TW', tz=-480)\n",
    "\n",
    "pytrends.build_payload(kw_list, cat=0, timeframe='today 5-y', geo='TW', gprop='')\n",
    "\n",
    "data = pytrends.interest_over_time()\n",
    "\n",
    "data.head()\n"
   ]
  },
  {
   "cell_type": "code",
   "execution_count": 135,
   "metadata": {},
   "outputs": [
    {
     "data": {
      "text/html": [
       "<div>\n",
       "<style scoped>\n",
       "    .dataframe tbody tr th:only-of-type {\n",
       "        vertical-align: middle;\n",
       "    }\n",
       "\n",
       "    .dataframe tbody tr th {\n",
       "        vertical-align: top;\n",
       "    }\n",
       "\n",
       "    .dataframe thead th {\n",
       "        text-align: right;\n",
       "    }\n",
       "</style>\n",
       "<table border=\"1\" class=\"dataframe\">\n",
       "  <thead>\n",
       "    <tr style=\"text-align: right;\">\n",
       "      <th></th>\n",
       "      <th>感冒</th>\n",
       "    </tr>\n",
       "    <tr>\n",
       "      <th>date</th>\n",
       "      <th></th>\n",
       "    </tr>\n",
       "  </thead>\n",
       "  <tbody>\n",
       "    <tr>\n",
       "      <th>2014-06-29</th>\n",
       "      <td>29</td>\n",
       "    </tr>\n",
       "    <tr>\n",
       "      <th>2014-07-06</th>\n",
       "      <td>30</td>\n",
       "    </tr>\n",
       "    <tr>\n",
       "      <th>2014-07-13</th>\n",
       "      <td>34</td>\n",
       "    </tr>\n",
       "    <tr>\n",
       "      <th>2014-07-20</th>\n",
       "      <td>28</td>\n",
       "    </tr>\n",
       "    <tr>\n",
       "      <th>2014-07-27</th>\n",
       "      <td>31</td>\n",
       "    </tr>\n",
       "  </tbody>\n",
       "</table>\n",
       "</div>"
      ],
      "text/plain": [
       "            感冒\n",
       "date          \n",
       "2014-06-29  29\n",
       "2014-07-06  30\n",
       "2014-07-13  34\n",
       "2014-07-20  28\n",
       "2014-07-27  31"
      ]
     },
     "execution_count": 135,
     "metadata": {},
     "output_type": "execute_result"
    }
   ],
   "source": [
    "data = data[[keyword]]\n",
    "data.head()"
   ]
  },
  {
   "cell_type": "code",
   "execution_count": 136,
   "metadata": {},
   "outputs": [
    {
     "data": {
      "text/plain": [
       "Index(['感冒'], dtype='object')"
      ]
     },
     "execution_count": 136,
     "metadata": {},
     "output_type": "execute_result"
    }
   ],
   "source": [
    "data.columns"
   ]
  },
  {
   "cell_type": "code",
   "execution_count": 137,
   "metadata": {},
   "outputs": [],
   "source": [
    "data.columns = ['google']"
   ]
  },
  {
   "cell_type": "code",
   "execution_count": 138,
   "metadata": {},
   "outputs": [
    {
     "data": {
      "text/html": [
       "<div>\n",
       "<style scoped>\n",
       "    .dataframe tbody tr th:only-of-type {\n",
       "        vertical-align: middle;\n",
       "    }\n",
       "\n",
       "    .dataframe tbody tr th {\n",
       "        vertical-align: top;\n",
       "    }\n",
       "\n",
       "    .dataframe thead th {\n",
       "        text-align: right;\n",
       "    }\n",
       "</style>\n",
       "<table border=\"1\" class=\"dataframe\">\n",
       "  <thead>\n",
       "    <tr style=\"text-align: right;\">\n",
       "      <th></th>\n",
       "      <th>google</th>\n",
       "    </tr>\n",
       "    <tr>\n",
       "      <th>date</th>\n",
       "      <th></th>\n",
       "    </tr>\n",
       "  </thead>\n",
       "  <tbody>\n",
       "    <tr>\n",
       "      <th>2014-06-29</th>\n",
       "      <td>29</td>\n",
       "    </tr>\n",
       "    <tr>\n",
       "      <th>2014-07-06</th>\n",
       "      <td>30</td>\n",
       "    </tr>\n",
       "    <tr>\n",
       "      <th>2014-07-13</th>\n",
       "      <td>34</td>\n",
       "    </tr>\n",
       "    <tr>\n",
       "      <th>2014-07-20</th>\n",
       "      <td>28</td>\n",
       "    </tr>\n",
       "    <tr>\n",
       "      <th>2014-07-27</th>\n",
       "      <td>31</td>\n",
       "    </tr>\n",
       "  </tbody>\n",
       "</table>\n",
       "</div>"
      ],
      "text/plain": [
       "            google\n",
       "date              \n",
       "2014-06-29      29\n",
       "2014-07-06      30\n",
       "2014-07-13      34\n",
       "2014-07-20      28\n",
       "2014-07-27      31"
      ]
     },
     "execution_count": 138,
     "metadata": {},
     "output_type": "execute_result"
    }
   ],
   "source": [
    "data.head()"
   ]
  },
  {
   "cell_type": "code",
   "execution_count": 140,
   "metadata": {},
   "outputs": [],
   "source": [
    "data.index.name = 'Date'"
   ]
  },
  {
   "cell_type": "code",
   "execution_count": 141,
   "metadata": {},
   "outputs": [
    {
     "data": {
      "text/html": [
       "<div>\n",
       "<style scoped>\n",
       "    .dataframe tbody tr th:only-of-type {\n",
       "        vertical-align: middle;\n",
       "    }\n",
       "\n",
       "    .dataframe tbody tr th {\n",
       "        vertical-align: top;\n",
       "    }\n",
       "\n",
       "    .dataframe thead th {\n",
       "        text-align: right;\n",
       "    }\n",
       "</style>\n",
       "<table border=\"1\" class=\"dataframe\">\n",
       "  <thead>\n",
       "    <tr style=\"text-align: right;\">\n",
       "      <th></th>\n",
       "      <th>google</th>\n",
       "    </tr>\n",
       "    <tr>\n",
       "      <th>Date</th>\n",
       "      <th></th>\n",
       "    </tr>\n",
       "  </thead>\n",
       "  <tbody>\n",
       "    <tr>\n",
       "      <th>2014-06-29</th>\n",
       "      <td>29</td>\n",
       "    </tr>\n",
       "    <tr>\n",
       "      <th>2014-07-06</th>\n",
       "      <td>30</td>\n",
       "    </tr>\n",
       "    <tr>\n",
       "      <th>2014-07-13</th>\n",
       "      <td>34</td>\n",
       "    </tr>\n",
       "    <tr>\n",
       "      <th>2014-07-20</th>\n",
       "      <td>28</td>\n",
       "    </tr>\n",
       "    <tr>\n",
       "      <th>2014-07-27</th>\n",
       "      <td>31</td>\n",
       "    </tr>\n",
       "  </tbody>\n",
       "</table>\n",
       "</div>"
      ],
      "text/plain": [
       "            google\n",
       "Date              \n",
       "2014-06-29      29\n",
       "2014-07-06      30\n",
       "2014-07-13      34\n",
       "2014-07-20      28\n",
       "2014-07-27      31"
      ]
     },
     "execution_count": 141,
     "metadata": {},
     "output_type": "execute_result"
    }
   ],
   "source": [
    "data.head()"
   ]
  },
  {
   "cell_type": "code",
   "execution_count": 146,
   "metadata": {},
   "outputs": [
    {
     "data": {
      "text/plain": [
       "'Sun'"
      ]
     },
     "execution_count": 146,
     "metadata": {},
     "output_type": "execute_result"
    }
   ],
   "source": [
    "from datetime import datetime\n",
    "datetime.strptime('2014-06-29','%Y-%m-%d').strftime('%a')"
   ]
  },
  {
   "cell_type": "code",
   "execution_count": 147,
   "metadata": {},
   "outputs": [
    {
     "data": {
      "text/plain": [
       "'Mon'"
      ]
     },
     "execution_count": 147,
     "metadata": {},
     "output_type": "execute_result"
    }
   ],
   "source": [
    "datetime.strptime('2014-06-30','%Y-%m-%d').strftime('%a')"
   ]
  },
  {
   "cell_type": "code",
   "execution_count": 148,
   "metadata": {},
   "outputs": [
    {
     "data": {
      "text/plain": [
       "DatetimeIndex(['2014-06-29', '2014-07-06', '2014-07-13', '2014-07-20',\n",
       "               '2014-07-27', '2014-08-03', '2014-08-10', '2014-08-17',\n",
       "               '2014-08-24', '2014-08-31',\n",
       "               ...\n",
       "               '2019-04-21', '2019-04-28', '2019-05-05', '2019-05-12',\n",
       "               '2019-05-19', '2019-05-26', '2019-06-02', '2019-06-09',\n",
       "               '2019-06-16', '2019-06-23'],\n",
       "              dtype='datetime64[ns]', name='Date', length=261, freq=None)"
      ]
     },
     "execution_count": 148,
     "metadata": {},
     "output_type": "execute_result"
    }
   ],
   "source": [
    "data.index"
   ]
  },
  {
   "cell_type": "code",
   "execution_count": 149,
   "metadata": {},
   "outputs": [
    {
     "data": {
      "text/plain": [
       "DatetimeIndex(['2014-06-30', '2014-07-07', '2014-07-14', '2014-07-21',\n",
       "               '2014-07-28', '2014-08-04', '2014-08-11', '2014-08-18',\n",
       "               '2014-08-25', '2014-09-01',\n",
       "               ...\n",
       "               '2019-04-22', '2019-04-29', '2019-05-06', '2019-05-13',\n",
       "               '2019-05-20', '2019-05-27', '2019-06-03', '2019-06-10',\n",
       "               '2019-06-17', '2019-06-24'],\n",
       "              dtype='datetime64[ns]', name='Date', length=261, freq='W-MON')"
      ]
     },
     "execution_count": 149,
     "metadata": {},
     "output_type": "execute_result"
    }
   ],
   "source": [
    "data.index + timedelta(days = 1)"
   ]
  },
  {
   "cell_type": "code",
   "execution_count": 150,
   "metadata": {},
   "outputs": [],
   "source": [
    "data.index = data.index + timedelta(days = 1)"
   ]
  },
  {
   "cell_type": "code",
   "execution_count": 151,
   "metadata": {},
   "outputs": [
    {
     "data": {
      "text/html": [
       "<div>\n",
       "<style scoped>\n",
       "    .dataframe tbody tr th:only-of-type {\n",
       "        vertical-align: middle;\n",
       "    }\n",
       "\n",
       "    .dataframe tbody tr th {\n",
       "        vertical-align: top;\n",
       "    }\n",
       "\n",
       "    .dataframe thead th {\n",
       "        text-align: right;\n",
       "    }\n",
       "</style>\n",
       "<table border=\"1\" class=\"dataframe\">\n",
       "  <thead>\n",
       "    <tr style=\"text-align: right;\">\n",
       "      <th></th>\n",
       "      <th>google</th>\n",
       "    </tr>\n",
       "    <tr>\n",
       "      <th>Date</th>\n",
       "      <th></th>\n",
       "    </tr>\n",
       "  </thead>\n",
       "  <tbody>\n",
       "    <tr>\n",
       "      <th>2014-06-30</th>\n",
       "      <td>29</td>\n",
       "    </tr>\n",
       "    <tr>\n",
       "      <th>2014-07-07</th>\n",
       "      <td>30</td>\n",
       "    </tr>\n",
       "    <tr>\n",
       "      <th>2014-07-14</th>\n",
       "      <td>34</td>\n",
       "    </tr>\n",
       "    <tr>\n",
       "      <th>2014-07-21</th>\n",
       "      <td>28</td>\n",
       "    </tr>\n",
       "    <tr>\n",
       "      <th>2014-07-28</th>\n",
       "      <td>31</td>\n",
       "    </tr>\n",
       "  </tbody>\n",
       "</table>\n",
       "</div>"
      ],
      "text/plain": [
       "            google\n",
       "Date              \n",
       "2014-06-30      29\n",
       "2014-07-07      30\n",
       "2014-07-14      34\n",
       "2014-07-21      28\n",
       "2014-07-28      31"
      ]
     },
     "execution_count": 151,
     "metadata": {},
     "output_type": "execute_result"
    }
   ],
   "source": [
    "data.head()"
   ]
  },
  {
   "cell_type": "code",
   "execution_count": 157,
   "metadata": {},
   "outputs": [
    {
     "data": {
      "text/plain": [
       "<matplotlib.axes._subplots.AxesSubplot at 0x11ac61320>"
      ]
     },
     "execution_count": 157,
     "metadata": {},
     "output_type": "execute_result"
    },
    {
     "data": {
      "image/png": "[encoded data removed]",
      "text/plain": [
       "<Figure size 432x288 with 1 Axes>"
      ]
     },
     "metadata": {},
     "output_type": "display_data"
    }
   ],
   "source": [
    "data.plot(kind ='line')"
   ]
  },
  {
   "cell_type": "code",
   "execution_count": 152,
   "metadata": {},
   "outputs": [],
   "source": [
    "from pandas_datareader import DataReader\n",
    "?DataReader"
   ]
  },
  {
   "cell_type": "code",
   "execution_count": 154,
   "metadata": {},
   "outputs": [
    {
     "data": {
      "text/html": [
       "<div>\n",
       "<style scoped>\n",
       "    .dataframe tbody tr th:only-of-type {\n",
       "        vertical-align: middle;\n",
       "    }\n",
       "\n",
       "    .dataframe tbody tr th {\n",
       "        vertical-align: top;\n",
       "    }\n",
       "\n",
       "    .dataframe thead th {\n",
       "        text-align: right;\n",
       "    }\n",
       "</style>\n",
       "<table border=\"1\" class=\"dataframe\">\n",
       "  <thead>\n",
       "    <tr style=\"text-align: right;\">\n",
       "      <th></th>\n",
       "      <th>High</th>\n",
       "      <th>Low</th>\n",
       "      <th>Open</th>\n",
       "      <th>Close</th>\n",
       "      <th>Volume</th>\n",
       "      <th>Adj Close</th>\n",
       "    </tr>\n",
       "    <tr>\n",
       "      <th>Date</th>\n",
       "      <th></th>\n",
       "      <th></th>\n",
       "      <th></th>\n",
       "      <th></th>\n",
       "      <th></th>\n",
       "      <th></th>\n",
       "    </tr>\n",
       "  </thead>\n",
       "  <tbody>\n",
       "    <tr>\n",
       "      <th>2014-06-03</th>\n",
       "      <td>14.50</td>\n",
       "      <td>14.40</td>\n",
       "      <td>14.45</td>\n",
       "      <td>14.50</td>\n",
       "      <td>107000.0</td>\n",
       "      <td>13.023062</td>\n",
       "    </tr>\n",
       "    <tr>\n",
       "      <th>2014-06-04</th>\n",
       "      <td>14.50</td>\n",
       "      <td>14.45</td>\n",
       "      <td>14.50</td>\n",
       "      <td>14.45</td>\n",
       "      <td>204000.0</td>\n",
       "      <td>12.978155</td>\n",
       "    </tr>\n",
       "    <tr>\n",
       "      <th>2014-06-05</th>\n",
       "      <td>14.45</td>\n",
       "      <td>14.35</td>\n",
       "      <td>14.45</td>\n",
       "      <td>14.45</td>\n",
       "      <td>213000.0</td>\n",
       "      <td>12.978155</td>\n",
       "    </tr>\n",
       "    <tr>\n",
       "      <th>2014-06-06</th>\n",
       "      <td>14.70</td>\n",
       "      <td>14.40</td>\n",
       "      <td>14.45</td>\n",
       "      <td>14.40</td>\n",
       "      <td>291000.0</td>\n",
       "      <td>12.933248</td>\n",
       "    </tr>\n",
       "    <tr>\n",
       "      <th>2014-06-09</th>\n",
       "      <td>14.50</td>\n",
       "      <td>14.40</td>\n",
       "      <td>14.50</td>\n",
       "      <td>14.50</td>\n",
       "      <td>222000.0</td>\n",
       "      <td>13.023062</td>\n",
       "    </tr>\n",
       "  </tbody>\n",
       "</table>\n",
       "</div>"
      ],
      "text/plain": [
       "             High    Low   Open  Close    Volume  Adj Close\n",
       "Date                                                       \n",
       "2014-06-03  14.50  14.40  14.45  14.50  107000.0  13.023062\n",
       "2014-06-04  14.50  14.45  14.50  14.45  204000.0  12.978155\n",
       "2014-06-05  14.45  14.35  14.45  14.45  213000.0  12.978155\n",
       "2014-06-06  14.70  14.40  14.45  14.40  291000.0  12.933248\n",
       "2014-06-09  14.50  14.40  14.50  14.50  222000.0  13.023062"
      ]
     },
     "execution_count": 154,
     "metadata": {},
     "output_type": "execute_result"
    }
   ],
   "source": [
    "stock = DataReader('9919.TW', 'yahoo', start='2014-06-01', end='2018-12-31')\n",
    "stock.head()"
   ]
  },
  {
   "cell_type": "code",
   "execution_count": 156,
   "metadata": {},
   "outputs": [],
   "source": [
    "stock = stock[['Close']]"
   ]
  },
  {
   "cell_type": "code",
   "execution_count": 158,
   "metadata": {},
   "outputs": [
    {
     "data": {
      "text/plain": [
       "<matplotlib.axes._subplots.AxesSubplot at 0x11ab8d438>"
      ]
     },
     "execution_count": 158,
     "metadata": {},
     "output_type": "execute_result"
    },
    {
     "data": {
      "image/png": "[encoded data removed]",
      "text/plain": [
       "<Figure size 432x288 with 1 Axes>"
      ]
     },
     "metadata": {},
     "output_type": "display_data"
    }
   ],
   "source": [
    "stock.plot(kind ='line')"
   ]
  },
  {
   "cell_type": "code",
   "execution_count": 160,
   "metadata": {},
   "outputs": [
    {
     "data": {
      "text/html": [
       "<div>\n",
       "<style scoped>\n",
       "    .dataframe tbody tr th:only-of-type {\n",
       "        vertical-align: middle;\n",
       "    }\n",
       "\n",
       "    .dataframe tbody tr th {\n",
       "        vertical-align: top;\n",
       "    }\n",
       "\n",
       "    .dataframe thead th {\n",
       "        text-align: right;\n",
       "    }\n",
       "</style>\n",
       "<table border=\"1\" class=\"dataframe\">\n",
       "  <thead>\n",
       "    <tr style=\"text-align: right;\">\n",
       "      <th></th>\n",
       "      <th>google</th>\n",
       "    </tr>\n",
       "    <tr>\n",
       "      <th>Date</th>\n",
       "      <th></th>\n",
       "    </tr>\n",
       "  </thead>\n",
       "  <tbody>\n",
       "    <tr>\n",
       "      <th>2014-06-30</th>\n",
       "      <td>29</td>\n",
       "    </tr>\n",
       "    <tr>\n",
       "      <th>2014-07-07</th>\n",
       "      <td>30</td>\n",
       "    </tr>\n",
       "    <tr>\n",
       "      <th>2014-07-14</th>\n",
       "      <td>34</td>\n",
       "    </tr>\n",
       "    <tr>\n",
       "      <th>2014-07-21</th>\n",
       "      <td>28</td>\n",
       "    </tr>\n",
       "    <tr>\n",
       "      <th>2014-07-28</th>\n",
       "      <td>31</td>\n",
       "    </tr>\n",
       "  </tbody>\n",
       "</table>\n",
       "</div>"
      ],
      "text/plain": [
       "            google\n",
       "Date              \n",
       "2014-06-30      29\n",
       "2014-07-07      30\n",
       "2014-07-14      34\n",
       "2014-07-21      28\n",
       "2014-07-28      31"
      ]
     },
     "execution_count": 160,
     "metadata": {},
     "output_type": "execute_result"
    }
   ],
   "source": [
    "data.head()"
   ]
  },
  {
   "cell_type": "code",
   "execution_count": 161,
   "metadata": {},
   "outputs": [
    {
     "data": {
      "text/html": [
       "<div>\n",
       "<style scoped>\n",
       "    .dataframe tbody tr th:only-of-type {\n",
       "        vertical-align: middle;\n",
       "    }\n",
       "\n",
       "    .dataframe tbody tr th {\n",
       "        vertical-align: top;\n",
       "    }\n",
       "\n",
       "    .dataframe thead th {\n",
       "        text-align: right;\n",
       "    }\n",
       "</style>\n",
       "<table border=\"1\" class=\"dataframe\">\n",
       "  <thead>\n",
       "    <tr style=\"text-align: right;\">\n",
       "      <th></th>\n",
       "      <th>Close</th>\n",
       "    </tr>\n",
       "    <tr>\n",
       "      <th>Date</th>\n",
       "      <th></th>\n",
       "    </tr>\n",
       "  </thead>\n",
       "  <tbody>\n",
       "    <tr>\n",
       "      <th>2014-06-03</th>\n",
       "      <td>14.50</td>\n",
       "    </tr>\n",
       "    <tr>\n",
       "      <th>2014-06-04</th>\n",
       "      <td>14.45</td>\n",
       "    </tr>\n",
       "    <tr>\n",
       "      <th>2014-06-05</th>\n",
       "      <td>14.45</td>\n",
       "    </tr>\n",
       "    <tr>\n",
       "      <th>2014-06-06</th>\n",
       "      <td>14.40</td>\n",
       "    </tr>\n",
       "    <tr>\n",
       "      <th>2014-06-09</th>\n",
       "      <td>14.50</td>\n",
       "    </tr>\n",
       "  </tbody>\n",
       "</table>\n",
       "</div>"
      ],
      "text/plain": [
       "            Close\n",
       "Date             \n",
       "2014-06-03  14.50\n",
       "2014-06-04  14.45\n",
       "2014-06-05  14.45\n",
       "2014-06-06  14.40\n",
       "2014-06-09  14.50"
      ]
     },
     "execution_count": 161,
     "metadata": {},
     "output_type": "execute_result"
    }
   ],
   "source": [
    "stock.head()"
   ]
  },
  {
   "cell_type": "code",
   "execution_count": 162,
   "metadata": {},
   "outputs": [
    {
     "data": {
      "text/html": [
       "<div>\n",
       "<style scoped>\n",
       "    .dataframe tbody tr th:only-of-type {\n",
       "        vertical-align: middle;\n",
       "    }\n",
       "\n",
       "    .dataframe tbody tr th {\n",
       "        vertical-align: top;\n",
       "    }\n",
       "\n",
       "    .dataframe thead th {\n",
       "        text-align: right;\n",
       "    }\n",
       "</style>\n",
       "<table border=\"1\" class=\"dataframe\">\n",
       "  <thead>\n",
       "    <tr style=\"text-align: right;\">\n",
       "      <th></th>\n",
       "      <th>google</th>\n",
       "      <th>Close</th>\n",
       "    </tr>\n",
       "    <tr>\n",
       "      <th>Date</th>\n",
       "      <th></th>\n",
       "      <th></th>\n",
       "    </tr>\n",
       "  </thead>\n",
       "  <tbody>\n",
       "    <tr>\n",
       "      <th>2014-06-30</th>\n",
       "      <td>29</td>\n",
       "      <td>14.15</td>\n",
       "    </tr>\n",
       "    <tr>\n",
       "      <th>2014-07-07</th>\n",
       "      <td>30</td>\n",
       "      <td>14.30</td>\n",
       "    </tr>\n",
       "    <tr>\n",
       "      <th>2014-07-14</th>\n",
       "      <td>34</td>\n",
       "      <td>13.95</td>\n",
       "    </tr>\n",
       "    <tr>\n",
       "      <th>2014-07-21</th>\n",
       "      <td>28</td>\n",
       "      <td>13.85</td>\n",
       "    </tr>\n",
       "    <tr>\n",
       "      <th>2014-07-28</th>\n",
       "      <td>31</td>\n",
       "      <td>13.90</td>\n",
       "    </tr>\n",
       "  </tbody>\n",
       "</table>\n",
       "</div>"
      ],
      "text/plain": [
       "            google  Close\n",
       "Date                     \n",
       "2014-06-30      29  14.15\n",
       "2014-07-07      30  14.30\n",
       "2014-07-14      34  13.95\n",
       "2014-07-21      28  13.85\n",
       "2014-07-28      31  13.90"
      ]
     },
     "execution_count": 162,
     "metadata": {},
     "output_type": "execute_result"
    }
   ],
   "source": [
    "# SELECT * FROM 9919.TW INNER JOIN GOOGLE ON 9919.TW.Date = GOOGLE.Data \n",
    "m = pd.merge(data, stock, left_index=True, right_index=True)\n",
    "m.head()"
   ]
  },
  {
   "cell_type": "code",
   "execution_count": 163,
   "metadata": {},
   "outputs": [
    {
     "name": "stdout",
     "output_type": "stream",
     "text": [
      "Populating the interactive namespace from numpy and matplotlib\n"
     ]
    },
    {
     "name": "stderr",
     "output_type": "stream",
     "text": [
      "/Users/davidchiu/.pyenv/versions/3.6.2/lib/python3.6/site-packages/IPython/core/magics/pylab.py:161: UserWarning: pylab import has clobbered these variables: ['datetime', 'info', 'fft', 'random', 'power', 'linalg']\n",
      "`%matplotlib` prevents importing * from pylab and numpy\n",
      "  \"\\n`%matplotlib` prevents importing * from pylab and numpy\"\n"
     ]
    },
    {
     "data": {
      "text/plain": [
       "array([<matplotlib.axes._subplots.AxesSubplot object at 0x11ab90b38>,\n",
       "       <matplotlib.axes._subplots.AxesSubplot object at 0x11aecaf60>],\n",
       "      dtype=object)"
      ]
     },
     "execution_count": 163,
     "metadata": {},
     "output_type": "execute_result"
    },
    {
     "data": {
      "image/png": "[encoded data removed]",
      "text/plain": [
       "<Figure size 432x288 with 2 Axes>"
      ]
     },
     "metadata": {},
     "output_type": "display_data"
    }
   ],
   "source": [
    "%pylab inline \n",
    "m.plot(subplots=True)"
   ]
  },
  {
   "cell_type": "code",
   "execution_count": 164,
   "metadata": {},
   "outputs": [
    {
     "data": {
      "text/html": [
       "<div>\n",
       "<style scoped>\n",
       "    .dataframe tbody tr th:only-of-type {\n",
       "        vertical-align: middle;\n",
       "    }\n",
       "\n",
       "    .dataframe tbody tr th {\n",
       "        vertical-align: top;\n",
       "    }\n",
       "\n",
       "    .dataframe thead th {\n",
       "        text-align: right;\n",
       "    }\n",
       "</style>\n",
       "<table border=\"1\" class=\"dataframe\">\n",
       "  <thead>\n",
       "    <tr style=\"text-align: right;\">\n",
       "      <th></th>\n",
       "      <th>google</th>\n",
       "      <th>Close</th>\n",
       "    </tr>\n",
       "  </thead>\n",
       "  <tbody>\n",
       "    <tr>\n",
       "      <th>google</th>\n",
       "      <td>1.000000</td>\n",
       "      <td>-0.173206</td>\n",
       "    </tr>\n",
       "    <tr>\n",
       "      <th>Close</th>\n",
       "      <td>-0.173206</td>\n",
       "      <td>1.000000</td>\n",
       "    </tr>\n",
       "  </tbody>\n",
       "</table>\n",
       "</div>"
      ],
      "text/plain": [
       "          google     Close\n",
       "google  1.000000 -0.173206\n",
       "Close  -0.173206  1.000000"
      ]
     },
     "execution_count": 164,
     "metadata": {},
     "output_type": "execute_result"
    }
   ],
   "source": [
    "m.corr()"
   ]
  },
  {
   "cell_type": "code",
   "execution_count": 165,
   "metadata": {},
   "outputs": [],
   "source": [
    "m['google_mean'] = m['google'].rolling(window = 3).mean()"
   ]
  },
  {
   "cell_type": "code",
   "execution_count": 166,
   "metadata": {},
   "outputs": [
    {
     "data": {
      "text/html": [
       "<div>\n",
       "<style scoped>\n",
       "    .dataframe tbody tr th:only-of-type {\n",
       "        vertical-align: middle;\n",
       "    }\n",
       "\n",
       "    .dataframe tbody tr th {\n",
       "        vertical-align: top;\n",
       "    }\n",
       "\n",
       "    .dataframe thead th {\n",
       "        text-align: right;\n",
       "    }\n",
       "</style>\n",
       "<table border=\"1\" class=\"dataframe\">\n",
       "  <thead>\n",
       "    <tr style=\"text-align: right;\">\n",
       "      <th></th>\n",
       "      <th>google</th>\n",
       "      <th>Close</th>\n",
       "      <th>google_mean</th>\n",
       "    </tr>\n",
       "    <tr>\n",
       "      <th>Date</th>\n",
       "      <th></th>\n",
       "      <th></th>\n",
       "      <th></th>\n",
       "    </tr>\n",
       "  </thead>\n",
       "  <tbody>\n",
       "    <tr>\n",
       "      <th>2014-06-30</th>\n",
       "      <td>29</td>\n",
       "      <td>14.15</td>\n",
       "      <td>NaN</td>\n",
       "    </tr>\n",
       "    <tr>\n",
       "      <th>2014-07-07</th>\n",
       "      <td>30</td>\n",
       "      <td>14.30</td>\n",
       "      <td>NaN</td>\n",
       "    </tr>\n",
       "    <tr>\n",
       "      <th>2014-07-14</th>\n",
       "      <td>34</td>\n",
       "      <td>13.95</td>\n",
       "      <td>31.000000</td>\n",
       "    </tr>\n",
       "    <tr>\n",
       "      <th>2014-07-21</th>\n",
       "      <td>28</td>\n",
       "      <td>13.85</td>\n",
       "      <td>30.666667</td>\n",
       "    </tr>\n",
       "    <tr>\n",
       "      <th>2014-07-28</th>\n",
       "      <td>31</td>\n",
       "      <td>13.90</td>\n",
       "      <td>31.000000</td>\n",
       "    </tr>\n",
       "  </tbody>\n",
       "</table>\n",
       "</div>"
      ],
      "text/plain": [
       "            google  Close  google_mean\n",
       "Date                                  \n",
       "2014-06-30      29  14.15          NaN\n",
       "2014-07-07      30  14.30          NaN\n",
       "2014-07-14      34  13.95    31.000000\n",
       "2014-07-21      28  13.85    30.666667\n",
       "2014-07-28      31  13.90    31.000000"
      ]
     },
     "execution_count": 166,
     "metadata": {},
     "output_type": "execute_result"
    }
   ],
   "source": [
    "m.head()"
   ]
  },
  {
   "cell_type": "code",
   "execution_count": 168,
   "metadata": {},
   "outputs": [
    {
     "data": {
      "text/plain": [
       "<matplotlib.axes._subplots.AxesSubplot at 0x11aeb7908>"
      ]
     },
     "execution_count": 168,
     "metadata": {},
     "output_type": "execute_result"
    },
    {
     "data": {
      "image/png": "[encoded data removed]",
      "text/plain": [
       "<Figure size 1080x720 with 1 Axes>"
      ]
     },
     "metadata": {},
     "output_type": "display_data"
    }
   ],
   "source": [
    "m[['google', 'google_mean']].plot(kind = 'line', figsize = [15,10])"
   ]
  },
  {
   "cell_type": "code",
   "execution_count": 169,
   "metadata": {},
   "outputs": [
    {
     "data": {
      "text/html": [
       "<div>\n",
       "<style scoped>\n",
       "    .dataframe tbody tr th:only-of-type {\n",
       "        vertical-align: middle;\n",
       "    }\n",
       "\n",
       "    .dataframe tbody tr th {\n",
       "        vertical-align: top;\n",
       "    }\n",
       "\n",
       "    .dataframe thead th {\n",
       "        text-align: right;\n",
       "    }\n",
       "</style>\n",
       "<table border=\"1\" class=\"dataframe\">\n",
       "  <thead>\n",
       "    <tr style=\"text-align: right;\">\n",
       "      <th></th>\n",
       "      <th>google</th>\n",
       "      <th>Close</th>\n",
       "      <th>google_mean</th>\n",
       "    </tr>\n",
       "    <tr>\n",
       "      <th>Date</th>\n",
       "      <th></th>\n",
       "      <th></th>\n",
       "      <th></th>\n",
       "    </tr>\n",
       "  </thead>\n",
       "  <tbody>\n",
       "    <tr>\n",
       "      <th>2014-06-30</th>\n",
       "      <td>29</td>\n",
       "      <td>14.15</td>\n",
       "      <td>NaN</td>\n",
       "    </tr>\n",
       "    <tr>\n",
       "      <th>2014-07-07</th>\n",
       "      <td>30</td>\n",
       "      <td>14.30</td>\n",
       "      <td>NaN</td>\n",
       "    </tr>\n",
       "    <tr>\n",
       "      <th>2014-07-14</th>\n",
       "      <td>34</td>\n",
       "      <td>13.95</td>\n",
       "      <td>NaN</td>\n",
       "    </tr>\n",
       "    <tr>\n",
       "      <th>2014-07-21</th>\n",
       "      <td>28</td>\n",
       "      <td>13.85</td>\n",
       "      <td>31.000000</td>\n",
       "    </tr>\n",
       "    <tr>\n",
       "      <th>2014-07-28</th>\n",
       "      <td>31</td>\n",
       "      <td>13.90</td>\n",
       "      <td>30.666667</td>\n",
       "    </tr>\n",
       "  </tbody>\n",
       "</table>\n",
       "</div>"
      ],
      "text/plain": [
       "            google  Close  google_mean\n",
       "Date                                  \n",
       "2014-06-30      29  14.15          NaN\n",
       "2014-07-07      30  14.30          NaN\n",
       "2014-07-14      34  13.95          NaN\n",
       "2014-07-21      28  13.85    31.000000\n",
       "2014-07-28      31  13.90    30.666667"
      ]
     },
     "execution_count": 169,
     "metadata": {},
     "output_type": "execute_result"
    }
   ],
   "source": [
    "m['google_mean'] = m['google_mean'].shift(1)\n",
    "m.head()"
   ]
  },
  {
   "cell_type": "code",
   "execution_count": 170,
   "metadata": {},
   "outputs": [],
   "source": [
    "m['order'] = 0"
   ]
  },
  {
   "cell_type": "code",
   "execution_count": 171,
   "metadata": {},
   "outputs": [],
   "source": [
    "# 黃金交叉做多\n",
    "m.loc[m['google'] > m['google_mean'], 'order'] = 1\n"
   ]
  },
  {
   "cell_type": "code",
   "execution_count": 172,
   "metadata": {},
   "outputs": [],
   "source": [
    "# 死亡交叉做空\n",
    "m.loc[m['google'] < m['google_mean'], 'order'] = -1\n"
   ]
  },
  {
   "cell_type": "code",
   "execution_count": 174,
   "metadata": {},
   "outputs": [
    {
     "data": {
      "text/html": [
       "<div>\n",
       "<style scoped>\n",
       "    .dataframe tbody tr th:only-of-type {\n",
       "        vertical-align: middle;\n",
       "    }\n",
       "\n",
       "    .dataframe tbody tr th {\n",
       "        vertical-align: top;\n",
       "    }\n",
       "\n",
       "    .dataframe thead th {\n",
       "        text-align: right;\n",
       "    }\n",
       "</style>\n",
       "<table border=\"1\" class=\"dataframe\">\n",
       "  <thead>\n",
       "    <tr style=\"text-align: right;\">\n",
       "      <th></th>\n",
       "      <th>google</th>\n",
       "      <th>Close</th>\n",
       "      <th>google_mean</th>\n",
       "      <th>order</th>\n",
       "    </tr>\n",
       "    <tr>\n",
       "      <th>Date</th>\n",
       "      <th></th>\n",
       "      <th></th>\n",
       "      <th></th>\n",
       "      <th></th>\n",
       "    </tr>\n",
       "  </thead>\n",
       "  <tbody>\n",
       "    <tr>\n",
       "      <th>2014-06-30</th>\n",
       "      <td>29</td>\n",
       "      <td>14.15</td>\n",
       "      <td>NaN</td>\n",
       "      <td>0</td>\n",
       "    </tr>\n",
       "    <tr>\n",
       "      <th>2014-07-07</th>\n",
       "      <td>30</td>\n",
       "      <td>14.30</td>\n",
       "      <td>NaN</td>\n",
       "      <td>0</td>\n",
       "    </tr>\n",
       "    <tr>\n",
       "      <th>2014-07-14</th>\n",
       "      <td>34</td>\n",
       "      <td>13.95</td>\n",
       "      <td>NaN</td>\n",
       "      <td>0</td>\n",
       "    </tr>\n",
       "    <tr>\n",
       "      <th>2014-07-21</th>\n",
       "      <td>28</td>\n",
       "      <td>13.85</td>\n",
       "      <td>31.000000</td>\n",
       "      <td>-1</td>\n",
       "    </tr>\n",
       "    <tr>\n",
       "      <th>2014-07-28</th>\n",
       "      <td>31</td>\n",
       "      <td>13.90</td>\n",
       "      <td>30.666667</td>\n",
       "      <td>1</td>\n",
       "    </tr>\n",
       "  </tbody>\n",
       "</table>\n",
       "</div>"
      ],
      "text/plain": [
       "            google  Close  google_mean  order\n",
       "Date                                         \n",
       "2014-06-30      29  14.15          NaN      0\n",
       "2014-07-07      30  14.30          NaN      0\n",
       "2014-07-14      34  13.95          NaN      0\n",
       "2014-07-21      28  13.85    31.000000     -1\n",
       "2014-07-28      31  13.90    30.666667      1"
      ]
     },
     "execution_count": 174,
     "metadata": {},
     "output_type": "execute_result"
    }
   ],
   "source": [
    "m.head()"
   ]
  },
  {
   "cell_type": "code",
   "execution_count": 175,
   "metadata": {},
   "outputs": [
    {
     "data": {
      "text/html": [
       "<div>\n",
       "<style scoped>\n",
       "    .dataframe tbody tr th:only-of-type {\n",
       "        vertical-align: middle;\n",
       "    }\n",
       "\n",
       "    .dataframe tbody tr th {\n",
       "        vertical-align: top;\n",
       "    }\n",
       "\n",
       "    .dataframe thead th {\n",
       "        text-align: right;\n",
       "    }\n",
       "</style>\n",
       "<table border=\"1\" class=\"dataframe\">\n",
       "  <thead>\n",
       "    <tr style=\"text-align: right;\">\n",
       "      <th></th>\n",
       "      <th>google</th>\n",
       "      <th>Close</th>\n",
       "      <th>google_mean</th>\n",
       "      <th>order</th>\n",
       "      <th>ret_stock</th>\n",
       "    </tr>\n",
       "    <tr>\n",
       "      <th>Date</th>\n",
       "      <th></th>\n",
       "      <th></th>\n",
       "      <th></th>\n",
       "      <th></th>\n",
       "      <th></th>\n",
       "    </tr>\n",
       "  </thead>\n",
       "  <tbody>\n",
       "    <tr>\n",
       "      <th>2014-06-30</th>\n",
       "      <td>29</td>\n",
       "      <td>14.15</td>\n",
       "      <td>NaN</td>\n",
       "      <td>0</td>\n",
       "      <td>NaN</td>\n",
       "    </tr>\n",
       "    <tr>\n",
       "      <th>2014-07-07</th>\n",
       "      <td>30</td>\n",
       "      <td>14.30</td>\n",
       "      <td>NaN</td>\n",
       "      <td>0</td>\n",
       "      <td>0.010601</td>\n",
       "    </tr>\n",
       "    <tr>\n",
       "      <th>2014-07-14</th>\n",
       "      <td>34</td>\n",
       "      <td>13.95</td>\n",
       "      <td>NaN</td>\n",
       "      <td>0</td>\n",
       "      <td>-0.024476</td>\n",
       "    </tr>\n",
       "    <tr>\n",
       "      <th>2014-07-21</th>\n",
       "      <td>28</td>\n",
       "      <td>13.85</td>\n",
       "      <td>31.000000</td>\n",
       "      <td>-1</td>\n",
       "      <td>-0.007168</td>\n",
       "    </tr>\n",
       "    <tr>\n",
       "      <th>2014-07-28</th>\n",
       "      <td>31</td>\n",
       "      <td>13.90</td>\n",
       "      <td>30.666667</td>\n",
       "      <td>1</td>\n",
       "      <td>0.003610</td>\n",
       "    </tr>\n",
       "  </tbody>\n",
       "</table>\n",
       "</div>"
      ],
      "text/plain": [
       "            google  Close  google_mean  order  ret_stock\n",
       "Date                                                    \n",
       "2014-06-30      29  14.15          NaN      0        NaN\n",
       "2014-07-07      30  14.30          NaN      0   0.010601\n",
       "2014-07-14      34  13.95          NaN      0  -0.024476\n",
       "2014-07-21      28  13.85    31.000000     -1  -0.007168\n",
       "2014-07-28      31  13.90    30.666667      1   0.003610"
      ]
     },
     "execution_count": 175,
     "metadata": {},
     "output_type": "execute_result"
    }
   ],
   "source": [
    "m['ret_stock'] = m['Close'].pct_change()\n",
    "m.head()\n"
   ]
  },
  {
   "cell_type": "code",
   "execution_count": 177,
   "metadata": {},
   "outputs": [
    {
     "data": {
      "text/plain": [
       "0.010600706713780944"
      ]
     },
     "execution_count": 177,
     "metadata": {},
     "output_type": "execute_result"
    }
   ],
   "source": [
    "(14.3 - 14.15) / 14.15"
   ]
  },
  {
   "cell_type": "code",
   "execution_count": 178,
   "metadata": {},
   "outputs": [
    {
     "data": {
      "text/plain": [
       "-0.024475524475524573"
      ]
     },
     "execution_count": 178,
     "metadata": {},
     "output_type": "execute_result"
    }
   ],
   "source": [
    "(13.95 - 14.3) / 14.3"
   ]
  },
  {
   "cell_type": "code",
   "execution_count": 179,
   "metadata": {},
   "outputs": [
    {
     "data": {
      "text/html": [
       "<div>\n",
       "<style scoped>\n",
       "    .dataframe tbody tr th:only-of-type {\n",
       "        vertical-align: middle;\n",
       "    }\n",
       "\n",
       "    .dataframe tbody tr th {\n",
       "        vertical-align: top;\n",
       "    }\n",
       "\n",
       "    .dataframe thead th {\n",
       "        text-align: right;\n",
       "    }\n",
       "</style>\n",
       "<table border=\"1\" class=\"dataframe\">\n",
       "  <thead>\n",
       "    <tr style=\"text-align: right;\">\n",
       "      <th></th>\n",
       "      <th>google</th>\n",
       "      <th>Close</th>\n",
       "      <th>google_mean</th>\n",
       "      <th>order</th>\n",
       "      <th>ret_stock</th>\n",
       "    </tr>\n",
       "    <tr>\n",
       "      <th>Date</th>\n",
       "      <th></th>\n",
       "      <th></th>\n",
       "      <th></th>\n",
       "      <th></th>\n",
       "      <th></th>\n",
       "    </tr>\n",
       "  </thead>\n",
       "  <tbody>\n",
       "    <tr>\n",
       "      <th>2014-06-30</th>\n",
       "      <td>29</td>\n",
       "      <td>14.15</td>\n",
       "      <td>NaN</td>\n",
       "      <td>0</td>\n",
       "      <td>0.010601</td>\n",
       "    </tr>\n",
       "    <tr>\n",
       "      <th>2014-07-07</th>\n",
       "      <td>30</td>\n",
       "      <td>14.30</td>\n",
       "      <td>NaN</td>\n",
       "      <td>0</td>\n",
       "      <td>-0.024476</td>\n",
       "    </tr>\n",
       "    <tr>\n",
       "      <th>2014-07-14</th>\n",
       "      <td>34</td>\n",
       "      <td>13.95</td>\n",
       "      <td>NaN</td>\n",
       "      <td>0</td>\n",
       "      <td>-0.007168</td>\n",
       "    </tr>\n",
       "    <tr>\n",
       "      <th>2014-07-21</th>\n",
       "      <td>28</td>\n",
       "      <td>13.85</td>\n",
       "      <td>31.000000</td>\n",
       "      <td>-1</td>\n",
       "      <td>0.003610</td>\n",
       "    </tr>\n",
       "    <tr>\n",
       "      <th>2014-07-28</th>\n",
       "      <td>31</td>\n",
       "      <td>13.90</td>\n",
       "      <td>30.666667</td>\n",
       "      <td>1</td>\n",
       "      <td>0.050360</td>\n",
       "    </tr>\n",
       "  </tbody>\n",
       "</table>\n",
       "</div>"
      ],
      "text/plain": [
       "            google  Close  google_mean  order  ret_stock\n",
       "Date                                                    \n",
       "2014-06-30      29  14.15          NaN      0   0.010601\n",
       "2014-07-07      30  14.30          NaN      0  -0.024476\n",
       "2014-07-14      34  13.95          NaN      0  -0.007168\n",
       "2014-07-21      28  13.85    31.000000     -1   0.003610\n",
       "2014-07-28      31  13.90    30.666667      1   0.050360"
      ]
     },
     "execution_count": 179,
     "metadata": {},
     "output_type": "execute_result"
    }
   ],
   "source": [
    "m['ret_stock']= m['ret_stock'].shift(-1)\n",
    "m.head()"
   ]
  },
  {
   "cell_type": "code",
   "execution_count": 180,
   "metadata": {},
   "outputs": [
    {
     "data": {
      "text/html": [
       "<div>\n",
       "<style scoped>\n",
       "    .dataframe tbody tr th:only-of-type {\n",
       "        vertical-align: middle;\n",
       "    }\n",
       "\n",
       "    .dataframe tbody tr th {\n",
       "        vertical-align: top;\n",
       "    }\n",
       "\n",
       "    .dataframe thead th {\n",
       "        text-align: right;\n",
       "    }\n",
       "</style>\n",
       "<table border=\"1\" class=\"dataframe\">\n",
       "  <thead>\n",
       "    <tr style=\"text-align: right;\">\n",
       "      <th></th>\n",
       "      <th>google</th>\n",
       "      <th>Close</th>\n",
       "      <th>google_mean</th>\n",
       "      <th>order</th>\n",
       "      <th>ret_stock</th>\n",
       "      <th>ret_google</th>\n",
       "    </tr>\n",
       "    <tr>\n",
       "      <th>Date</th>\n",
       "      <th></th>\n",
       "      <th></th>\n",
       "      <th></th>\n",
       "      <th></th>\n",
       "      <th></th>\n",
       "      <th></th>\n",
       "    </tr>\n",
       "  </thead>\n",
       "  <tbody>\n",
       "    <tr>\n",
       "      <th>2014-06-30</th>\n",
       "      <td>29</td>\n",
       "      <td>14.15</td>\n",
       "      <td>NaN</td>\n",
       "      <td>0</td>\n",
       "      <td>0.010601</td>\n",
       "      <td>0.00000</td>\n",
       "    </tr>\n",
       "    <tr>\n",
       "      <th>2014-07-07</th>\n",
       "      <td>30</td>\n",
       "      <td>14.30</td>\n",
       "      <td>NaN</td>\n",
       "      <td>0</td>\n",
       "      <td>-0.024476</td>\n",
       "      <td>-0.00000</td>\n",
       "    </tr>\n",
       "    <tr>\n",
       "      <th>2014-07-14</th>\n",
       "      <td>34</td>\n",
       "      <td>13.95</td>\n",
       "      <td>NaN</td>\n",
       "      <td>0</td>\n",
       "      <td>-0.007168</td>\n",
       "      <td>-0.00000</td>\n",
       "    </tr>\n",
       "    <tr>\n",
       "      <th>2014-07-21</th>\n",
       "      <td>28</td>\n",
       "      <td>13.85</td>\n",
       "      <td>31.000000</td>\n",
       "      <td>-1</td>\n",
       "      <td>0.003610</td>\n",
       "      <td>-0.00361</td>\n",
       "    </tr>\n",
       "    <tr>\n",
       "      <th>2014-07-28</th>\n",
       "      <td>31</td>\n",
       "      <td>13.90</td>\n",
       "      <td>30.666667</td>\n",
       "      <td>1</td>\n",
       "      <td>0.050360</td>\n",
       "      <td>0.05036</td>\n",
       "    </tr>\n",
       "  </tbody>\n",
       "</table>\n",
       "</div>"
      ],
      "text/plain": [
       "            google  Close  google_mean  order  ret_stock  ret_google\n",
       "Date                                                                \n",
       "2014-06-30      29  14.15          NaN      0   0.010601     0.00000\n",
       "2014-07-07      30  14.30          NaN      0  -0.024476    -0.00000\n",
       "2014-07-14      34  13.95          NaN      0  -0.007168    -0.00000\n",
       "2014-07-21      28  13.85    31.000000     -1   0.003610    -0.00361\n",
       "2014-07-28      31  13.90    30.666667      1   0.050360     0.05036"
      ]
     },
     "execution_count": 180,
     "metadata": {},
     "output_type": "execute_result"
    }
   ],
   "source": [
    "m['ret_google'] = m['order'] * m['ret_stock']\n",
    "m.head()\n"
   ]
  },
  {
   "cell_type": "code",
   "execution_count": 183,
   "metadata": {},
   "outputs": [],
   "source": [
    "ret = pd.concat([(1 + m['ret_google']).cumprod(), (1 + m['ret_stock']).cumprod()], axis = 1)\n"
   ]
  },
  {
   "cell_type": "code",
   "execution_count": 185,
   "metadata": {},
   "outputs": [
    {
     "data": {
      "text/plain": [
       "<matplotlib.axes._subplots.AxesSubplot at 0x11b00b908>"
      ]
     },
     "execution_count": 185,
     "metadata": {},
     "output_type": "execute_result"
    },
    {
     "data": {
      "image/png": "[encoded data removed]",
      "text/plain": [
       "<Figure size 432x288 with 1 Axes>"
      ]
     },
     "metadata": {},
     "output_type": "display_data"
    }
   ],
   "source": [
    "ret.plot(kind = 'line')"
   ]
  },
  {
   "cell_type": "code",
   "execution_count": 186,
   "metadata": {},
   "outputs": [
    {
     "data": {
      "text/plain": [
       "Date\n",
       "2018-11-26    0.734982\n",
       "2018-12-03    0.734982\n",
       "2018-12-10    0.738516\n",
       "2018-12-17    0.731449\n",
       "2018-12-24         NaN\n",
       "Name: ret_stock, dtype: float64"
      ]
     },
     "execution_count": 186,
     "metadata": {},
     "output_type": "execute_result"
    }
   ],
   "source": [
    "(1 + m['ret_stock']).cumprod().tail()"
   ]
  },
  {
   "cell_type": "code",
   "execution_count": 187,
   "metadata": {},
   "outputs": [
    {
     "data": {
      "text/plain": [
       "Date\n",
       "2018-11-26    1.267501\n",
       "2018-12-03    1.267501\n",
       "2018-12-10    1.273595\n",
       "2018-12-17    1.261407\n",
       "2018-12-24         NaN\n",
       "Name: ret_google, dtype: float64"
      ]
     },
     "execution_count": 187,
     "metadata": {},
     "output_type": "execute_result"
    }
   ],
   "source": [
    "(1 + m['ret_google']).cumprod().tail()"
   ]
  },
  {
   "cell_type": "markdown",
   "metadata": {},
   "source": [
    "## 建立 Google Trends 與 股價的分析流程"
   ]
  },
  {
   "cell_type": "code",
   "execution_count": 198,
   "metadata": {},
   "outputs": [
    {
     "name": "stdout",
     "output_type": "stream",
     "text": [
      "              Google     Stock\n",
      "Date                          \n",
      "2018-11-26  0.718385  0.765811\n",
      "2018-12-03  0.779544  0.700613\n",
      "2018-12-10  0.740394  0.735799\n",
      "2018-12-17  0.737270  0.738904\n",
      "2018-12-24       NaN       NaN\n"
     ]
    },
    {
     "data": {
      "text/plain": [
       "<matplotlib.axes._subplots.AxesSubplot at 0x11b1ddf28>"
      ]
     },
     "execution_count": 198,
     "metadata": {},
     "output_type": "execute_result"
    },
    {
     "data": {
      "image/png": "[encoded data removed]",
      "text/plain": [
       "<Figure size 432x288 with 1 Axes>"
      ]
     },
     "metadata": {},
     "output_type": "display_data"
    }
   ],
   "source": [
    "from pytrends.request import TrendReq\n",
    "from pandas_datareader import DataReader\n",
    "\n",
    "\n",
    "def getGoogleTrends(keyword):\n",
    "    kw_list = [keyword]\n",
    "    pytrends = TrendReq(hl='zh-TW', tz=-480)\n",
    "    pytrends.build_payload(kw_list, cat=0, timeframe='today 5-y', geo='TW', gprop='')\n",
    "    data = pytrends.interest_over_time()\n",
    "    data = data[[keyword]]\n",
    "    data.columns = ['google']\n",
    "    data.index = data.index+ timedelta(days = 1)\n",
    "    data.index.name = 'Date'\n",
    "    return data\n",
    "\n",
    "def getStock(stockid):\n",
    "    stock = DataReader(stockid, 'yahoo', start='2014-06-01', end='2018-12-31')[['Close']]\n",
    "    return stock\n",
    "\n",
    "\n",
    "def getReturn(data, stock):\n",
    "    m = pd.merge(data, stock, left_index=True, right_index=True)\n",
    "    m['google_mean'] = m['google'].rolling(window = 3).mean()\n",
    "    m['google_mean'] = m['google_mean'].shift(1)\n",
    "    m['order'] = 0\n",
    "    m.loc[m['google'] > m['google_mean'], 'order'] = 1\n",
    "    m.loc[m['google'] < m['google_mean'], 'order'] = -1\n",
    "    m['ret_stock'] = m['Close'].pct_change()\n",
    "    m['ret_stock']= m['ret_stock'].shift(-1)\n",
    "    m['ret_google'] = m['order'] * m['ret_stock']\n",
    "    ret = pd.concat([(1 + m['ret_google']).cumprod(), (1 + m['ret_stock']).cumprod()], axis = 1)\n",
    "    ret.columns = ['Google', 'Stock']\n",
    "    return ret\n",
    "\n",
    "keyword = 'iphone'\n",
    "stockid = '2317.TW'\n",
    "\n",
    "data  = getGoogleTrends(keyword)\n",
    "stock = getStock(stockid)\n",
    "ret   = getReturn(data, stock)\n",
    "print(ret.tail())\n",
    "ret.plot(kind = 'line')"
   ]
  },
  {
   "cell_type": "markdown",
   "metadata": {},
   "source": [
    "## 文字探勘"
   ]
  },
  {
   "cell_type": "code",
   "execution_count": 199,
   "metadata": {},
   "outputs": [
    {
     "name": "stdout",
     "output_type": "stream",
     "text": [
      "Requirement already satisfied: jieba in /Users/davidchiu/.pyenv/versions/3.6.2/lib/python3.6/site-packages\n",
      "\u001b[33mYou are using pip version 9.0.1, however version 19.1.1 is available.\n",
      "You should consider upgrading via the 'pip install --upgrade pip' command.\u001b[0m\n"
     ]
    }
   ],
   "source": [
    "! pip install jieba"
   ]
  },
  {
   "cell_type": "code",
   "execution_count": 201,
   "metadata": {},
   "outputs": [
    {
     "name": "stderr",
     "output_type": "stream",
     "text": [
      "Building prefix dict from the default dictionary ...\n",
      "Loading model from cache /var/folders/46/b7dzk4mn6g54qzptv608w7d00000gn/T/jieba.cache\n",
      "Loading model cost 0.635 seconds.\n",
      "Prefix dict has been built succesfully.\n"
     ]
    },
    {
     "name": "stdout",
     "output_type": "stream",
     "text": [
      "台積電\n",
      "碩士\n",
      "新人\n",
      " \n",
      "年薪\n",
      "32\n",
      "個\n",
      "月\n"
     ]
    }
   ],
   "source": [
    "import jieba\n",
    "for w in jieba.cut('台積電碩士新人 年薪32個月'):\n",
    "    print(w)"
   ]
  },
  {
   "cell_type": "markdown",
   "metadata": {},
   "source": [
    "##  安裝繁體結巴\n",
    "- https://github.com/ldkrsi/jieba-zh_TW"
   ]
  },
  {
   "cell_type": "markdown",
   "metadata": {},
   "source": [
    "## 抓取  MoneyDJ  新聞"
   ]
  },
  {
   "cell_type": "markdown",
   "metadata": {},
   "source": [
    "### 抓取 RSS"
   ]
  },
  {
   "cell_type": "code",
   "execution_count": 203,
   "metadata": {},
   "outputs": [],
   "source": [
    "import requests\n",
    "res = requests.get('https://www.moneydj.com/KMDJ/RssCenter.aspx?svc=NW&fno=1&arg=TW.2337')\n",
    "with open('2337.xml', 'w') as f:\n",
    "    f.write(res.text)"
   ]
  },
  {
   "cell_type": "code",
   "execution_count": 204,
   "metadata": {},
   "outputs": [
    {
     "data": {
      "text/plain": [
       "<Element 'rss' at 0x11962e778>"
      ]
     },
     "execution_count": 204,
     "metadata": {},
     "output_type": "execute_result"
    }
   ],
   "source": [
    "import xml.etree.ElementTree as ET\n",
    "tree = ET.parse('2337.xml')\n",
    "root = tree.getroot()\n",
    "root"
   ]
  },
  {
   "cell_type": "code",
   "execution_count": 208,
   "metadata": {},
   "outputs": [
    {
     "name": "stdout",
     "output_type": "stream",
     "text": [
      "https://www.moneydj.com/KMDJ/News/NewsViewer.aspx?a=22f19e30-f465-4e89-b768-39fc1e031d8b\n",
      "https://www.moneydj.com/KMDJ/News/NewsViewer.aspx?a=2b4f59f0-4a42-4114-8a7b-7ddf88a40f79\n",
      "https://www.moneydj.com/KMDJ/News/NewsViewer.aspx?a=e79121d1-46d4-409e-be3a-2d3bfa4786d4\n",
      "https://www.moneydj.com/KMDJ/News/NewsViewer.aspx?a=241511c1-f276-44cc-99c6-4945905bb2e9\n",
      "https://www.moneydj.com/KMDJ/News/NewsViewer.aspx?a=c3651969-3ea9-4adc-8442-8e37e2f1adcd\n",
      "https://www.moneydj.com/KMDJ/News/NewsViewer.aspx?a=933caef5-bb81-408a-97fa-2d45b69bb61b\n",
      "https://www.moneydj.com/KMDJ/News/NewsViewer.aspx?a=f3c5bc43-e84d-4f40-8860-64df82f923aa\n",
      "https://www.moneydj.com/KMDJ/News/NewsViewer.aspx?a=bfee7bd1-e83a-4a6b-90b4-f84b76aec714\n",
      "https://www.moneydj.com/KMDJ/News/NewsViewer.aspx?a=04c4b532-13c0-4488-8a63-3f01f9295079\n",
      "https://www.moneydj.com/KMDJ/News/NewsViewer.aspx?a=9d78868c-cfb2-494e-ac02-cdb7333dddf4\n",
      "https://www.moneydj.com/KMDJ/News/NewsViewer.aspx?a=890f30ff-7ff3-46e0-9779-eb57f9a3b2f1\n",
      "https://www.moneydj.com/KMDJ/News/NewsViewer.aspx?a=1d0a8051-aba7-48e7-bbf1-6b11ca6eefb8\n",
      "https://www.moneydj.com/KMDJ/News/NewsViewer.aspx?a=c030badd-2660-40ed-bc19-86e47462b48c\n",
      "https://www.moneydj.com/KMDJ/News/NewsViewer.aspx?a=62b68d37-f3ec-4f7a-a3d7-d1e1ab604e59\n",
      "https://www.moneydj.com/KMDJ/News/NewsViewer.aspx?a=4c5dfb6d-3f07-4acb-aa49-94543917022a\n",
      "https://www.moneydj.com/KMDJ/News/NewsViewer.aspx?a=83740cf2-7e89-4b2a-a4d7-625b6fa2b94e\n",
      "https://www.moneydj.com/KMDJ/News/NewsViewer.aspx?a=fa3dbf22-38f7-44be-a5b3-7b5105963e2d\n",
      "https://www.moneydj.com/KMDJ/News/NewsViewer.aspx?a=644ceb8f-8e07-41b8-b712-931831e37024\n",
      "https://www.moneydj.com/KMDJ/News/NewsViewer.aspx?a=a23f9290-53fc-4541-8785-db18f2bb5d79\n",
      "https://www.moneydj.com/KMDJ/News/NewsViewer.aspx?a=ae02e8b6-a412-4dae-a203-63f08663c256\n"
     ]
    }
   ],
   "source": [
    "for rec in root.findall('./channel/item'):\n",
    "    print(rec.find('link').text)"
   ]
  },
  {
   "cell_type": "markdown",
   "metadata": {},
   "source": [
    "### 解析頁面資料 "
   ]
  },
  {
   "cell_type": "code",
   "execution_count": 210,
   "metadata": {},
   "outputs": [],
   "source": [
    "import requests\n",
    "from bs4 import BeautifulSoup\n",
    "res = requests.get('https://www.moneydj.com/KMDJ/Common/ListNewArticles.aspx?svc=NW&a=TW.2337')\n",
    "soup = BeautifulSoup(res.text, 'lxml')"
   ]
  },
  {
   "cell_type": "code",
   "execution_count": 215,
   "metadata": {},
   "outputs": [
    {
     "name": "stdout",
     "output_type": "stream",
     "text": [
      "https://www.moneydj.com/KMDJ/News/NewsViewer.aspx?a=22f19e30-f465-4e89-b768-39fc1e031d8b\n",
      "https://www.moneydj.com/KMDJ/News/NewsViewer.aspx?a=2b4f59f0-4a42-4114-8a7b-7ddf88a40f79\n",
      "https://www.moneydj.com/KMDJ/News/NewsViewer.aspx?a=e79121d1-46d4-409e-be3a-2d3bfa4786d4\n",
      "https://www.moneydj.com/KMDJ/News/NewsViewer.aspx?a=241511c1-f276-44cc-99c6-4945905bb2e9\n",
      "https://www.moneydj.com/KMDJ/News/NewsViewer.aspx?a=c3651969-3ea9-4adc-8442-8e37e2f1adcd\n",
      "https://www.moneydj.com/KMDJ/News/NewsViewer.aspx?a=933caef5-bb81-408a-97fa-2d45b69bb61b\n",
      "https://www.moneydj.com/KMDJ/News/NewsViewer.aspx?a=f3c5bc43-e84d-4f40-8860-64df82f923aa\n",
      "https://www.moneydj.com/KMDJ/News/NewsViewer.aspx?a=bfee7bd1-e83a-4a6b-90b4-f84b76aec714\n",
      "https://www.moneydj.com/KMDJ/News/NewsViewer.aspx?a=04c4b532-13c0-4488-8a63-3f01f9295079\n",
      "https://www.moneydj.com/KMDJ/News/NewsViewer.aspx?a=9d78868c-cfb2-494e-ac02-cdb7333dddf4\n",
      "https://www.moneydj.com/KMDJ/News/NewsViewer.aspx?a=890f30ff-7ff3-46e0-9779-eb57f9a3b2f1\n",
      "https://www.moneydj.com/KMDJ/News/NewsViewer.aspx?a=1d0a8051-aba7-48e7-bbf1-6b11ca6eefb8\n",
      "https://www.moneydj.com/KMDJ/News/NewsViewer.aspx?a=c030badd-2660-40ed-bc19-86e47462b48c\n",
      "https://www.moneydj.com/KMDJ/News/NewsViewer.aspx?a=62b68d37-f3ec-4f7a-a3d7-d1e1ab604e59\n",
      "https://www.moneydj.com/KMDJ/News/NewsViewer.aspx?a=4c5dfb6d-3f07-4acb-aa49-94543917022a\n",
      "https://www.moneydj.com/KMDJ/News/NewsViewer.aspx?a=83740cf2-7e89-4b2a-a4d7-625b6fa2b94e\n",
      "https://www.moneydj.com/KMDJ/News/NewsViewer.aspx?a=fa3dbf22-38f7-44be-a5b3-7b5105963e2d\n",
      "https://www.moneydj.com/KMDJ/News/NewsViewer.aspx?a=644ceb8f-8e07-41b8-b712-931831e37024\n",
      "https://www.moneydj.com/KMDJ/News/NewsViewer.aspx?a=a23f9290-53fc-4541-8785-db18f2bb5d79\n",
      "https://www.moneydj.com/KMDJ/News/NewsViewer.aspx?a=ae02e8b6-a412-4dae-a203-63f08663c256\n"
     ]
    }
   ],
   "source": [
    "domain = 'https://www.moneydj.com'\n",
    "for link in soup.select('.forumgrid .ArticleTitle a'):\n",
    "    print(domain + link.get('href'))"
   ]
  },
  {
   "cell_type": "code",
   "execution_count": 219,
   "metadata": {},
   "outputs": [
    {
     "data": {
      "text/plain": [
       "'公開資訊觀測站重大訊息公告(2337)旺宏-本公司受邀參加UBS舉辦之「UBS Taiwan Conference 2019」符合條款第四條第XX款：12事實發生日：108/06/271.召開法人說明會之日期：108/06/27 ~ 108/06/282.召開法人說明會之時間：09 時 00 分 3.召開法人說明會之地點：台北4.法人說明會擇要訊息：本公司受邀參加UBS舉辦之「UBS Taiwan Conference 2019」，會中就本公司108/4/25法說會已公開資訊做說明。5.其他應敘明事項：無完整財務業務資訊請至公開資訊觀測站之法人說明會一覽表或法說會項目下查閱。'"
      ]
     },
     "execution_count": 219,
     "metadata": {},
     "output_type": "execute_result"
    }
   ],
   "source": [
    "articleurl = 'https://www.moneydj.com/KMDJ/News/NewsViewer.aspx?a=644ceb8f-8e07-41b8-b712-931831e37024'\n",
    "res = requests.get(articleurl)\n",
    "soup = BeautifulSoup(res.text, 'lxml')\n",
    "soup.select_one('article').text.strip()"
   ]
  },
  {
   "cell_type": "code",
   "execution_count": 221,
   "metadata": {},
   "outputs": [
    {
     "data": {
      "text/plain": [
       "'旺宏6/27~28參加UBS舉辦之法說會'"
      ]
     },
     "execution_count": 221,
     "metadata": {},
     "output_type": "execute_result"
    }
   ],
   "source": [
    "soup.select_one('h1').text"
   ]
  },
  {
   "cell_type": "code",
   "execution_count": 224,
   "metadata": {},
   "outputs": [
    {
     "data": {
      "text/plain": [
       "'2019/06/25 16:37'"
      ]
     },
     "execution_count": 224,
     "metadata": {},
     "output_type": "execute_result"
    }
   ],
   "source": [
    "soup.select_one('#MainContent_Contents_lbDate').text"
   ]
  },
  {
   "cell_type": "code",
   "execution_count": 232,
   "metadata": {},
   "outputs": [],
   "source": [
    "from datetime import datetime\n",
    "def getArticle(articleurl):\n",
    "    res = requests.get(articleurl)\n",
    "    soup = BeautifulSoup(res.text, 'lxml')\n",
    "    content = soup.select_one('article').text.strip()\n",
    "    title = soup.select_one('h1').text\n",
    "    dt = soup.select_one('#MainContent_Contents_lbDate').text\n",
    "    dt = datetime.strptime(dt, '%Y/%m/%d %H:%M')\n",
    "    return {'dt': dt, 'title':title, 'content': content}"
   ]
  },
  {
   "cell_type": "code",
   "execution_count": 233,
   "metadata": {},
   "outputs": [
    {
     "data": {
      "text/plain": [
       "{'dt': datetime.datetime(2019, 6, 25, 16, 37),\n",
       " 'title': '旺宏6/27~28參加UBS舉辦之法說會',\n",
       " 'content': '公開資訊觀測站重大訊息公告(2337)旺宏-本公司受邀參加UBS舉辦之「UBS Taiwan Conference 2019」符合條款第四條第XX款：12事實發生日：108/06/271.召開法人說明會之日期：108/06/27 ~ 108/06/282.召開法人說明會之時間：09 時 00 分 3.召開法人說明會之地點：台北4.法人說明會擇要訊息：本公司受邀參加UBS舉辦之「UBS Taiwan Conference 2019」，會中就本公司108/4/25法說會已公開資訊做說明。5.其他應敘明事項：無完整財務業務資訊請至公開資訊觀測站之法人說明會一覽表或法說會項目下查閱。'}"
      ]
     },
     "execution_count": 233,
     "metadata": {},
     "output_type": "execute_result"
    }
   ],
   "source": [
    "getArticle('https://www.moneydj.com/KMDJ/News/NewsViewer.aspx?a=644ceb8f-8e07-41b8-b712-931831e37024')"
   ]
  },
  {
   "cell_type": "code",
   "execution_count": 238,
   "metadata": {},
   "outputs": [
    {
     "name": "stdout",
     "output_type": "stream",
     "text": [
      "1\n",
      "2\n",
      "3\n",
      "4\n",
      "5\n"
     ]
    }
   ],
   "source": [
    "pageurl = 'https://www.moneydj.com/KMDJ/Common/ListNewArticles.aspx?index1={}&svc=NW&a=TW.2337'\n",
    "domain = 'https://www.moneydj.com'\n",
    "dataary = []\n",
    "# 切換列表\n",
    "for i in range(1,6):\n",
    "    res = requests.get(pageurl.format(i))\n",
    "    soup = BeautifulSoup(res.text, 'lxml')\n",
    "    #逐篇抓取文章\n",
    "    for link in soup.select('.forumgrid .ArticleTitle a'):\n",
    "        dataary.append(getArticle(domain + link.get('href')))\n",
    "    print(i)"
   ]
  },
  {
   "cell_type": "code",
   "execution_count": 239,
   "metadata": {},
   "outputs": [
    {
     "data": {
      "text/plain": [
       "100"
      ]
     },
     "execution_count": 239,
     "metadata": {},
     "output_type": "execute_result"
    }
   ],
   "source": [
    "len(dataary)"
   ]
  },
  {
   "cell_type": "code",
   "execution_count": 240,
   "metadata": {},
   "outputs": [
    {
     "data": {
      "text/html": [
       "<div>\n",
       "<style scoped>\n",
       "    .dataframe tbody tr th:only-of-type {\n",
       "        vertical-align: middle;\n",
       "    }\n",
       "\n",
       "    .dataframe tbody tr th {\n",
       "        vertical-align: top;\n",
       "    }\n",
       "\n",
       "    .dataframe thead th {\n",
       "        text-align: right;\n",
       "    }\n",
       "</style>\n",
       "<table border=\"1\" class=\"dataframe\">\n",
       "  <thead>\n",
       "    <tr style=\"text-align: right;\">\n",
       "      <th></th>\n",
       "      <th>content</th>\n",
       "      <th>dt</th>\n",
       "      <th>title</th>\n",
       "    </tr>\n",
       "  </thead>\n",
       "  <tbody>\n",
       "    <tr>\n",
       "      <th>0</th>\n",
       "      <td>證券代號\\n\\n證券名稱\\n\\n成交股數\\n\\n成交金額\\n\\n成交價\\n\\n\\n2823\\...</td>\n",
       "      <td>2019-06-28 16:15:00</td>\n",
       "      <td>6/28證交所零股交易成交股數前20名排行</td>\n",
       "    </tr>\n",
       "    <tr>\n",
       "      <th>1</th>\n",
       "      <td>證券代號\\n\\n證券名稱\\n\\n成交數量\\n\\n成交金額\\n\\n成交價\\n\\n\\n1314\\...</td>\n",
       "      <td>2019-06-28 16:14:00</td>\n",
       "      <td>6/28證交所盤後定價交易成交金額前20名排行</td>\n",
       "    </tr>\n",
       "    <tr>\n",
       "      <th>2</th>\n",
       "      <td>簡稱\\n\\n代號\\n\\n標的\\n\\n最後交易日\\n\\n終止上市日\\n\\n履約價\\n\\n行使比...</td>\n",
       "      <td>2019-06-28 13:42:00</td>\n",
       "      <td>國票證券認購(售)權證終止上市彙總表(2)</td>\n",
       "    </tr>\n",
       "    <tr>\n",
       "      <th>3</th>\n",
       "      <td>簡稱\\n\\n代號\\n\\n標的\\n\\n最後交易日\\n\\n終止上市日\\n\\n履約價\\n\\n行使比...</td>\n",
       "      <td>2019-06-28 13:42:00</td>\n",
       "      <td>國票證券認購(售)權證終止上市彙總表(1)</td>\n",
       "    </tr>\n",
       "    <tr>\n",
       "      <th>4</th>\n",
       "      <td>代號\\n\\n名稱\\n\\n類型\\n\\n標的\\n\\n原始履約價\\n\\n重設後履約價\\n\\n到期日...</td>\n",
       "      <td>2019-06-28 13:37:00</td>\n",
       "      <td>上市認購(售)權證6/28履約價重設彙總表</td>\n",
       "    </tr>\n",
       "    <tr>\n",
       "      <th>5</th>\n",
       "      <td>證券代號\\n\\n證券名稱\\n\\n成交股數\\n\\n成交金額\\n\\n成交價\\n\\n\\n2317\\...</td>\n",
       "      <td>2019-06-27 15:59:00</td>\n",
       "      <td>6/27證交所零股交易成交股數前20名排行</td>\n",
       "    </tr>\n",
       "    <tr>\n",
       "      <th>6</th>\n",
       "      <td>證券代號\\n\\n證券名稱\\n\\n成交數量\\n\\n成交金額\\n\\n成交價\\n\\n\\n2514\\...</td>\n",
       "      <td>2019-06-27 15:59:00</td>\n",
       "      <td>6/27證交所盤後定價交易成交金額前20名排行</td>\n",
       "    </tr>\n",
       "    <tr>\n",
       "      <th>7</th>\n",
       "      <td>簡稱\\n\\n代號\\n\\n標的\\n\\n最後交易日\\n\\n終止上市日\\n\\n履約價\\n\\n行使比...</td>\n",
       "      <td>2019-06-27 13:43:00</td>\n",
       "      <td>兆豐證券認購(售)權證終止上市彙總表(1)</td>\n",
       "    </tr>\n",
       "    <tr>\n",
       "      <th>8</th>\n",
       "      <td>簡稱\\n\\n代號\\n\\n標的\\n\\n最後交易日\\n\\n終止上市日\\n\\n履約價\\n\\n行使比...</td>\n",
       "      <td>2019-06-27 13:43:00</td>\n",
       "      <td>永豐金證券認購(售)權證終止上市彙總表(3)</td>\n",
       "    </tr>\n",
       "    <tr>\n",
       "      <th>9</th>\n",
       "      <td>簡稱\\n\\n代號\\n\\n標的\\n\\n最後交易日\\n\\n終止上市日\\n\\n履約價\\n\\n行使比...</td>\n",
       "      <td>2019-06-27 13:40:00</td>\n",
       "      <td>群益金鼎證券認購(售)權證終止上市彙總表(3)</td>\n",
       "    </tr>\n",
       "    <tr>\n",
       "      <th>10</th>\n",
       "      <td>認購/售\\n\\n歐/美式\\n\\n代號\\n\\n簡稱\\n\\n標的\\n\\n數量(仟單位)\\n\\n存...</td>\n",
       "      <td>2019-06-27 13:38:00</td>\n",
       "      <td>上市認購(售)權證6/28彙總表(3)</td>\n",
       "    </tr>\n",
       "    <tr>\n",
       "      <th>11</th>\n",
       "      <td>認購/售\\n\\n歐/美式\\n\\n代號\\n\\n簡稱\\n\\n標的\\n\\n數量(仟單位)\\n\\n存...</td>\n",
       "      <td>2019-06-27 13:37:00</td>\n",
       "      <td>上市認購(售)權證6/28彙總表(1)</td>\n",
       "    </tr>\n",
       "    <tr>\n",
       "      <th>12</th>\n",
       "      <td>代號\\n\\n名稱\\n\\n類型\\n\\n標的\\n\\n原始履約價\\n\\n重設後履約價\\n\\n到期日...</td>\n",
       "      <td>2019-06-27 13:37:00</td>\n",
       "      <td>上市認購(售)權證6/27履約價重設彙總表</td>\n",
       "    </tr>\n",
       "    <tr>\n",
       "      <th>13</th>\n",
       "      <td>證券代號\\n\\n證券名稱\\n\\n成交股數\\n\\n成交金額\\n\\n成交價\\n\\n\\n5876\\...</td>\n",
       "      <td>2019-06-26 16:07:00</td>\n",
       "      <td>6/26證交所零股交易成交股數前20名排行</td>\n",
       "    </tr>\n",
       "    <tr>\n",
       "      <th>14</th>\n",
       "      <td>證券代號\\n\\n證券名稱\\n\\n成交數量\\n\\n成交金額\\n\\n成交價\\n\\n\\n1314\\...</td>\n",
       "      <td>2019-06-26 16:06:00</td>\n",
       "      <td>6/26證交所盤後定價交易成交金額前20名排行</td>\n",
       "    </tr>\n",
       "    <tr>\n",
       "      <th>15</th>\n",
       "      <td>MoneyDJ新聞 2019-06-26 15:06:39 記者 李彥瑾 報導南韓記憶體大廠...</td>\n",
       "      <td>2019-06-26 15:06:00</td>\n",
       "      <td>SK海力士搶先量產 業界首款128層4D NAND Flash</td>\n",
       "    </tr>\n",
       "    <tr>\n",
       "      <th>16</th>\n",
       "      <td>認購/售\\n\\n歐/美式\\n\\n代號\\n\\n簡稱\\n\\n標的\\n\\n數量(仟單位)\\n\\n存...</td>\n",
       "      <td>2019-06-26 13:33:00</td>\n",
       "      <td>上市認購(售)權證6/27彙總表(1)</td>\n",
       "    </tr>\n",
       "    <tr>\n",
       "      <th>17</th>\n",
       "      <td>公開資訊觀測站重大訊息公告(2337)旺宏-本公司受邀參加UBS舉辦之「UBS Taiwan...</td>\n",
       "      <td>2019-06-25 16:37:00</td>\n",
       "      <td>旺宏6/27~28參加UBS舉辦之法說會</td>\n",
       "    </tr>\n",
       "    <tr>\n",
       "      <th>18</th>\n",
       "      <td>認購/售\\n\\n歐/美式\\n\\n代號\\n\\n簡稱\\n\\n標的\\n\\n數量(仟單位)\\n\\n存...</td>\n",
       "      <td>2019-06-25 13:39:00</td>\n",
       "      <td>上市認購(售)權證6/26彙總表(1)</td>\n",
       "    </tr>\n",
       "    <tr>\n",
       "      <th>19</th>\n",
       "      <td>代號\\n\\n名稱\\n\\n類型\\n\\n標的\\n\\n原始履約價\\n\\n重設後履約價\\n\\n到期日...</td>\n",
       "      <td>2019-06-25 13:39:00</td>\n",
       "      <td>上市認購(售)權證6/25履約價重設彙總表</td>\n",
       "    </tr>\n",
       "    <tr>\n",
       "      <th>20</th>\n",
       "      <td>簡稱\\n\\n代號\\n\\n標的\\n\\n最後交易日\\n\\n終止上市日\\n\\n履約價\\n\\n行使比...</td>\n",
       "      <td>2019-06-25 13:38:00</td>\n",
       "      <td>元大證券認購(售)權證終止上市彙總表(9)</td>\n",
       "    </tr>\n",
       "    <tr>\n",
       "      <th>21</th>\n",
       "      <td>簡稱\\n\\n代號\\n\\n標的\\n\\n最後交易日\\n\\n終止上市日\\n\\n履約價\\n\\n行使比...</td>\n",
       "      <td>2019-06-25 13:38:00</td>\n",
       "      <td>元大證券認購(售)權證終止上市彙總表(8)</td>\n",
       "    </tr>\n",
       "    <tr>\n",
       "      <th>22</th>\n",
       "      <td>簡稱\\n\\n代號\\n\\n標的\\n\\n最後交易日\\n\\n終止上市日\\n\\n履約價\\n\\n行使比...</td>\n",
       "      <td>2019-06-25 13:37:00</td>\n",
       "      <td>元大證券認購(售)權證終止上市彙總表(5)</td>\n",
       "    </tr>\n",
       "    <tr>\n",
       "      <th>23</th>\n",
       "      <td>簡稱\\n\\n代號\\n\\n標的\\n\\n最後交易日\\n\\n終止上市日\\n\\n履約價\\n\\n行使比...</td>\n",
       "      <td>2019-06-25 13:35:00</td>\n",
       "      <td>元大證券認購(售)權證終止上市彙總表(1)</td>\n",
       "    </tr>\n",
       "    <tr>\n",
       "      <th>24</th>\n",
       "      <td>證券代號\\n\\n證券名稱\\n\\n成交股數\\n\\n成交金額\\n\\n成交價\\n\\n\\n2317\\...</td>\n",
       "      <td>2019-06-24 16:10:00</td>\n",
       "      <td>6/24證交所零股交易成交股數前20名排行</td>\n",
       "    </tr>\n",
       "    <tr>\n",
       "      <th>25</th>\n",
       "      <td>認購/售\\n\\n歐/美式\\n\\n代號\\n\\n簡稱\\n\\n標的\\n\\n數量(仟單位)\\n\\n存...</td>\n",
       "      <td>2019-06-24 13:34:00</td>\n",
       "      <td>上市認購(售)權證6/25彙總表(2)</td>\n",
       "    </tr>\n",
       "    <tr>\n",
       "      <th>26</th>\n",
       "      <td></td>\n",
       "      <td>2019-06-24 08:04:00</td>\n",
       "      <td>啃蘋果 旺宏/華邦電/康控-KY吞補丸(工商時報，無內文)</td>\n",
       "    </tr>\n",
       "    <tr>\n",
       "      <th>27</th>\n",
       "      <td>證券代號\\n\\n證券名稱\\n\\n成交數量\\n\\n成交金額\\n\\n成交價\\n\\n\\n2330\\...</td>\n",
       "      <td>2019-06-21 16:08:00</td>\n",
       "      <td>6/21證交所盤後定價交易成交金額前20名排行</td>\n",
       "    </tr>\n",
       "    <tr>\n",
       "      <th>28</th>\n",
       "      <td>認購/售\\n\\n歐/美式\\n\\n代號\\n\\n簡稱\\n\\n標的\\n\\n數量(仟單位)\\n\\n存...</td>\n",
       "      <td>2019-06-21 13:34:00</td>\n",
       "      <td>上市認購(售)權證6/24彙總表(1)</td>\n",
       "    </tr>\n",
       "    <tr>\n",
       "      <th>29</th>\n",
       "      <td>MoneyDJ新聞 2019-06-21 11:34:41 記者 蔡承啟 報導日本媒體new...</td>\n",
       "      <td>2019-06-21 11:34:00</td>\n",
       "      <td>華為風暴影響！美光日本DRAM廠投資計畫傳延期</td>\n",
       "    </tr>\n",
       "    <tr>\n",
       "      <th>...</th>\n",
       "      <td>...</td>\n",
       "      <td>...</td>\n",
       "      <td>...</td>\n",
       "    </tr>\n",
       "    <tr>\n",
       "      <th>70</th>\n",
       "      <td>證券代號\\n\\n證券名稱\\n\\n成交數量\\n\\n成交金額\\n\\n成交價\\n\\n\\n3406\\...</td>\n",
       "      <td>2019-05-27 16:07:00</td>\n",
       "      <td>5/27證交所盤後定價交易成交金額前20名排行</td>\n",
       "    </tr>\n",
       "    <tr>\n",
       "      <th>71</th>\n",
       "      <td>簡稱\\n\\n代號\\n\\n標的\\n\\n最後交易日\\n\\n終止上市日\\n\\n履約價\\n\\n行使比...</td>\n",
       "      <td>2019-05-27 13:33:00</td>\n",
       "      <td>國票證券認購(售)權證終止上市彙總表(3)</td>\n",
       "    </tr>\n",
       "    <tr>\n",
       "      <th>72</th>\n",
       "      <td>認購/售\\n\\n歐/美式\\n\\n代號\\n\\n簡稱\\n\\n標的\\n\\n數量(仟單位)\\n\\n存...</td>\n",
       "      <td>2019-05-27 13:31:00</td>\n",
       "      <td>上市認購(售)權證5/28彙總表(1)</td>\n",
       "    </tr>\n",
       "    <tr>\n",
       "      <th>73</th>\n",
       "      <td>證券代號\\n\\n證券名稱\\n\\n成交數量\\n\\n成交金額\\n\\n成交價\\n\\n\\n3406\\...</td>\n",
       "      <td>2019-05-24 16:08:00</td>\n",
       "      <td>5/24證交所盤後定價交易成交金額前20名排行</td>\n",
       "    </tr>\n",
       "    <tr>\n",
       "      <th>74</th>\n",
       "      <td>認購/售\\n\\n歐/美式\\n\\n代號\\n\\n簡稱\\n\\n標的\\n\\n數量(仟單位)\\n\\n存...</td>\n",
       "      <td>2019-05-24 13:41:00</td>\n",
       "      <td>上市認購(售)權證5/27彙總表(2)</td>\n",
       "    </tr>\n",
       "    <tr>\n",
       "      <th>75</th>\n",
       "      <td>認購/售\\n\\n歐/美式\\n\\n代號\\n\\n簡稱\\n\\n標的\\n\\n數量(仟單位)\\n\\n存...</td>\n",
       "      <td>2019-05-24 13:41:00</td>\n",
       "      <td>上市認購(售)權證5/27彙總表(1)</td>\n",
       "    </tr>\n",
       "    <tr>\n",
       "      <th>76</th>\n",
       "      <td>簡稱\\n\\n代號\\n\\n標的\\n\\n最後交易日\\n\\n終止上市日\\n\\n履約價\\n\\n行使比...</td>\n",
       "      <td>2019-05-24 13:39:00</td>\n",
       "      <td>元大證券認購(售)權證終止上市彙總表(10)</td>\n",
       "    </tr>\n",
       "    <tr>\n",
       "      <th>77</th>\n",
       "      <td>簡稱\\n\\n代號\\n\\n標的\\n\\n最後交易日\\n\\n終止上市日\\n\\n履約價\\n\\n行使比...</td>\n",
       "      <td>2019-05-24 13:35:00</td>\n",
       "      <td>元大證券認購(售)權證終止上市彙總表(1)</td>\n",
       "    </tr>\n",
       "    <tr>\n",
       "      <th>78</th>\n",
       "      <td>MoneyDJ新聞 2019-05-24 08:52:13 記者 郭妍希 報導美國總統川普(...</td>\n",
       "      <td>2019-05-24 08:52:00</td>\n",
       "      <td>川普：華為「很危險」，可能會納入中美貿易協議</td>\n",
       "    </tr>\n",
       "    <tr>\n",
       "      <th>79</th>\n",
       "      <td>簡稱\\n\\n代號\\n\\n標的\\n\\n最後交易日\\n\\n終止上市日\\n\\n履約價\\n\\n行使比...</td>\n",
       "      <td>2019-05-23 13:34:00</td>\n",
       "      <td>元富證券認購(售)權證終止上市彙總表(4)</td>\n",
       "    </tr>\n",
       "    <tr>\n",
       "      <th>80</th>\n",
       "      <td>簡稱\\n\\n代號\\n\\n標的\\n\\n最後交易日\\n\\n終止上市日\\n\\n履約價\\n\\n行使比...</td>\n",
       "      <td>2019-05-23 13:33:00</td>\n",
       "      <td>元富證券認購(售)權證終止上市彙總表(3)</td>\n",
       "    </tr>\n",
       "    <tr>\n",
       "      <th>81</th>\n",
       "      <td>MoneyDJ新聞 2019-05-23 11:24:57 記者 郭妍希 報導白宮前首席策略...</td>\n",
       "      <td>2019-05-23 11:24:00</td>\n",
       "      <td>川普前顧問巴農：把華為趕出歐美、比貿易協議重要十倍</td>\n",
       "    </tr>\n",
       "    <tr>\n",
       "      <th>82</th>\n",
       "      <td>認購/售\\n\\n歐/美式\\n\\n代號\\n\\n簡稱\\n\\n標的\\n\\n數量(仟單位)\\n\\n存...</td>\n",
       "      <td>2019-05-22 13:33:00</td>\n",
       "      <td>上市認購(售)權證5/23彙總表(3)</td>\n",
       "    </tr>\n",
       "    <tr>\n",
       "      <th>83</th>\n",
       "      <td>MoneyDJ新聞 2019-05-22 12:34:10 記者 郭妍希 報導功率放大器(P...</td>\n",
       "      <td>2019-05-22 12:34:00</td>\n",
       "      <td>本週第2家！Qorvo「斷供」華為、砍財測 股價跌深反彈</td>\n",
       "    </tr>\n",
       "    <tr>\n",
       "      <th>84</th>\n",
       "      <td>MoneyDJ新聞 2019-05-22 10:39:35 記者 蔡承啟 報導美國川普政權於...</td>\n",
       "      <td>2019-05-22 10:39:00</td>\n",
       "      <td>美擬祭第4波對陸關稅、日企傷腦筋；任天堂：影響大</td>\n",
       "    </tr>\n",
       "    <tr>\n",
       "      <th>85</th>\n",
       "      <td>公開資訊觀測站重大訊息公告\\n(2337)旺宏本公司受邀參加 CLSA 證券舉辦之CLSA ...</td>\n",
       "      <td>2019-05-22 06:10:00</td>\n",
       "      <td>旺宏5/22~24參加CLSA證券舉辦之法說會</td>\n",
       "    </tr>\n",
       "    <tr>\n",
       "      <th>86</th>\n",
       "      <td>MoneyDJ新聞 2019-05-21 10:19:02 記者 郭妍希 報導蘋果(Appl...</td>\n",
       "      <td>2019-05-21 10:19:00</td>\n",
       "      <td>華為禁令來首家！Lumentum宣布斷貨、砍財測 股價瀉</td>\n",
       "    </tr>\n",
       "    <tr>\n",
       "      <th>87</th>\n",
       "      <td>MoneyDJ新聞 2019-05-21 08:51:06 記者 郭妍希 報導美國政府週一(...</td>\n",
       "      <td>2019-05-21 08:51:00</td>\n",
       "      <td>美發臨時執照 暫允華為更新手機維護網路！美股期指漲</td>\n",
       "    </tr>\n",
       "    <tr>\n",
       "      <th>88</th>\n",
       "      <td>MoneyDJ新聞 2019-05-21 07:40:32 記者 蔡承啟 報導美國川普政權對...</td>\n",
       "      <td>2019-05-21 07:40:00</td>\n",
       "      <td>英飛凌美國工廠停止對華為出貨；意法半導體傳開會評估</td>\n",
       "    </tr>\n",
       "    <tr>\n",
       "      <th>89</th>\n",
       "      <td>證券代號\\n\\n證券名稱\\n\\n成交數量\\n\\n成交金額\\n\\n成交價\\n\\n\\n2330\\...</td>\n",
       "      <td>2019-05-20 16:05:00</td>\n",
       "      <td>5/20證交所盤後定價交易成交金額前20名排行</td>\n",
       "    </tr>\n",
       "    <tr>\n",
       "      <th>90</th>\n",
       "      <td>MoneyDJ新聞 2019-05-20 14:24:13 記者 郭妍希 報導在稍早傳出Al...</td>\n",
       "      <td>2019-05-20 14:24:00</td>\n",
       "      <td>軟硬體皆斷鏈！傳英特爾、Xilinx等晶片廠切斷華為供應</td>\n",
       "    </tr>\n",
       "    <tr>\n",
       "      <th>91</th>\n",
       "      <td>認購/售\\n\\n歐/美式\\n\\n代號\\n\\n簡稱\\n\\n標的\\n\\n數量(仟單位)\\n\\n存...</td>\n",
       "      <td>2019-05-20 13:31:00</td>\n",
       "      <td>上市認購(售)權證5/21彙總表(2)</td>\n",
       "    </tr>\n",
       "    <tr>\n",
       "      <th>92</th>\n",
       "      <td>MoneyDJ新聞 2019-05-20 08:47:14 記者 郭妍希 報導中美貿易戰持續...</td>\n",
       "      <td>2019-05-20 08:47:00</td>\n",
       "      <td>華府轉硬！美情報總監密會科技高層、對中國危險性示警</td>\n",
       "    </tr>\n",
       "    <tr>\n",
       "      <th>93</th>\n",
       "      <td>MoneyDJ新聞 2019-05-20 07:16:50 記者 郭妍希 報導就在美國把華為...</td>\n",
       "      <td>2019-05-20 07:16:00</td>\n",
       "      <td>谷歌傳暫停部分華為業務！智慧機無法更新Android</td>\n",
       "    </tr>\n",
       "    <tr>\n",
       "      <th>94</th>\n",
       "      <td>認購/售\\n\\n歐/美式\\n\\n代號\\n\\n簡稱\\n\\n標的\\n\\n數量(仟單位)\\n\\n存...</td>\n",
       "      <td>2019-05-17 13:31:00</td>\n",
       "      <td>上市認購(售)權證5/20彙總表(1)</td>\n",
       "    </tr>\n",
       "    <tr>\n",
       "      <th>95</th>\n",
       "      <td>MoneyDJ新聞 2019-05-17 12:18:20 記者 郭妍希 報導華為(Huaw...</td>\n",
       "      <td>2019-05-17 12:18:00</td>\n",
       "      <td>外資：華為已囤1-2年零件庫存 惟日韓廠產能恐不夠應付</td>\n",
       "    </tr>\n",
       "    <tr>\n",
       "      <th>96</th>\n",
       "      <td>MoneyDJ新聞 2019-05-17 09:29:25 記者 蔡承啟 報導日本遊戲總合情...</td>\n",
       "      <td>2019-05-17 09:29:00</td>\n",
       "      <td>任天堂Switch日本累銷超越Sony PS4、銷售速度勝Wii</td>\n",
       "    </tr>\n",
       "    <tr>\n",
       "      <th>97</th>\n",
       "      <td>證券代號\\n\\n證券名稱\\n\\n成交數量\\n\\n成交金額\\n\\n成交價\\n\\n\\n2317\\...</td>\n",
       "      <td>2019-05-16 16:08:00</td>\n",
       "      <td>5/16證交所盤後定價交易成交金額前20名排行</td>\n",
       "    </tr>\n",
       "    <tr>\n",
       "      <th>98</th>\n",
       "      <td>認購/售\\n\\n歐/美式\\n\\n代號\\n\\n簡稱\\n\\n標的\\n\\n數量(仟單位)\\n\\n存...</td>\n",
       "      <td>2019-05-16 13:31:00</td>\n",
       "      <td>上市認購(售)權證5/17彙總表(1)</td>\n",
       "    </tr>\n",
       "    <tr>\n",
       "      <th>99</th>\n",
       "      <td>MoneyDJ新聞 2019-05-16 10:42:30 記者 郭妍希 報導美國商務部週三...</td>\n",
       "      <td>2019-05-16 10:42:00</td>\n",
       "      <td>華為遭美國列貿易黑名單！川普宣布國家進入緊急狀態</td>\n",
       "    </tr>\n",
       "  </tbody>\n",
       "</table>\n",
       "<p>100 rows × 3 columns</p>\n",
       "</div>"
      ],
      "text/plain": [
       "                                              content                  dt  \\\n",
       "0   證券代號\\n\\n證券名稱\\n\\n成交股數\\n\\n成交金額\\n\\n成交價\\n\\n\\n2823\\... 2019-06-28 16:15:00   \n",
       "1   證券代號\\n\\n證券名稱\\n\\n成交數量\\n\\n成交金額\\n\\n成交價\\n\\n\\n1314\\... 2019-06-28 16:14:00   \n",
       "2   簡稱\\n\\n代號\\n\\n標的\\n\\n最後交易日\\n\\n終止上市日\\n\\n履約價\\n\\n行使比... 2019-06-28 13:42:00   \n",
       "3   簡稱\\n\\n代號\\n\\n標的\\n\\n最後交易日\\n\\n終止上市日\\n\\n履約價\\n\\n行使比... 2019-06-28 13:42:00   \n",
       "4   代號\\n\\n名稱\\n\\n類型\\n\\n標的\\n\\n原始履約價\\n\\n重設後履約價\\n\\n到期日... 2019-06-28 13:37:00   \n",
       "5   證券代號\\n\\n證券名稱\\n\\n成交股數\\n\\n成交金額\\n\\n成交價\\n\\n\\n2317\\... 2019-06-27 15:59:00   \n",
       "6   證券代號\\n\\n證券名稱\\n\\n成交數量\\n\\n成交金額\\n\\n成交價\\n\\n\\n2514\\... 2019-06-27 15:59:00   \n",
       "7   簡稱\\n\\n代號\\n\\n標的\\n\\n最後交易日\\n\\n終止上市日\\n\\n履約價\\n\\n行使比... 2019-06-27 13:43:00   \n",
       "8   簡稱\\n\\n代號\\n\\n標的\\n\\n最後交易日\\n\\n終止上市日\\n\\n履約價\\n\\n行使比... 2019-06-27 13:43:00   \n",
       "9   簡稱\\n\\n代號\\n\\n標的\\n\\n最後交易日\\n\\n終止上市日\\n\\n履約價\\n\\n行使比... 2019-06-27 13:40:00   \n",
       "10  認購/售\\n\\n歐/美式\\n\\n代號\\n\\n簡稱\\n\\n標的\\n\\n數量(仟單位)\\n\\n存... 2019-06-27 13:38:00   \n",
       "11  認購/售\\n\\n歐/美式\\n\\n代號\\n\\n簡稱\\n\\n標的\\n\\n數量(仟單位)\\n\\n存... 2019-06-27 13:37:00   \n",
       "12  代號\\n\\n名稱\\n\\n類型\\n\\n標的\\n\\n原始履約價\\n\\n重設後履約價\\n\\n到期日... 2019-06-27 13:37:00   \n",
       "13  證券代號\\n\\n證券名稱\\n\\n成交股數\\n\\n成交金額\\n\\n成交價\\n\\n\\n5876\\... 2019-06-26 16:07:00   \n",
       "14  證券代號\\n\\n證券名稱\\n\\n成交數量\\n\\n成交金額\\n\\n成交價\\n\\n\\n1314\\... 2019-06-26 16:06:00   \n",
       "15  MoneyDJ新聞 2019-06-26 15:06:39 記者 李彥瑾 報導南韓記憶體大廠... 2019-06-26 15:06:00   \n",
       "16  認購/售\\n\\n歐/美式\\n\\n代號\\n\\n簡稱\\n\\n標的\\n\\n數量(仟單位)\\n\\n存... 2019-06-26 13:33:00   \n",
       "17  公開資訊觀測站重大訊息公告(2337)旺宏-本公司受邀參加UBS舉辦之「UBS Taiwan... 2019-06-25 16:37:00   \n",
       "18  認購/售\\n\\n歐/美式\\n\\n代號\\n\\n簡稱\\n\\n標的\\n\\n數量(仟單位)\\n\\n存... 2019-06-25 13:39:00   \n",
       "19  代號\\n\\n名稱\\n\\n類型\\n\\n標的\\n\\n原始履約價\\n\\n重設後履約價\\n\\n到期日... 2019-06-25 13:39:00   \n",
       "20  簡稱\\n\\n代號\\n\\n標的\\n\\n最後交易日\\n\\n終止上市日\\n\\n履約價\\n\\n行使比... 2019-06-25 13:38:00   \n",
       "21  簡稱\\n\\n代號\\n\\n標的\\n\\n最後交易日\\n\\n終止上市日\\n\\n履約價\\n\\n行使比... 2019-06-25 13:38:00   \n",
       "22  簡稱\\n\\n代號\\n\\n標的\\n\\n最後交易日\\n\\n終止上市日\\n\\n履約價\\n\\n行使比... 2019-06-25 13:37:00   \n",
       "23  簡稱\\n\\n代號\\n\\n標的\\n\\n最後交易日\\n\\n終止上市日\\n\\n履約價\\n\\n行使比... 2019-06-25 13:35:00   \n",
       "24  證券代號\\n\\n證券名稱\\n\\n成交股數\\n\\n成交金額\\n\\n成交價\\n\\n\\n2317\\... 2019-06-24 16:10:00   \n",
       "25  認購/售\\n\\n歐/美式\\n\\n代號\\n\\n簡稱\\n\\n標的\\n\\n數量(仟單位)\\n\\n存... 2019-06-24 13:34:00   \n",
       "26                                                    2019-06-24 08:04:00   \n",
       "27  證券代號\\n\\n證券名稱\\n\\n成交數量\\n\\n成交金額\\n\\n成交價\\n\\n\\n2330\\... 2019-06-21 16:08:00   \n",
       "28  認購/售\\n\\n歐/美式\\n\\n代號\\n\\n簡稱\\n\\n標的\\n\\n數量(仟單位)\\n\\n存... 2019-06-21 13:34:00   \n",
       "29  MoneyDJ新聞 2019-06-21 11:34:41 記者 蔡承啟 報導日本媒體new... 2019-06-21 11:34:00   \n",
       "..                                                ...                 ...   \n",
       "70  證券代號\\n\\n證券名稱\\n\\n成交數量\\n\\n成交金額\\n\\n成交價\\n\\n\\n3406\\... 2019-05-27 16:07:00   \n",
       "71  簡稱\\n\\n代號\\n\\n標的\\n\\n最後交易日\\n\\n終止上市日\\n\\n履約價\\n\\n行使比... 2019-05-27 13:33:00   \n",
       "72  認購/售\\n\\n歐/美式\\n\\n代號\\n\\n簡稱\\n\\n標的\\n\\n數量(仟單位)\\n\\n存... 2019-05-27 13:31:00   \n",
       "73  證券代號\\n\\n證券名稱\\n\\n成交數量\\n\\n成交金額\\n\\n成交價\\n\\n\\n3406\\... 2019-05-24 16:08:00   \n",
       "74  認購/售\\n\\n歐/美式\\n\\n代號\\n\\n簡稱\\n\\n標的\\n\\n數量(仟單位)\\n\\n存... 2019-05-24 13:41:00   \n",
       "75  認購/售\\n\\n歐/美式\\n\\n代號\\n\\n簡稱\\n\\n標的\\n\\n數量(仟單位)\\n\\n存... 2019-05-24 13:41:00   \n",
       "76  簡稱\\n\\n代號\\n\\n標的\\n\\n最後交易日\\n\\n終止上市日\\n\\n履約價\\n\\n行使比... 2019-05-24 13:39:00   \n",
       "77  簡稱\\n\\n代號\\n\\n標的\\n\\n最後交易日\\n\\n終止上市日\\n\\n履約價\\n\\n行使比... 2019-05-24 13:35:00   \n",
       "78  MoneyDJ新聞 2019-05-24 08:52:13 記者 郭妍希 報導美國總統川普(... 2019-05-24 08:52:00   \n",
       "79  簡稱\\n\\n代號\\n\\n標的\\n\\n最後交易日\\n\\n終止上市日\\n\\n履約價\\n\\n行使比... 2019-05-23 13:34:00   \n",
       "80  簡稱\\n\\n代號\\n\\n標的\\n\\n最後交易日\\n\\n終止上市日\\n\\n履約價\\n\\n行使比... 2019-05-23 13:33:00   \n",
       "81  MoneyDJ新聞 2019-05-23 11:24:57 記者 郭妍希 報導白宮前首席策略... 2019-05-23 11:24:00   \n",
       "82  認購/售\\n\\n歐/美式\\n\\n代號\\n\\n簡稱\\n\\n標的\\n\\n數量(仟單位)\\n\\n存... 2019-05-22 13:33:00   \n",
       "83  MoneyDJ新聞 2019-05-22 12:34:10 記者 郭妍希 報導功率放大器(P... 2019-05-22 12:34:00   \n",
       "84  MoneyDJ新聞 2019-05-22 10:39:35 記者 蔡承啟 報導美國川普政權於... 2019-05-22 10:39:00   \n",
       "85  公開資訊觀測站重大訊息公告\\n(2337)旺宏本公司受邀參加 CLSA 證券舉辦之CLSA ... 2019-05-22 06:10:00   \n",
       "86  MoneyDJ新聞 2019-05-21 10:19:02 記者 郭妍希 報導蘋果(Appl... 2019-05-21 10:19:00   \n",
       "87  MoneyDJ新聞 2019-05-21 08:51:06 記者 郭妍希 報導美國政府週一(... 2019-05-21 08:51:00   \n",
       "88  MoneyDJ新聞 2019-05-21 07:40:32 記者 蔡承啟 報導美國川普政權對... 2019-05-21 07:40:00   \n",
       "89  證券代號\\n\\n證券名稱\\n\\n成交數量\\n\\n成交金額\\n\\n成交價\\n\\n\\n2330\\... 2019-05-20 16:05:00   \n",
       "90  MoneyDJ新聞 2019-05-20 14:24:13 記者 郭妍希 報導在稍早傳出Al... 2019-05-20 14:24:00   \n",
       "91  認購/售\\n\\n歐/美式\\n\\n代號\\n\\n簡稱\\n\\n標的\\n\\n數量(仟單位)\\n\\n存... 2019-05-20 13:31:00   \n",
       "92  MoneyDJ新聞 2019-05-20 08:47:14 記者 郭妍希 報導中美貿易戰持續... 2019-05-20 08:47:00   \n",
       "93  MoneyDJ新聞 2019-05-20 07:16:50 記者 郭妍希 報導就在美國把華為... 2019-05-20 07:16:00   \n",
       "94  認購/售\\n\\n歐/美式\\n\\n代號\\n\\n簡稱\\n\\n標的\\n\\n數量(仟單位)\\n\\n存... 2019-05-17 13:31:00   \n",
       "95  MoneyDJ新聞 2019-05-17 12:18:20 記者 郭妍希 報導華為(Huaw... 2019-05-17 12:18:00   \n",
       "96  MoneyDJ新聞 2019-05-17 09:29:25 記者 蔡承啟 報導日本遊戲總合情... 2019-05-17 09:29:00   \n",
       "97  證券代號\\n\\n證券名稱\\n\\n成交數量\\n\\n成交金額\\n\\n成交價\\n\\n\\n2317\\... 2019-05-16 16:08:00   \n",
       "98  認購/售\\n\\n歐/美式\\n\\n代號\\n\\n簡稱\\n\\n標的\\n\\n數量(仟單位)\\n\\n存... 2019-05-16 13:31:00   \n",
       "99  MoneyDJ新聞 2019-05-16 10:42:30 記者 郭妍希 報導美國商務部週三... 2019-05-16 10:42:00   \n",
       "\n",
       "                               title  \n",
       "0              6/28證交所零股交易成交股數前20名排行  \n",
       "1            6/28證交所盤後定價交易成交金額前20名排行  \n",
       "2              國票證券認購(售)權證終止上市彙總表(2)  \n",
       "3              國票證券認購(售)權證終止上市彙總表(1)  \n",
       "4              上市認購(售)權證6/28履約價重設彙總表  \n",
       "5              6/27證交所零股交易成交股數前20名排行  \n",
       "6            6/27證交所盤後定價交易成交金額前20名排行  \n",
       "7              兆豐證券認購(售)權證終止上市彙總表(1)  \n",
       "8             永豐金證券認購(售)權證終止上市彙總表(3)  \n",
       "9            群益金鼎證券認購(售)權證終止上市彙總表(3)  \n",
       "10               上市認購(售)權證6/28彙總表(3)  \n",
       "11               上市認購(售)權證6/28彙總表(1)  \n",
       "12             上市認購(售)權證6/27履約價重設彙總表  \n",
       "13             6/26證交所零股交易成交股數前20名排行  \n",
       "14           6/26證交所盤後定價交易成交金額前20名排行  \n",
       "15   SK海力士搶先量產 業界首款128層4D NAND Flash  \n",
       "16               上市認購(售)權證6/27彙總表(1)  \n",
       "17              旺宏6/27~28參加UBS舉辦之法說會  \n",
       "18               上市認購(售)權證6/26彙總表(1)  \n",
       "19             上市認購(售)權證6/25履約價重設彙總表  \n",
       "20             元大證券認購(售)權證終止上市彙總表(9)  \n",
       "21             元大證券認購(售)權證終止上市彙總表(8)  \n",
       "22             元大證券認購(售)權證終止上市彙總表(5)  \n",
       "23             元大證券認購(售)權證終止上市彙總表(1)  \n",
       "24             6/24證交所零股交易成交股數前20名排行  \n",
       "25               上市認購(售)權證6/25彙總表(2)  \n",
       "26     啃蘋果 旺宏/華邦電/康控-KY吞補丸(工商時報，無內文)  \n",
       "27           6/21證交所盤後定價交易成交金額前20名排行  \n",
       "28               上市認購(售)權證6/24彙總表(1)  \n",
       "29           華為風暴影響！美光日本DRAM廠投資計畫傳延期  \n",
       "..                               ...  \n",
       "70           5/27證交所盤後定價交易成交金額前20名排行  \n",
       "71             國票證券認購(售)權證終止上市彙總表(3)  \n",
       "72               上市認購(售)權證5/28彙總表(1)  \n",
       "73           5/24證交所盤後定價交易成交金額前20名排行  \n",
       "74               上市認購(售)權證5/27彙總表(2)  \n",
       "75               上市認購(售)權證5/27彙總表(1)  \n",
       "76            元大證券認購(售)權證終止上市彙總表(10)  \n",
       "77             元大證券認購(售)權證終止上市彙總表(1)  \n",
       "78            川普：華為「很危險」，可能會納入中美貿易協議  \n",
       "79             元富證券認購(售)權證終止上市彙總表(4)  \n",
       "80             元富證券認購(售)權證終止上市彙總表(3)  \n",
       "81         川普前顧問巴農：把華為趕出歐美、比貿易協議重要十倍  \n",
       "82               上市認購(售)權證5/23彙總表(3)  \n",
       "83      本週第2家！Qorvo「斷供」華為、砍財測 股價跌深反彈  \n",
       "84          美擬祭第4波對陸關稅、日企傷腦筋；任天堂：影響大  \n",
       "85           旺宏5/22~24參加CLSA證券舉辦之法說會  \n",
       "86      華為禁令來首家！Lumentum宣布斷貨、砍財測 股價瀉  \n",
       "87         美發臨時執照 暫允華為更新手機維護網路！美股期指漲  \n",
       "88         英飛凌美國工廠停止對華為出貨；意法半導體傳開會評估  \n",
       "89           5/20證交所盤後定價交易成交金額前20名排行  \n",
       "90      軟硬體皆斷鏈！傳英特爾、Xilinx等晶片廠切斷華為供應  \n",
       "91               上市認購(售)權證5/21彙總表(2)  \n",
       "92         華府轉硬！美情報總監密會科技高層、對中國危險性示警  \n",
       "93        谷歌傳暫停部分華為業務！智慧機無法更新Android  \n",
       "94               上市認購(售)權證5/20彙總表(1)  \n",
       "95       外資：華為已囤1-2年零件庫存 惟日韓廠產能恐不夠應付  \n",
       "96  任天堂Switch日本累銷超越Sony PS4、銷售速度勝Wii  \n",
       "97           5/16證交所盤後定價交易成交金額前20名排行  \n",
       "98               上市認購(售)權證5/17彙總表(1)  \n",
       "99          華為遭美國列貿易黑名單！川普宣布國家進入緊急狀態  \n",
       "\n",
       "[100 rows x 3 columns]"
      ]
     },
     "execution_count": 240,
     "metadata": {},
     "output_type": "execute_result"
    }
   ],
   "source": [
    "import pandas\n",
    "df = pandas.DataFrame(dataary)\n",
    "df"
   ]
  },
  {
   "cell_type": "code",
   "execution_count": null,
   "metadata": {},
   "outputs": [],
   "source": []
  }
 ],
 "metadata": {
  "kernelspec": {
   "display_name": "Python 3",
   "language": "python",
   "name": "python3"
  },
  "language_info": {
   "codemirror_mode": {
    "name": "ipython",
    "version": 3
   },
   "file_extension": ".py",
   "mimetype": "text/x-python",
   "name": "python",
   "nbconvert_exporter": "python",
   "pygments_lexer": "ipython3",
   "version": "3.6.2"
  }
 },
 "nbformat": 4,
 "nbformat_minor": 2
}
