{
 "cells": [
  {
   "cell_type": "markdown",
   "metadata": {},
   "source": [
    "## Python Basic"
   ]
  },
  {
   "cell_type": "code",
   "execution_count": 1,
   "metadata": {},
   "outputs": [
    {
     "data": {
      "text/plain": [
       "5"
      ]
     },
     "execution_count": 1,
     "metadata": {},
     "output_type": "execute_result"
    }
   ],
   "source": [
    "a = 3\n",
    "b = 2\n",
    "a + b"
   ]
  },
  {
   "cell_type": "markdown",
   "metadata": {},
   "source": [
    "## 證交所網路爬蟲"
   ]
  },
  {
   "cell_type": "code",
   "execution_count": 2,
   "metadata": {},
   "outputs": [
    {
     "data": {
      "text/plain": [
       "<Response [200]>"
      ]
     },
     "execution_count": 2,
     "metadata": {},
     "output_type": "execute_result"
    }
   ],
   "source": [
    "import requests\n",
    "url = 'https://www.twse.com.tw/exchangeReport/MI_INDEX?response=json&date=20190628&type=ALLBUT0999&_=1561775069945'\n",
    "res = requests.get(url)\n",
    "res"
   ]
  },
  {
   "cell_type": "code",
   "execution_count": 5,
   "metadata": {},
   "outputs": [],
   "source": [
    "# .json => 將 JSON 資料轉換為 Python 字典\n",
    "jd = res.json()"
   ]
  },
  {
   "cell_type": "code",
   "execution_count": 7,
   "metadata": {},
   "outputs": [
    {
     "data": {
      "text/plain": [
       "dict_keys(['data4', 'fields1', 'subtitle4', 'notes4', 'data5', 'date', 'alignsStyle1', 'groups5', 'fields4', 'stat', 'alignsStyle2', 'data3', 'data1', 'fields3', 'subtitle5', 'fields2', 'alignsStyle4', 'subtitle1', 'fields5', 'alignsStyle5', 'data2', 'params', 'alignsStyle3', 'notes5'])"
      ]
     },
     "execution_count": 7,
     "metadata": {},
     "output_type": "execute_result"
    }
   ],
   "source": [
    "# 列出資料所有的索引\n",
    "jd.keys()"
   ]
  },
  {
   "cell_type": "code",
   "execution_count": 11,
   "metadata": {},
   "outputs": [
    {
     "data": {
      "text/plain": [
       "['證券代號',\n",
       " '證券名稱',\n",
       " '成交股數',\n",
       " '成交筆數',\n",
       " '成交金額',\n",
       " '開盤價',\n",
       " '最高價',\n",
       " '最低價',\n",
       " '收盤價',\n",
       " '漲跌(+/-)',\n",
       " '漲跌價差',\n",
       " '最後揭示買價',\n",
       " '最後揭示買量',\n",
       " '最後揭示賣價',\n",
       " '最後揭示賣量',\n",
       " '本益比']"
      ]
     },
     "execution_count": 11,
     "metadata": {},
     "output_type": "execute_result"
    }
   ],
   "source": [
    "# 資料欄位\n",
    "jd['fields5']"
   ]
  },
  {
   "cell_type": "code",
   "execution_count": 14,
   "metadata": {},
   "outputs": [
    {
     "data": {
      "text/html": [
       "<div>\n",
       "<style scoped>\n",
       "    .dataframe tbody tr th:only-of-type {\n",
       "        vertical-align: middle;\n",
       "    }\n",
       "\n",
       "    .dataframe tbody tr th {\n",
       "        vertical-align: top;\n",
       "    }\n",
       "\n",
       "    .dataframe thead th {\n",
       "        text-align: right;\n",
       "    }\n",
       "</style>\n",
       "<table border=\"1\" class=\"dataframe\">\n",
       "  <thead>\n",
       "    <tr style=\"text-align: right;\">\n",
       "      <th></th>\n",
       "      <th>證券代號</th>\n",
       "      <th>證券名稱</th>\n",
       "      <th>成交股數</th>\n",
       "      <th>成交筆數</th>\n",
       "      <th>成交金額</th>\n",
       "      <th>開盤價</th>\n",
       "      <th>最高價</th>\n",
       "      <th>最低價</th>\n",
       "      <th>收盤價</th>\n",
       "      <th>漲跌(+/-)</th>\n",
       "      <th>漲跌價差</th>\n",
       "      <th>最後揭示買價</th>\n",
       "      <th>最後揭示買量</th>\n",
       "      <th>最後揭示賣價</th>\n",
       "      <th>最後揭示賣量</th>\n",
       "      <th>本益比</th>\n",
       "    </tr>\n",
       "  </thead>\n",
       "  <tbody>\n",
       "    <tr>\n",
       "      <th>0</th>\n",
       "      <td>0050</td>\n",
       "      <td>元大台灣50</td>\n",
       "      <td>3,940,686</td>\n",
       "      <td>1,867</td>\n",
       "      <td>319,369,533</td>\n",
       "      <td>81.45</td>\n",
       "      <td>81.55</td>\n",
       "      <td>80.85</td>\n",
       "      <td>80.90</td>\n",
       "      <td>&lt;p style= color:green&gt;-&lt;/p&gt;</td>\n",
       "      <td>0.60</td>\n",
       "      <td>80.90</td>\n",
       "      <td>246</td>\n",
       "      <td>80.95</td>\n",
       "      <td>2</td>\n",
       "      <td>0.00</td>\n",
       "    </tr>\n",
       "    <tr>\n",
       "      <th>1</th>\n",
       "      <td>0051</td>\n",
       "      <td>元大中型100</td>\n",
       "      <td>6,098</td>\n",
       "      <td>7</td>\n",
       "      <td>195,904</td>\n",
       "      <td>32.20</td>\n",
       "      <td>32.20</td>\n",
       "      <td>32.10</td>\n",
       "      <td>32.10</td>\n",
       "      <td>&lt;p style= color:green&gt;-&lt;/p&gt;</td>\n",
       "      <td>0.08</td>\n",
       "      <td>32.10</td>\n",
       "      <td>1</td>\n",
       "      <td>32.20</td>\n",
       "      <td>4</td>\n",
       "      <td>0.00</td>\n",
       "    </tr>\n",
       "    <tr>\n",
       "      <th>2</th>\n",
       "      <td>0052</td>\n",
       "      <td>富邦科技</td>\n",
       "      <td>107,219</td>\n",
       "      <td>11</td>\n",
       "      <td>5,694,107</td>\n",
       "      <td>53.45</td>\n",
       "      <td>53.45</td>\n",
       "      <td>52.95</td>\n",
       "      <td>53.10</td>\n",
       "      <td>&lt;p style= color:green&gt;-&lt;/p&gt;</td>\n",
       "      <td>0.35</td>\n",
       "      <td>52.95</td>\n",
       "      <td>1</td>\n",
       "      <td>53.30</td>\n",
       "      <td>10</td>\n",
       "      <td>0.00</td>\n",
       "    </tr>\n",
       "    <tr>\n",
       "      <th>3</th>\n",
       "      <td>0053</td>\n",
       "      <td>元大電子</td>\n",
       "      <td>59,000</td>\n",
       "      <td>7</td>\n",
       "      <td>2,010,260</td>\n",
       "      <td>34.17</td>\n",
       "      <td>34.17</td>\n",
       "      <td>34.01</td>\n",
       "      <td>34.01</td>\n",
       "      <td>&lt;p style= color:green&gt;-&lt;/p&gt;</td>\n",
       "      <td>0.16</td>\n",
       "      <td>34.00</td>\n",
       "      <td>30</td>\n",
       "      <td>34.10</td>\n",
       "      <td>1</td>\n",
       "      <td>0.00</td>\n",
       "    </tr>\n",
       "    <tr>\n",
       "      <th>4</th>\n",
       "      <td>0054</td>\n",
       "      <td>元大台商50</td>\n",
       "      <td>5,000</td>\n",
       "      <td>3</td>\n",
       "      <td>111,080</td>\n",
       "      <td>22.20</td>\n",
       "      <td>22.31</td>\n",
       "      <td>22.19</td>\n",
       "      <td>22.31</td>\n",
       "      <td>&lt;p style= color:red&gt;+&lt;/p&gt;</td>\n",
       "      <td>0.11</td>\n",
       "      <td>22.20</td>\n",
       "      <td>75</td>\n",
       "      <td>22.31</td>\n",
       "      <td>8</td>\n",
       "      <td>0.00</td>\n",
       "    </tr>\n",
       "  </tbody>\n",
       "</table>\n",
       "</div>"
      ],
      "text/plain": [
       "   證券代號     證券名稱       成交股數   成交筆數         成交金額    開盤價    最高價    最低價    收盤價  \\\n",
       "0  0050   元大台灣50  3,940,686  1,867  319,369,533  81.45  81.55  80.85  80.90   \n",
       "1  0051  元大中型100      6,098      7      195,904  32.20  32.20  32.10  32.10   \n",
       "2  0052     富邦科技    107,219     11    5,694,107  53.45  53.45  52.95  53.10   \n",
       "3  0053     元大電子     59,000      7    2,010,260  34.17  34.17  34.01  34.01   \n",
       "4  0054   元大台商50      5,000      3      111,080  22.20  22.31  22.19  22.31   \n",
       "\n",
       "                       漲跌(+/-)  漲跌價差 最後揭示買價 最後揭示買量 最後揭示賣價 最後揭示賣量   本益比  \n",
       "0  <p style= color:green>-</p>  0.60  80.90    246  80.95      2  0.00  \n",
       "1  <p style= color:green>-</p>  0.08  32.10      1  32.20      4  0.00  \n",
       "2  <p style= color:green>-</p>  0.35  52.95      1  53.30     10  0.00  \n",
       "3  <p style= color:green>-</p>  0.16  34.00     30  34.10      1  0.00  \n",
       "4    <p style= color:red>+</p>  0.11  22.20     75  22.31      8  0.00  "
      ]
     },
     "execution_count": 14,
     "metadata": {},
     "output_type": "execute_result"
    }
   ],
   "source": [
    "import pandas\n",
    "df = pandas.DataFrame(jd['data5'])\n",
    "df.columns = jd['fields5']\n",
    "df.head()"
   ]
  },
  {
   "cell_type": "code",
   "execution_count": 15,
   "metadata": {},
   "outputs": [
    {
     "data": {
      "text/plain": [
       "1096"
      ]
     },
     "execution_count": 15,
     "metadata": {},
     "output_type": "execute_result"
    }
   ],
   "source": [
    "len(df)"
   ]
  },
  {
   "cell_type": "markdown",
   "metadata": {},
   "source": [
    "## HTTP Status Code\n",
    "- https://zh.wikipedia.org/wiki/HTTP%E7%8A%B6%E6%80%81%E7%A0%81"
   ]
  },
  {
   "cell_type": "code",
   "execution_count": null,
   "metadata": {},
   "outputs": [],
   "source": []
  }
 ],
 "metadata": {
  "kernelspec": {
   "display_name": "Python 3",
   "language": "python",
   "name": "python3"
  },
  "language_info": {
   "codemirror_mode": {
    "name": "ipython",
    "version": 3
   },
   "file_extension": ".py",
   "mimetype": "text/x-python",
   "name": "python",
   "nbconvert_exporter": "python",
   "pygments_lexer": "ipython3",
   "version": "3.6.2"
  }
 },
 "nbformat": 4,
 "nbformat_minor": 2
}
